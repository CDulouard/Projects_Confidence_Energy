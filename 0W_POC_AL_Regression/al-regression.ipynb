{
 "cells": [
  {
   "cell_type": "code",
   "execution_count": 1,
   "metadata": {
    "_cell_guid": "b1076dfc-b9ad-4769-8c92-a6c4dae69d19",
    "_uuid": "8f2839f25d086af736a60e9eeb907d3b93b6e0e5",
    "execution": {
     "iopub.execute_input": "2023-10-02T22:18:46.536667Z",
     "iopub.status.busy": "2023-10-02T22:18:46.535671Z",
     "iopub.status.idle": "2023-10-02T22:18:47.650316Z",
     "shell.execute_reply": "2023-10-02T22:18:47.649669Z",
     "shell.execute_reply.started": "2023-10-02T21:46:07.179589Z"
    },
    "papermill": {
     "duration": 1.128722,
     "end_time": "2023-10-02T22:18:47.650435",
     "exception": false,
     "start_time": "2023-10-02T22:18:46.521713",
     "status": "completed"
    },
    "tags": []
   },
   "outputs": [],
   "source": [
    "import numpy as np\n",
    "import pandas as pd\n",
    "from tqdm import tqdm\n",
    "from sklearn.model_selection import KFold\n",
    "from sklearn.metrics import mean_absolute_error\n",
    "from sklearn.ensemble import RandomForestRegressor\n",
    "from sklearn.model_selection import train_test_split"
   ]
  },
  {
   "cell_type": "code",
   "execution_count": 10,
   "metadata": {
    "_cell_guid": "79c7e3d0-c299-4dcb-8224-4455121ee9b0",
    "_uuid": "d629ff2d2480ee46fbb7e2d37f6b5fab8052498a",
    "execution": {
     "iopub.execute_input": "2023-10-02T22:18:47.679869Z",
     "iopub.status.busy": "2023-10-02T22:18:47.679232Z",
     "iopub.status.idle": "2023-10-02T22:18:47.768050Z",
     "shell.execute_reply": "2023-10-02T22:18:47.767332Z",
     "shell.execute_reply.started": "2023-10-02T21:46:07.396366Z"
    },
    "papermill": {
     "duration": 0.107226,
     "end_time": "2023-10-02T22:18:47.768171",
     "exception": false,
     "start_time": "2023-10-02T22:18:47.660945",
     "status": "completed"
    },
    "tags": []
   },
   "outputs": [],
   "source": [
    "melbourne_file_path = 'data/melbourne-housing-snapshot/melb_data.csv'\n",
    "melbourne_data = pd.read_csv(melbourne_file_path)"
   ]
  },
  {
   "cell_type": "raw",
   "metadata": {
    "execution": {
     "iopub.execute_input": "2023-10-02T22:18:47.794552Z",
     "iopub.status.busy": "2023-10-02T22:18:47.793883Z",
     "iopub.status.idle": "2023-10-02T22:18:47.829621Z",
     "shell.execute_reply": "2023-10-02T22:18:47.829068Z",
     "shell.execute_reply.started": "2023-10-02T21:46:07.723849Z"
    },
    "papermill": {
     "duration": 0.051794,
     "end_time": "2023-10-02T22:18:47.829740",
     "exception": false,
     "start_time": "2023-10-02T22:18:47.777946",
     "status": "completed"
    },
    "tags": []
   },
   "source": [
    "iowa_file_path = 'data/home-data-for-ml-course/train.csv'\n",
    "iowa_data = pd.read_csv(iowa_file_path)"
   ]
  },
  {
   "cell_type": "markdown",
   "metadata": {
    "papermill": {
     "duration": 0.009349,
     "end_time": "2023-10-02T22:18:47.848749",
     "exception": false,
     "start_time": "2023-10-02T22:18:47.839400",
     "status": "completed"
    },
    "tags": []
   },
   "source": [
    "# simple DecisionTreeRegressor model creation"
   ]
  },
  {
   "cell_type": "code",
   "execution_count": 11,
   "metadata": {
    "execution": {
     "iopub.execute_input": "2023-10-02T22:18:47.873604Z",
     "iopub.status.busy": "2023-10-02T22:18:47.872874Z",
     "iopub.status.idle": "2023-10-02T22:18:47.910159Z",
     "shell.execute_reply": "2023-10-02T22:18:47.910709Z",
     "shell.execute_reply.started": "2023-10-02T21:46:08.141446Z"
    },
    "papermill": {
     "duration": 0.052592,
     "end_time": "2023-10-02T22:18:47.910865",
     "exception": false,
     "start_time": "2023-10-02T22:18:47.858273",
     "status": "completed"
    },
    "tags": []
   },
   "outputs": [],
   "source": [
    "# drops missing values\n",
    "melbourne_data = melbourne_data.dropna(axis=0)\n",
    "\n",
    "# target variable y\n",
    "y = melbourne_data.Price\n",
    "\n",
    "# features selected for judgement\n",
    "melbourne_features = ['Rooms', 'Bathroom', 'Landsize', 'Lattitude', 'Longtitude']\n",
    "X = melbourne_data[melbourne_features]"
   ]
  },
  {
   "cell_type": "markdown",
   "metadata": {
    "papermill": {
     "duration": 0.00921,
     "end_time": "2023-10-02T22:18:47.930467",
     "exception": false,
     "start_time": "2023-10-02T22:18:47.921257",
     "status": "completed"
    },
    "tags": []
   },
   "source": [
    "# validation"
   ]
  },
  {
   "cell_type": "code",
   "execution_count": 12,
   "metadata": {
    "execution": {
     "iopub.execute_input": "2023-10-02T22:18:47.952586Z",
     "iopub.status.busy": "2023-10-02T22:18:47.951941Z",
     "iopub.status.idle": "2023-10-02T22:18:47.957874Z",
     "shell.execute_reply": "2023-10-02T22:18:47.958329Z",
     "shell.execute_reply.started": "2023-10-02T21:46:08.558071Z"
    },
    "papermill": {
     "duration": 0.018611,
     "end_time": "2023-10-02T22:18:47.958489",
     "exception": false,
     "start_time": "2023-10-02T22:18:47.939878",
     "status": "completed"
    },
    "tags": []
   },
   "outputs": [],
   "source": [
    "X, y = X.values, y.values\n",
    "train_X, val_X, train_y, val_y = train_test_split(X, y, random_state = 42, shuffle=True, test_size=0.10)"
   ]
  },
  {
   "cell_type": "code",
   "execution_count": 13,
   "metadata": {
    "execution": {
     "iopub.execute_input": "2023-10-02T22:18:47.981285Z",
     "iopub.status.busy": "2023-10-02T22:18:47.980661Z",
     "iopub.status.idle": "2023-10-02T22:18:47.995049Z",
     "shell.execute_reply": "2023-10-02T22:18:47.995482Z",
     "shell.execute_reply.started": "2023-10-02T21:46:09.057071Z"
    },
    "papermill": {
     "duration": 0.027471,
     "end_time": "2023-10-02T22:18:47.995654",
     "exception": false,
     "start_time": "2023-10-02T22:18:47.968183",
     "status": "completed"
    },
    "tags": []
   },
   "outputs": [],
   "source": [
    "def training_crossval_models(X,Y):\n",
    "    best_models = []\n",
    "    moyenne = 0\n",
    "    liste_predictions = []\n",
    "    liste_indexes = []\n",
    "    for i in tqdm(range(100)):\n",
    "        y_preds_class = None\n",
    "        \n",
    "        kf = KFold(n_splits=6, shuffle=True, random_state=np.random.randint(9,999))\n",
    "        for j, (train_index, test_index) in enumerate(kf.split(X)):\n",
    "            X_train, X_val = X[train_index], X[test_index]\n",
    "            Y_train, Y_val = Y[train_index], Y[test_index]\n",
    "            model = RandomForestRegressor(random_state=42)\n",
    "            model.fit(X_train, Y_train)\n",
    "            predictions = model.predict(X_val)\n",
    "            liste_predictions.append(predictions)\n",
    "            liste_indexes.append(test_index)\n",
    "    return liste_predictions, liste_indexes\n",
    "\n",
    "\n",
    "def correction_data(X, Y, liste_predictions, liste_indexes, topk=10):\n",
    "    dico = {}\n",
    "    for i in range(len(liste_predictions)):\n",
    "        liste_prediction = liste_predictions[i]\n",
    "        liste_index = liste_indexes[i]\n",
    "        for j in range(len(liste_index)):\n",
    "            if liste_index[j] not in dico:\n",
    "                dico[liste_index[j]] = [liste_prediction[j]]\n",
    "            else:\n",
    "                dico[liste_index[j]] += [liste_prediction[j]]\n",
    "\n",
    "    entropy = {}\n",
    "    values_mean = {}\n",
    "    for i in dico:\n",
    "        liste = []\n",
    "        for value_prediction in dico[i]:\n",
    "            liste.append((value_prediction-Y[i])**2)\n",
    "        liste = np.array(liste)\n",
    "        entropy_ = liste\n",
    "        entropy[i] = np.log(np.mean(entropy_))- 2*np.std(dico[i])\n",
    "        values_mean[i] = np.mean(dico[i])\n",
    "    liste = list(entropy.items())\n",
    "    keys, values = [], []\n",
    "    for i,j in liste:\n",
    "        keys.append(i)\n",
    "        values.append(j)\n",
    "        \n",
    "    indexes_sorted = np.argsort(values)[::-1][:topk]\n",
    "    keys = np.array(keys)[indexes_sorted]\n",
    "    values = np.array(values)[indexes_sorted]\n",
    "    for i,key_index in enumerate(keys):\n",
    "        Y[key_index] = values_mean[key_index]\n",
    "        \n",
    "    return Y"
   ]
  },
  {
   "cell_type": "code",
   "execution_count": null,
   "metadata": {
    "execution": {
     "iopub.execute_input": "2023-10-02T22:18:48.019515Z",
     "iopub.status.busy": "2023-10-02T22:18:48.018929Z"
    },
    "papermill": {
     "duration": 43200.015218,
     "end_time": "2023-10-03T10:18:48.020938",
     "exception": false,
     "start_time": "2023-10-02T22:18:48.005720",
     "status": "completed"
    },
    "tags": []
   },
   "outputs": [
    {
     "name": "stdout",
     "output_type": "stream",
     "text": [
      "Validation 0 MAE for best value of max_leaf_nodes: 418.03501\n"
     ]
    },
    {
     "name": "stderr",
     "output_type": "stream",
     "text": [
      " 23%|██▎       | 23/100 [03:18<11:50,  9.22s/it]"
     ]
    }
   ],
   "source": [
    "for i in range(150):\n",
    "    model = RandomForestRegressor(random_state=42)\n",
    "    model.fit(train_X, train_y)\n",
    "    val_predictions = model.predict(val_X)\n",
    "    val_mae = np.sqrt(mean_absolute_error(val_y, val_predictions))\n",
    "    print(\"Validation {} MAE for best value of max_leaf_nodes: {:,.5f}\".format(i, val_mae))\n",
    "    \n",
    "    liste_predictions, liste_indexes = training_crossval_models(train_X, train_y)\n",
    "    train_y = correction_data(train_X,train_y, liste_predictions, liste_indexes)\n",
    "\n",
    "# log(x) -2*std HAUT POTENTIEL (sans overflow)"
   ]
  },
  {
   "cell_type": "code",
   "execution_count": null,
   "metadata": {
    "papermill": {
     "duration": null,
     "end_time": null,
     "exception": null,
     "start_time": null,
     "status": "pending"
    },
    "tags": []
   },
   "outputs": [],
   "source": [
    "# refaire la formule basé sur l'AIC et la BIC\n",
    "# https://fr.wikipedia.org/wiki/Critère_d'information_d'Akaike"
   ]
  },
  {
   "cell_type": "code",
   "execution_count": null,
   "metadata": {
    "execution": {
     "iopub.status.busy": "2023-10-02T12:43:44.889196Z",
     "iopub.status.idle": "2023-10-02T12:43:44.890219Z"
    },
    "papermill": {
     "duration": null,
     "end_time": null,
     "exception": null,
     "start_time": null,
     "status": "pending"
    },
    "tags": []
   },
   "outputs": [],
   "source": [
    "log(x)-std est la transformation sans overflow de x/exp(std) \n",
    "plus std est petit et plus x est grand plus il doit etre corrigé\n",
    "TESTER log(x)-std**2 (parce que x au carré)\n",
    "trouver la formule avec brice"
   ]
  },
  {
   "cell_type": "code",
   "execution_count": null,
   "metadata": {
    "collapsed": true,
    "execution": {
     "iopub.execute_input": "2023-10-02T12:08:45.687185Z",
     "iopub.status.busy": "2023-10-02T12:08:45.686630Z",
     "iopub.status.idle": "2023-10-02T12:25:21.636896Z",
     "shell.execute_reply": "2023-10-02T12:25:21.634987Z",
     "shell.execute_reply.started": "2023-10-02T12:08:45.687142Z"
    },
    "jupyter": {
     "outputs_hidden": true
    },
    "papermill": {
     "duration": null,
     "end_time": null,
     "exception": null,
     "start_time": null,
     "status": "pending"
    },
    "tags": []
   },
   "outputs": [],
   "source": [
    "for i in range(150):\n",
    "    model = RandomForestRegressor(random_state=42)\n",
    "    model.fit(train_X, train_y)\n",
    "    val_predictions = model.predict(val_X)\n",
    "    val_mae = np.sqrt(mean_absolute_error(val_y,val_predictions))\n",
    "    print(\"Validation {} MAE for best value of max_leaf_nodes: {:,.5f}\".format(i, val_mae))\n",
    "    \n",
    "    liste_predictions, liste_indexes = training_crossval_models(train_X, train_y)\n",
    "    train_y = correction_data(train_X,train_y, liste_predictions, liste_indexes)\n",
    "    \n",
    "# x/exp(std) NON"
   ]
  },
  {
   "cell_type": "code",
   "execution_count": null,
   "metadata": {
    "execution": {
     "iopub.execute_input": "2023-10-02T11:59:19.515545Z",
     "iopub.status.busy": "2023-10-02T11:59:19.514315Z",
     "iopub.status.idle": "2023-10-02T12:07:43.407451Z",
     "shell.execute_reply": "2023-10-02T12:07:43.405340Z",
     "shell.execute_reply.started": "2023-10-02T11:59:19.515489Z"
    },
    "papermill": {
     "duration": null,
     "end_time": null,
     "exception": null,
     "start_time": null,
     "status": "pending"
    },
    "tags": []
   },
   "outputs": [],
   "source": [
    "for i in range(150):\n",
    "    model = RandomForestRegressor(random_state=42)\n",
    "    model.fit(train_X, train_y)\n",
    "    val_predictions = model.predict(val_X)\n",
    "    val_mae = np.sqrt(mean_absolute_error(val_y,val_predictions))\n",
    "    print(\"Validation {} MAE for best value of max_leaf_nodes: {:,.5f}\".format(i, val_mae))\n",
    "    \n",
    "    liste_predictions, liste_indexes = training_crossval_models(train_X, train_y)\n",
    "    train_y = correction_data(train_X,train_y, liste_predictions, liste_indexes)\n",
    "    \n",
    "# x*exp(x)/std NON"
   ]
  },
  {
   "cell_type": "code",
   "execution_count": null,
   "metadata": {
    "collapsed": true,
    "execution": {
     "iopub.execute_input": "2023-10-02T11:00:49.006811Z",
     "iopub.status.busy": "2023-10-02T11:00:49.006421Z",
     "iopub.status.idle": "2023-10-02T11:58:42.755381Z",
     "shell.execute_reply": "2023-10-02T11:58:42.750686Z",
     "shell.execute_reply.started": "2023-10-02T11:00:49.006772Z"
    },
    "jupyter": {
     "outputs_hidden": true
    },
    "papermill": {
     "duration": null,
     "end_time": null,
     "exception": null,
     "start_time": null,
     "status": "pending"
    },
    "tags": []
   },
   "outputs": [],
   "source": [
    "for i in range(150):\n",
    "    model = RandomForestRegressor(random_state=42)\n",
    "    model.fit(train_X, train_y)\n",
    "    val_predictions = model.predict(val_X)\n",
    "    val_mae = np.sqrt(mean_absolute_error(val_y,val_predictions))\n",
    "    print(\"Validation {} MAE for best value of max_leaf_nodes: {:,.5f}\".format(i, val_mae))\n",
    "    \n",
    "    liste_predictions, liste_indexes = training_crossval_models(train_X, train_y)\n",
    "    train_y = correction_data(train_X,train_y, liste_predictions, liste_indexes)\n",
    "\n",
    "# exp(-x)/x/std NON"
   ]
  },
  {
   "cell_type": "code",
   "execution_count": null,
   "metadata": {
    "execution": {
     "iopub.status.busy": "2023-10-02T10:35:47.004433Z",
     "iopub.status.idle": "2023-10-02T10:35:47.004940Z"
    },
    "papermill": {
     "duration": null,
     "end_time": null,
     "exception": null,
     "start_time": null,
     "status": "pending"
    },
    "tags": []
   },
   "outputs": [],
   "source": [
    "# laisser tourner 15 epoques pour voir ce que ça donne avec ça\n",
    "# remettre std(y) car cest ce que lon cherche donc np.mean(MAE)/np.std(ŷ)\n"
   ]
  },
  {
   "cell_type": "code",
   "execution_count": null,
   "metadata": {
    "papermill": {
     "duration": null,
     "end_time": null,
     "exception": null,
     "start_time": null,
     "status": "pending"
    },
    "tags": []
   },
   "outputs": [],
   "source": []
  }
 ],
 "metadata": {
  "kernelspec": {
   "display_name": "Python 3",
   "language": "python",
   "name": "python3"
  },
  "language_info": {
   "codemirror_mode": {
    "name": "ipython",
    "version": 3
   },
   "file_extension": ".py",
   "mimetype": "text/x-python",
   "name": "python",
   "nbconvert_exporter": "python",
   "pygments_lexer": "ipython3",
   "version": "3.8.8"
  },
  "papermill": {
   "duration": null,
   "end_time": null,
   "environment_variables": {},
   "exception": null,
   "input_path": "__notebook__.ipynb",
   "output_path": "__notebook__.ipynb",
   "parameters": {},
   "start_time": "2023-10-02T22:18:42.312550",
   "version": "2.1.0"
  }
 },
 "nbformat": 4,
 "nbformat_minor": 4
}
