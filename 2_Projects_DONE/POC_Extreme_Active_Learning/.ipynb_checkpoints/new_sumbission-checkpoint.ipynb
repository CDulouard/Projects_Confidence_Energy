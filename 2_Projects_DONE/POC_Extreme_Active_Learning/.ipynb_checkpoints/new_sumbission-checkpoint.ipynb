{
 "cells": [
  {
   "cell_type": "code",
   "execution_count": 1,
   "id": "92134b35",
   "metadata": {},
   "outputs": [],
   "source": [
    "import matplotlib.pyplot as plt\n",
    "from sklearn.preprocessing import OneHotEncoder"
   ]
  },
  {
   "cell_type": "code",
   "execution_count": 2,
   "id": "3702efd4",
   "metadata": {},
   "outputs": [],
   "source": [
    "from transformers import AutoTokenizer, AutoModel\n",
    "import torch\n",
    "import torch.nn.functional as F\n",
    "\n",
    "#Mean Pooling - Take attention mask into account for correct averaging\n",
    "def mean_pooling(model_output, attention_mask):\n",
    "    token_embeddings = model_output[0] #First element of model_output contains all token embeddings\n",
    "    input_mask_expanded = attention_mask.unsqueeze(-1).expand(token_embeddings.size()).float()\n",
    "    return torch.nn.functional.normalize(torch.sum(token_embeddings * input_mask_expanded, 1) / torch.clamp(input_mask_expanded.sum(1), min=1e-9))"
   ]
  },
  {
   "cell_type": "code",
   "execution_count": 3,
   "id": "4a30404e",
   "metadata": {},
   "outputs": [
    {
     "ename": "LookupError",
     "evalue": "\n**********************************************************************\n  Resource \u001b[93mstopwords\u001b[0m not found.\n  Please use the NLTK Downloader to obtain the resource:\n\n  \u001b[31m>>> import nltk\n  >>> nltk.download('stopwords')\n  \u001b[0m\n  For more information see: https://www.nltk.org/data.html\n\n  Attempted to load \u001b[93mcorpora/stopwords\u001b[0m\n\n  Searched in:\n    - '/home/nikkokks/nltk_data'\n    - '/home/nikkokks/anaconda3/envs/doctr3/nltk_data'\n    - '/home/nikkokks/anaconda3/envs/doctr3/share/nltk_data'\n    - '/home/nikkokks/anaconda3/envs/doctr3/lib/nltk_data'\n    - '/usr/share/nltk_data'\n    - '/usr/local/share/nltk_data'\n    - '/usr/lib/nltk_data'\n    - '/usr/local/lib/nltk_data'\n**********************************************************************\n",
     "output_type": "error",
     "traceback": [
      "\u001b[0;31m---------------------------------------------------------------------------\u001b[0m",
      "\u001b[0;31mLookupError\u001b[0m                               Traceback (most recent call last)",
      "File \u001b[0;32m~/.local/lib/python3.8/site-packages/nltk/corpus/util.py:84\u001b[0m, in \u001b[0;36mLazyCorpusLoader.__load\u001b[0;34m(self)\u001b[0m\n\u001b[1;32m     83\u001b[0m \u001b[38;5;28;01mtry\u001b[39;00m:\n\u001b[0;32m---> 84\u001b[0m     root \u001b[38;5;241m=\u001b[39m \u001b[43mnltk\u001b[49m\u001b[38;5;241;43m.\u001b[39;49m\u001b[43mdata\u001b[49m\u001b[38;5;241;43m.\u001b[39;49m\u001b[43mfind\u001b[49m\u001b[43m(\u001b[49m\u001b[38;5;124;43mf\u001b[39;49m\u001b[38;5;124;43m\"\u001b[39;49m\u001b[38;5;132;43;01m{\u001b[39;49;00m\u001b[38;5;28;43mself\u001b[39;49m\u001b[38;5;241;43m.\u001b[39;49m\u001b[43msubdir\u001b[49m\u001b[38;5;132;43;01m}\u001b[39;49;00m\u001b[38;5;124;43m/\u001b[39;49m\u001b[38;5;132;43;01m{\u001b[39;49;00m\u001b[43mzip_name\u001b[49m\u001b[38;5;132;43;01m}\u001b[39;49;00m\u001b[38;5;124;43m\"\u001b[39;49m\u001b[43m)\u001b[49m\n\u001b[1;32m     85\u001b[0m \u001b[38;5;28;01mexcept\u001b[39;00m \u001b[38;5;167;01mLookupError\u001b[39;00m:\n",
      "File \u001b[0;32m~/.local/lib/python3.8/site-packages/nltk/data.py:583\u001b[0m, in \u001b[0;36mfind\u001b[0;34m(resource_name, paths)\u001b[0m\n\u001b[1;32m    582\u001b[0m resource_not_found \u001b[38;5;241m=\u001b[39m \u001b[38;5;124mf\u001b[39m\u001b[38;5;124m\"\u001b[39m\u001b[38;5;130;01m\\n\u001b[39;00m\u001b[38;5;132;01m{\u001b[39;00msep\u001b[38;5;132;01m}\u001b[39;00m\u001b[38;5;130;01m\\n\u001b[39;00m\u001b[38;5;132;01m{\u001b[39;00mmsg\u001b[38;5;132;01m}\u001b[39;00m\u001b[38;5;130;01m\\n\u001b[39;00m\u001b[38;5;132;01m{\u001b[39;00msep\u001b[38;5;132;01m}\u001b[39;00m\u001b[38;5;130;01m\\n\u001b[39;00m\u001b[38;5;124m\"\u001b[39m\n\u001b[0;32m--> 583\u001b[0m \u001b[38;5;28;01mraise\u001b[39;00m \u001b[38;5;167;01mLookupError\u001b[39;00m(resource_not_found)\n",
      "\u001b[0;31mLookupError\u001b[0m: \n**********************************************************************\n  Resource \u001b[93mstopwords\u001b[0m not found.\n  Please use the NLTK Downloader to obtain the resource:\n\n  \u001b[31m>>> import nltk\n  >>> nltk.download('stopwords')\n  \u001b[0m\n  For more information see: https://www.nltk.org/data.html\n\n  Attempted to load \u001b[93mcorpora/stopwords.zip/stopwords/\u001b[0m\n\n  Searched in:\n    - '/home/nikkokks/nltk_data'\n    - '/home/nikkokks/anaconda3/envs/doctr3/nltk_data'\n    - '/home/nikkokks/anaconda3/envs/doctr3/share/nltk_data'\n    - '/home/nikkokks/anaconda3/envs/doctr3/lib/nltk_data'\n    - '/usr/share/nltk_data'\n    - '/usr/local/share/nltk_data'\n    - '/usr/lib/nltk_data'\n    - '/usr/local/lib/nltk_data'\n**********************************************************************\n",
      "\nDuring handling of the above exception, another exception occurred:\n",
      "\u001b[0;31mLookupError\u001b[0m                               Traceback (most recent call last)",
      "Cell \u001b[0;32mIn[3], line 8\u001b[0m\n\u001b[1;32m      6\u001b[0m \u001b[38;5;28;01mfrom\u001b[39;00m \u001b[38;5;21;01msklearn\u001b[39;00m\u001b[38;5;21;01m.\u001b[39;00m\u001b[38;5;21;01mmodel_selection\u001b[39;00m \u001b[38;5;28;01mimport\u001b[39;00m train_test_split\n\u001b[1;32m      7\u001b[0m \u001b[38;5;28;01mfrom\u001b[39;00m \u001b[38;5;21;01mnltk\u001b[39;00m\u001b[38;5;21;01m.\u001b[39;00m\u001b[38;5;21;01mcorpus\u001b[39;00m \u001b[38;5;28;01mimport\u001b[39;00m stopwords\n\u001b[0;32m----> 8\u001b[0m stops \u001b[38;5;241m=\u001b[39m \u001b[43mstopwords\u001b[49m\u001b[38;5;241;43m.\u001b[39;49m\u001b[43mwords\u001b[49m(\u001b[38;5;124m'\u001b[39m\u001b[38;5;124menglish\u001b[39m\u001b[38;5;124m'\u001b[39m)\n\u001b[1;32m      9\u001b[0m \u001b[38;5;28;01mfrom\u001b[39;00m \u001b[38;5;21;01msklearn\u001b[39;00m\u001b[38;5;21;01m.\u001b[39;00m\u001b[38;5;21;01msvm\u001b[39;00m \u001b[38;5;28;01mimport\u001b[39;00m LinearSVC,SVC\n\u001b[1;32m     10\u001b[0m \u001b[38;5;28;01mimport\u001b[39;00m \u001b[38;5;21;01mpandas\u001b[39;00m \u001b[38;5;28;01mas\u001b[39;00m \u001b[38;5;21;01mpd\u001b[39;00m\n",
      "File \u001b[0;32m~/.local/lib/python3.8/site-packages/nltk/corpus/util.py:121\u001b[0m, in \u001b[0;36mLazyCorpusLoader.__getattr__\u001b[0;34m(self, attr)\u001b[0m\n\u001b[1;32m    118\u001b[0m \u001b[38;5;28;01mif\u001b[39;00m attr \u001b[38;5;241m==\u001b[39m \u001b[38;5;124m\"\u001b[39m\u001b[38;5;124m__bases__\u001b[39m\u001b[38;5;124m\"\u001b[39m:\n\u001b[1;32m    119\u001b[0m     \u001b[38;5;28;01mraise\u001b[39;00m \u001b[38;5;167;01mAttributeError\u001b[39;00m(\u001b[38;5;124m\"\u001b[39m\u001b[38;5;124mLazyCorpusLoader object has no attribute \u001b[39m\u001b[38;5;124m'\u001b[39m\u001b[38;5;124m__bases__\u001b[39m\u001b[38;5;124m'\u001b[39m\u001b[38;5;124m\"\u001b[39m)\n\u001b[0;32m--> 121\u001b[0m \u001b[38;5;28;43mself\u001b[39;49m\u001b[38;5;241;43m.\u001b[39;49m\u001b[43m__load\u001b[49m\u001b[43m(\u001b[49m\u001b[43m)\u001b[49m\n\u001b[1;32m    122\u001b[0m \u001b[38;5;66;03m# This looks circular, but its not, since __load() changes our\u001b[39;00m\n\u001b[1;32m    123\u001b[0m \u001b[38;5;66;03m# __class__ to something new:\u001b[39;00m\n\u001b[1;32m    124\u001b[0m \u001b[38;5;28;01mreturn\u001b[39;00m \u001b[38;5;28mgetattr\u001b[39m(\u001b[38;5;28mself\u001b[39m, attr)\n",
      "File \u001b[0;32m~/.local/lib/python3.8/site-packages/nltk/corpus/util.py:86\u001b[0m, in \u001b[0;36mLazyCorpusLoader.__load\u001b[0;34m(self)\u001b[0m\n\u001b[1;32m     84\u001b[0m             root \u001b[38;5;241m=\u001b[39m nltk\u001b[38;5;241m.\u001b[39mdata\u001b[38;5;241m.\u001b[39mfind(\u001b[38;5;124mf\u001b[39m\u001b[38;5;124m\"\u001b[39m\u001b[38;5;132;01m{\u001b[39;00m\u001b[38;5;28mself\u001b[39m\u001b[38;5;241m.\u001b[39msubdir\u001b[38;5;132;01m}\u001b[39;00m\u001b[38;5;124m/\u001b[39m\u001b[38;5;132;01m{\u001b[39;00mzip_name\u001b[38;5;132;01m}\u001b[39;00m\u001b[38;5;124m\"\u001b[39m)\n\u001b[1;32m     85\u001b[0m         \u001b[38;5;28;01mexcept\u001b[39;00m \u001b[38;5;167;01mLookupError\u001b[39;00m:\n\u001b[0;32m---> 86\u001b[0m             \u001b[38;5;28;01mraise\u001b[39;00m e\n\u001b[1;32m     88\u001b[0m \u001b[38;5;66;03m# Load the corpus.\u001b[39;00m\n\u001b[1;32m     89\u001b[0m corpus \u001b[38;5;241m=\u001b[39m \u001b[38;5;28mself\u001b[39m\u001b[38;5;241m.\u001b[39m__reader_cls(root, \u001b[38;5;241m*\u001b[39m\u001b[38;5;28mself\u001b[39m\u001b[38;5;241m.\u001b[39m__args, \u001b[38;5;241m*\u001b[39m\u001b[38;5;241m*\u001b[39m\u001b[38;5;28mself\u001b[39m\u001b[38;5;241m.\u001b[39m__kwargs)\n",
      "File \u001b[0;32m~/.local/lib/python3.8/site-packages/nltk/corpus/util.py:81\u001b[0m, in \u001b[0;36mLazyCorpusLoader.__load\u001b[0;34m(self)\u001b[0m\n\u001b[1;32m     79\u001b[0m \u001b[38;5;28;01melse\u001b[39;00m:\n\u001b[1;32m     80\u001b[0m     \u001b[38;5;28;01mtry\u001b[39;00m:\n\u001b[0;32m---> 81\u001b[0m         root \u001b[38;5;241m=\u001b[39m \u001b[43mnltk\u001b[49m\u001b[38;5;241;43m.\u001b[39;49m\u001b[43mdata\u001b[49m\u001b[38;5;241;43m.\u001b[39;49m\u001b[43mfind\u001b[49m\u001b[43m(\u001b[49m\u001b[38;5;124;43mf\u001b[39;49m\u001b[38;5;124;43m\"\u001b[39;49m\u001b[38;5;132;43;01m{\u001b[39;49;00m\u001b[38;5;28;43mself\u001b[39;49m\u001b[38;5;241;43m.\u001b[39;49m\u001b[43msubdir\u001b[49m\u001b[38;5;132;43;01m}\u001b[39;49;00m\u001b[38;5;124;43m/\u001b[39;49m\u001b[38;5;132;43;01m{\u001b[39;49;00m\u001b[38;5;28;43mself\u001b[39;49m\u001b[38;5;241;43m.\u001b[39;49m\u001b[43m__name\u001b[49m\u001b[38;5;132;43;01m}\u001b[39;49;00m\u001b[38;5;124;43m\"\u001b[39;49m\u001b[43m)\u001b[49m\n\u001b[1;32m     82\u001b[0m     \u001b[38;5;28;01mexcept\u001b[39;00m \u001b[38;5;167;01mLookupError\u001b[39;00m \u001b[38;5;28;01mas\u001b[39;00m e:\n\u001b[1;32m     83\u001b[0m         \u001b[38;5;28;01mtry\u001b[39;00m:\n",
      "File \u001b[0;32m~/.local/lib/python3.8/site-packages/nltk/data.py:583\u001b[0m, in \u001b[0;36mfind\u001b[0;34m(resource_name, paths)\u001b[0m\n\u001b[1;32m    581\u001b[0m sep \u001b[38;5;241m=\u001b[39m \u001b[38;5;124m\"\u001b[39m\u001b[38;5;124m*\u001b[39m\u001b[38;5;124m\"\u001b[39m \u001b[38;5;241m*\u001b[39m \u001b[38;5;241m70\u001b[39m\n\u001b[1;32m    582\u001b[0m resource_not_found \u001b[38;5;241m=\u001b[39m \u001b[38;5;124mf\u001b[39m\u001b[38;5;124m\"\u001b[39m\u001b[38;5;130;01m\\n\u001b[39;00m\u001b[38;5;132;01m{\u001b[39;00msep\u001b[38;5;132;01m}\u001b[39;00m\u001b[38;5;130;01m\\n\u001b[39;00m\u001b[38;5;132;01m{\u001b[39;00mmsg\u001b[38;5;132;01m}\u001b[39;00m\u001b[38;5;130;01m\\n\u001b[39;00m\u001b[38;5;132;01m{\u001b[39;00msep\u001b[38;5;132;01m}\u001b[39;00m\u001b[38;5;130;01m\\n\u001b[39;00m\u001b[38;5;124m\"\u001b[39m\n\u001b[0;32m--> 583\u001b[0m \u001b[38;5;28;01mraise\u001b[39;00m \u001b[38;5;167;01mLookupError\u001b[39;00m(resource_not_found)\n",
      "\u001b[0;31mLookupError\u001b[0m: \n**********************************************************************\n  Resource \u001b[93mstopwords\u001b[0m not found.\n  Please use the NLTK Downloader to obtain the resource:\n\n  \u001b[31m>>> import nltk\n  >>> nltk.download('stopwords')\n  \u001b[0m\n  For more information see: https://www.nltk.org/data.html\n\n  Attempted to load \u001b[93mcorpora/stopwords\u001b[0m\n\n  Searched in:\n    - '/home/nikkokks/nltk_data'\n    - '/home/nikkokks/anaconda3/envs/doctr3/nltk_data'\n    - '/home/nikkokks/anaconda3/envs/doctr3/share/nltk_data'\n    - '/home/nikkokks/anaconda3/envs/doctr3/lib/nltk_data'\n    - '/usr/share/nltk_data'\n    - '/usr/local/share/nltk_data'\n    - '/usr/lib/nltk_data'\n    - '/usr/local/lib/nltk_data'\n**********************************************************************\n"
     ]
    }
   ],
   "source": [
    "from sklearn.metrics import accuracy_score\n",
    "from sklearn.metrics import classification_report\n",
    "import numpy as np\n",
    "from sklearn.feature_extraction.text import TfidfVectorizer\n",
    "from sklearn.ensemble import RandomForestClassifier\n",
    "from sklearn.model_selection import train_test_split\n",
    "from nltk.corpus import stopwords\n",
    "stops = stopwords.words('english')\n",
    "from sklearn.svm import LinearSVC,SVC\n",
    "import pandas as pd\n",
    "from tqdm import tqdm\n",
    "from sklearn.model_selection import cross_validate,StratifiedKFold\n",
    "from collections import Counter\n",
    "\n",
    "def inference_sbert(sentences):\n",
    "    tokenizer = AutoTokenizer.from_pretrained('sentence-transformers/multi-qa-mpnet-base-dot-v1')\n",
    "    model = AutoModel.from_pretrained('sentence-transformers/multi-qa-mpnet-base-dot-v1')\n",
    "    encoded_input = tokenizer(sentences, padding=True, truncation=True, return_tensors='pt')\n",
    "    with torch.no_grad():\n",
    "        model_output = model(**encoded_input)\n",
    "    sentence_embeddings = mean_pooling(model_output, encoded_input['attention_mask'])\n",
    "    sentence_embeddings = F.normalize(sentence_embeddings, p=2, dim=1)\n",
    "    return sentence_embeddings\n",
    "\n",
    "def model(dfs ):\n",
    "    global df_train\n",
    "    train_index,test_index = dfs\n",
    "    dftrain, df_test = df_train.iloc[train_index], df_train.iloc[test_index]\n",
    "    embeddings_ = True\n",
    "    tfidf_ = False\n",
    "    global Domains\n",
    "    model=LinearSVC(**{'C':4.238})\n",
    "    model.classes_ = Domains\n",
    "    x_train = dftrain['Title_lowered']\n",
    "    x_test = df_test['Title_lowered']\n",
    "    y_train = dftrain['Domain']\n",
    "    \n",
    "    embeddings = np.array(list(dftrain['embeddings'].values))\n",
    "    embeddings_test = np.array(list(df_test['embeddings'].values))\n",
    "    tfidf = TfidfVectorizer(stop_words=stops,ngram_range=(1,3),max_features=900)\n",
    "    x_train_f = tfidf.fit_transform(x_train.values)\n",
    "    x_test_f = tfidf.fit_transform(x_test.values)\n",
    "    if embeddings_ == True and tfidf_==True:\n",
    "        x_to_train = np.hstack((embeddings,x_train_f.todense()))\n",
    "        x_to_test = np.hstack((embeddings_test,x_test_f.todense()))\n",
    "    if embeddings_ == False and tfidf_ == True:\n",
    "        x_to_train=x_train_f\n",
    "        x_to_test=x_test_f\n",
    "    if embeddings_ == True and tfidf_ == False:\n",
    "        x_to_train = embeddings\n",
    "        x_to_test = embeddings_test\n",
    "    model.fit(x_to_train, y_train)\n",
    "    y_preds = model.predict(x_to_test)\n",
    "    return y_preds,model,df_test\n",
    "\n"
   ]
  },
  {
   "cell_type": "code",
   "execution_count": null,
   "id": "564d7e87",
   "metadata": {},
   "outputs": [],
   "source": [
    "df_train = pd.read_csv('data/train.csv').sample(frac=1).drop_duplicates('Title')\n",
    "df_train['Title_lowered'] = df_train['Title'].map(lambda text : str(text).lower())\n",
    "\n",
    "sentences_train = df_train['Title'].map(str).values.tolist()\n",
    "sentences_embeddings = inference_sbert(sentences_train)\n",
    "df_train['embeddings'] = sentences_embeddings.numpy().tolist()\n",
    "#sentences_test = df_test['Title'].map(str).values.tolist()\n",
    "#sentences_embeddings = inference_sbert(sentences_test)\n",
    "#df_test['embeddings'] = sentences_embeddings.numpy().tolist()"
   ]
  },
  {
   "cell_type": "code",
   "execution_count": null,
   "id": "041d1abe",
   "metadata": {},
   "outputs": [],
   "source": [
    "df_train['Title_lowered'] = df_train['Title'].map(lambda text : str(text).lower())"
   ]
  },
  {
   "cell_type": "code",
   "execution_count": null,
   "id": "be763b17",
   "metadata": {},
   "outputs": [],
   "source": [
    "df_train = df_train.drop_duplicates(subset='Title_lowered')"
   ]
  },
  {
   "cell_type": "code",
   "execution_count": null,
   "id": "8763b75d",
   "metadata": {},
   "outputs": [],
   "source": [
    "df_train = df_train.reset_index()"
   ]
  },
  {
   "cell_type": "code",
   "execution_count": null,
   "id": "55a3dc04",
   "metadata": {},
   "outputs": [],
   "source": [
    "import warnings\n",
    "warnings.filterwarnings(\"ignore\")\n",
    "from tqdm import tqdm\n",
    "import pickle"
   ]
  },
  {
   "cell_type": "code",
   "execution_count": null,
   "id": "84073ee6",
   "metadata": {},
   "outputs": [],
   "source": [
    "Domains = np.unique(df_train['Domain'].values)"
   ]
  },
  {
   "cell_type": "code",
   "execution_count": null,
   "id": "1fff431a",
   "metadata": {},
   "outputs": [],
   "source": [
    "from multiprocessing import Pool"
   ]
  },
  {
   "cell_type": "code",
   "execution_count": null,
   "id": "201361dc",
   "metadata": {},
   "outputs": [],
   "source": [
    "def training_crossval_models(df_train):\n",
    "    best_models = []\n",
    "    moyenne = 0\n",
    "    for i in tqdm(range(20)):\n",
    "        y_preds_class = None\n",
    "        \n",
    "        skf = StratifiedKFold(n_splits=20, shuffle=True, random_state=np.random.randint(9,999))\n",
    "        liste = [(i,j) for i,j in skf.split(df_train['Title_lowered'], df_train['Domain'])]\n",
    "        p= Pool(31)\n",
    "        liste = p.map(model,liste)\n",
    "        p.close()\n",
    "        \n",
    "        best_models = []\n",
    "        y_preds_class = []\n",
    "        ypro_test = []\n",
    "        for i,j,k in liste:\n",
    "            y_preds_class.append(i)\n",
    "            best_models.append(j)\n",
    "            ypro_test.append(k['Domain'].values)\n",
    "            \n",
    "        y_preds_class = np.concatenate(y_preds_class)\n",
    "        ypro_test = np.concatenate(ypro_test)\n",
    "        f1_macro = classification_report(ypro_test,y_preds_class,output_dict='csv')['macro avg']['f1-score']\n",
    "        moyenne += f1_macro\n",
    "    moyenne/=20\n",
    "    with open('best_models.pkl','wb') as f:\n",
    "        pickle.dump(best_models,f)\n",
    "    return moyenne"
   ]
  },
  {
   "cell_type": "code",
   "execution_count": null,
   "id": "757489c6",
   "metadata": {},
   "outputs": [],
   "source": [
    "def inference_proba(df_train):\n",
    "    y_preds_class = None\n",
    "    with open('best_models.pkl','rb') as f:\n",
    "        best_models = pickle.load(f)\n",
    "    embeddings_train = np.array(list(df_train['embeddings'].values))\n",
    "    liste_predictions= []\n",
    "    labels = []\n",
    "    for model in best_models:\n",
    "        preds = model._predict_proba_lr(embeddings_train)\n",
    "        enc = OneHotEncoder()\n",
    "        enc.fit(np.array(Domains).reshape(-1,1))\n",
    "        y_preds_class =  enc.transform(df_train['Domain'].values.reshape(-1,1))\n",
    "        labels.append( y_preds_class)\n",
    "        liste_predictions.append( preds)\n",
    "    return labels, liste_predictions"
   ]
  },
  {
   "cell_type": "code",
   "execution_count": null,
   "id": "9610491c",
   "metadata": {},
   "outputs": [],
   "source": [
    "def classe_estimation(y_preds_class,y_pro_test,df_train):\n",
    "    global Domains\n",
    "    \n",
    "    confidence_predictions = []\n",
    "    \n",
    "    best_index = 0\n",
    "\n",
    "    best_value = -np.inf\n",
    "    liste = [list(Domains).index('Misc'), list(Domains).index('Other'),list(Domains).index('Resources')]\n",
    "        \n",
    "    for j_to_test in range(7):\n",
    "    \n",
    "        labels_to_test = np.zeros((y_preds_class[0].shape[0],7))\n",
    "        labels_to_test[:,j_to_test] = 1\n",
    "        labels_to_avoid = np.zeros((y_preds_class[0].shape[0],7))\n",
    "        confidence_predictions = np.zeros((y_preds_class[0].shape[0],))\n",
    "        \n",
    "        for i in range(len(y_preds_class)):\n",
    "            labels = y_pro_test[i]\n",
    "            predictions = y_preds_class[i]\n",
    "            neg_entropy = np.mean(predictions*np.log(predictions),axis=1)\n",
    "            labels = np.array(labels.todense())\n",
    "            predictions = np.array(predictions)\n",
    "            crossentropy = np.mean(labels_to_test*np.log(predictions),axis=1)\n",
    "            loss = (neg_entropy+crossentropy)/2\n",
    "            indexes  = labels.argmax(axis=1)\n",
    "            mask = indexes == j_to_test\n",
    "            loss[mask] = -np.inf\n",
    "            confidence_predictions+=loss\n",
    "\n",
    "        confidence_predictions= np.exp(confidence_predictions/(len(y_preds_class)-1))\n",
    "        value = np.max(confidence_predictions)\n",
    "        #if value>best_value:\n",
    "        #    best_value=value\n",
    "        #    best_index = np.argmax(confidence_predictions)\n",
    "        #    new_class = Domains[j_to_test]\n",
    "        best_value=value\n",
    "        if best_value >0.2:\n",
    "            best_index = np.argmax(confidence_predictions)\n",
    "            new_class = Domains[j_to_test]\n",
    "            print('{} : {} :  {}'.format(best_value,new_class,df_train['Title_lowered'].values[best_index]))\n",
    "            labelss = df_train['Domain'].values\n",
    "            labelss[best_index] = new_class\n",
    "            df_train['Domain'] = labelss\n",
    "    return df_train"
   ]
  },
  {
   "cell_type": "code",
   "execution_count": null,
   "id": "5497b4ed",
   "metadata": {},
   "outputs": [],
   "source": []
  },
  {
   "cell_type": "code",
   "execution_count": null,
   "id": "9f5dcc90",
   "metadata": {},
   "outputs": [],
   "source": []
  },
  {
   "cell_type": "code",
   "execution_count": null,
   "id": "d0b38b16",
   "metadata": {
    "scrolled": true
   },
   "outputs": [],
   "source": [
    "import copy \n",
    "early_stopping= 0\n",
    "best_f1_macro = -np.inf\n",
    "\n",
    "while early_stopping<20:\n",
    "    moyenne = training_crossval_models(df_train)\n",
    "    print(moyenne)\n",
    "    if best_f1_macro< moyenne:\n",
    "        print(moyenne)\n",
    "        best_f1_macro = moyenne\n",
    "        df_final = copy.deepcopy(df_train)\n",
    "        early_stopping= 0\n",
    "    else:\n",
    "        early_stopping += 1\n",
    "    y_pro_test,y_preds_class= inference_proba(df_train)\n",
    "    df_train = classe_estimation(y_preds_class,y_pro_test,df_train)\n"
   ]
  },
  {
   "cell_type": "code",
   "execution_count": 17,
   "id": "67a5d5e1",
   "metadata": {},
   "outputs": [],
   "source": [
    "import pickle\n",
    "with open('df_train.pkl','wb') as f:\n",
    "    pickle.dump(df_train,f)"
   ]
  },
  {
   "cell_type": "code",
   "execution_count": null,
   "id": "9a510365",
   "metadata": {},
   "outputs": [],
   "source": [
    "dico = {'career':['certification','internship','course','data science program'],\n",
    "        'Hackathons':['hackathon','hackathons'],\n",
    "        'Resources':['resource','tutorial'],\n",
    "        \n",
    "       }\n",
    "# mettre un meilleur embedding https://www.sbert.net/docs/pretrained_models.html"
   ]
  },
  {
   "cell_type": "raw",
   "id": "be59f3f0",
   "metadata": {},
   "source": [
    "              precision    recall  f1-score   support\n",
    "\n",
    "      Career       0.80      0.84      0.82       788\n",
    "  Hackathons       0.77      0.60      0.67       472\n",
    "        Misc       0.76      0.24      0.36       134\n",
    "       Other       0.26      0.05      0.08       220\n",
    "   Resources       0.48      0.36      0.41       306\n",
    "  Techniques       0.74      0.85      0.79      3330\n",
    "       Tools       0.69      0.65      0.67      1651\n",
    "\n",
    "    accuracy                           0.73      6901\n",
    "   macro avg       0.64      0.51      0.54      6901\n",
    "weighted avg       0.71      0.73      0.71      6901"
   ]
  },
  {
   "cell_type": "code",
   "execution_count": null,
   "id": "c5d6ef3d",
   "metadata": {},
   "outputs": [],
   "source": [
    "df_test = pd.read_csv('data/test.csv')\n",
    "df_test['Title_lowered'] = df_test['Title'].map(lambda text : str(text).lower())\n",
    "sentences_test = df_test['Title'].map(str).values.tolist()\n",
    "sentences_embeddings = inference_sbert(sentences_test)\n",
    "df_test['embeddings'] = sentences_embeddings.numpy().tolist()"
   ]
  },
  {
   "cell_type": "code",
   "execution_count": 14,
   "id": "042bc5dd",
   "metadata": {},
   "outputs": [
    {
     "data": {
      "text/plain": [
       "index                                                         2491\n",
       "ID                                                            2492\n",
       "Title            Need your Valuable Advice on the career shift ...\n",
       "Domain                                                      Career\n",
       "Title_lowered    need your valuable advice on the career shift ...\n",
       "embeddings       [-0.003127791453152895, -0.009716558270156384,...\n",
       "Name: 396, dtype: object"
      ]
     },
     "execution_count": 14,
     "metadata": {},
     "output_type": "execute_result"
    }
   ],
   "source": []
  },
  {
   "cell_type": "code",
   "execution_count": null,
   "id": "7af8e1bd",
   "metadata": {},
   "outputs": [],
   "source": []
  },
  {
   "cell_type": "code",
   "execution_count": null,
   "id": "59bc7804",
   "metadata": {},
   "outputs": [],
   "source": [
    "import pickle\n",
    "with open('df_train_correct.pkl','wb') as f:\n",
    "    pickle.dump(df_final,f)"
   ]
  },
  {
   "cell_type": "code",
   "execution_count": null,
   "id": "24e8cf12",
   "metadata": {},
   "outputs": [],
   "source": []
  },
  {
   "cell_type": "code",
   "execution_count": null,
   "id": "dcc21338",
   "metadata": {
    "scrolled": true
   },
   "outputs": [],
   "source": [
    "df_test = pd.read_csv('data/test_.csv')\n",
    "df_test['Title_lowered'] = df_test['Title'].map(lambda text : str(text).lower())\n",
    "sentences_test = df_test['Title'].map(str).values.tolist()\n",
    "sentences_embeddings = inference_sbert(sentences_test)\n",
    "df_test['embeddings'] = sentences_embeddings.numpy().tolist()"
   ]
  },
  {
   "cell_type": "code",
   "execution_count": null,
   "id": "f7556c9b",
   "metadata": {},
   "outputs": [],
   "source": []
  },
  {
   "cell_type": "code",
   "execution_count": null,
   "id": "8a8b5080",
   "metadata": {},
   "outputs": [],
   "source": [
    "# alimenter Other et Misc par rapport a Techniques, Tools et Carrer"
   ]
  },
  {
   "cell_type": "code",
   "execution_count": null,
   "id": "77df6127",
   "metadata": {},
   "outputs": [],
   "source": []
  },
  {
   "cell_type": "code",
   "execution_count": null,
   "id": "a0d6d8d2",
   "metadata": {},
   "outputs": [],
   "source": [
    "print(classification_report(ypro_test,y_preds_class))"
   ]
  },
  {
   "cell_type": "code",
   "execution_count": 18,
   "id": "68f641e4",
   "metadata": {},
   "outputs": [],
   "source": [
    "df_test = pd.read_csv('data/test.csv')\n",
    "df_test['Title_lowered'] = df_test['Title'].map(lambda text : str(text).lower())\n",
    "sentences_test = df_test['Title'].map(str).values.tolist()\n",
    "sentences_embeddings = inference_sbert(sentences_test)\n",
    "df_test['embeddings'] = sentences_embeddings.numpy().tolist()"
   ]
  },
  {
   "cell_type": "code",
   "execution_count": null,
   "id": "f767e2e7",
   "metadata": {},
   "outputs": [],
   "source": [
    "def inference(model,dftest):\n",
    "    embeddings_test = np.array(list(dftest['embeddings'].values))\n",
    "    preds = model.predict(embeddings_test)\n",
    "    return preds\n",
    "\n",
    "\n",
    "y_preds_class = []\n",
    "for index,model in tqdm(enumerate(best_models)):\n",
    "    dftest = df_test\n",
    "    preds = inference(model,dftest)\n",
    "    y_preds_class.append(preds)"
   ]
  },
  {
   "cell_type": "code",
   "execution_count": null,
   "id": "1827b27a",
   "metadata": {},
   "outputs": [],
   "source": [
    "y_preds_class = np.array(y_preds_class)\n",
    "preds = []\n",
    "for i in range(len(y_preds_class[0])):\n",
    "    count = Counter(list(y_preds_class[:,i]))\n",
    "    preds.append(count.most_common(1)[0][0])"
   ]
  },
  {
   "cell_type": "code",
   "execution_count": null,
   "id": "6d0e318f",
   "metadata": {},
   "outputs": [],
   "source": [
    "df_test['labels_preds'] = preds"
   ]
  },
  {
   "cell_type": "code",
   "execution_count": null,
   "id": "eaa50a55",
   "metadata": {},
   "outputs": [],
   "source": [
    "df_test = df_test[['ID','labels_preds']].reset_index()[['ID','labels_preds']]"
   ]
  },
  {
   "cell_type": "code",
   "execution_count": null,
   "id": "dbf85cf9",
   "metadata": {},
   "outputs": [],
   "source": [
    "df_sample = pd.read_csv('data/sample_submission_.csv')[['ID']]"
   ]
  },
  {
   "cell_type": "code",
   "execution_count": null,
   "id": "560e3bab",
   "metadata": {},
   "outputs": [],
   "source": [
    "df_sample = df_sample.merge(df_test, on='ID', how='left')"
   ]
  },
  {
   "cell_type": "code",
   "execution_count": null,
   "id": "b978b072",
   "metadata": {},
   "outputs": [],
   "source": [
    "df_sample = df_sample.merge(df_train, on='ID', how='left')#.to_csv('sample_submission_1.csv',columns=['ID','Domain'])\n",
    "df_sample = df_sample[['ID','labels_preds']]\n",
    "df_sample.columns= ['ID','Domain']"
   ]
  },
  {
   "cell_type": "code",
   "execution_count": null,
   "id": "8d850577",
   "metadata": {},
   "outputs": [],
   "source": [
    "df_sample['Domain'] = df_sample['Domain'].map(str)\n",
    "df_sample['Domain'] = df_sample['Domain'].astype(str)"
   ]
  },
  {
   "cell_type": "code",
   "execution_count": null,
   "id": "9d7cf832",
   "metadata": {},
   "outputs": [],
   "source": [
    "df_sample.to_csv('sample_submission_13.csv',columns=['ID','Domain'],index_label=False)"
   ]
  }
 ],
 "metadata": {
  "kernelspec": {
   "display_name": "Python 3",
   "language": "python",
   "name": "python3"
  },
  "language_info": {
   "codemirror_mode": {
    "name": "ipython",
    "version": 3
   },
   "file_extension": ".py",
   "mimetype": "text/x-python",
   "name": "python",
   "nbconvert_exporter": "python",
   "pygments_lexer": "ipython3",
   "version": "3.8.8"
  }
 },
 "nbformat": 4,
 "nbformat_minor": 5
}
