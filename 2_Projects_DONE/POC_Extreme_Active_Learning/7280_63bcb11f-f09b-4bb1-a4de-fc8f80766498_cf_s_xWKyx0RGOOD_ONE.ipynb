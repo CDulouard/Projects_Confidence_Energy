{
 "cells": [
  {
   "cell_type": "code",
   "execution_count": 1,
   "id": "14e36968",
   "metadata": {},
   "outputs": [],
   "source": [
    "from transformers import AutoTokenizer, AutoModel\n",
    "import torch\n",
    "import torch.nn.functional as F\n",
    "\n",
    "#Mean Pooling - Take attention mask into account for correct averaging\n",
    "def mean_pooling(model_output, attention_mask):\n",
    "    token_embeddings = model_output[0] #First element of model_output contains all token embeddings\n",
    "    input_mask_expanded = attention_mask.unsqueeze(-1).expand(token_embeddings.size()).float()\n",
    "    return torch.nn.functional.normalize(torch.sum(token_embeddings * input_mask_expanded, 1) / torch.clamp(input_mask_expanded.sum(1), min=1e-9))"
   ]
  },
  {
   "cell_type": "code",
   "execution_count": null,
   "id": "63c707c3",
   "metadata": {},
   "outputs": [],
   "source": []
  },
  {
   "cell_type": "code",
   "execution_count": 2,
   "id": "236b3dd3",
   "metadata": {},
   "outputs": [],
   "source": [
    "from sklearn.metrics import accuracy_score\n",
    "from sklearn.metrics import classification_report\n",
    "import numpy as np\n",
    "from sklearn.feature_extraction.text import TfidfVectorizer\n",
    "from sklearn.ensemble import RandomForestClassifier\n",
    "from sklearn.model_selection import train_test_split\n",
    "from nltk.corpus import stopwords\n",
    "stops = stopwords.words('english')\n",
    "from sklearn.svm import LinearSVC,SVC\n",
    "import pandas as pd\n",
    "from tqdm import tqdm\n",
    "from sklearn.model_selection import cross_validate,StratifiedKFold\n",
    "from collections import Counter\n",
    "\n",
    "def inference_sbert(sentences):\n",
    "    tokenizer = AutoTokenizer.from_pretrained('sentence-transformers/multi-qa-mpnet-base-dot-v1')\n",
    "    model = AutoModel.from_pretrained('sentence-transformers/multi-qa-mpnet-base-dot-v1')\n",
    "    encoded_input = tokenizer(sentences, padding=True, truncation=True, return_tensors='pt')\n",
    "    with torch.no_grad():\n",
    "        model_output = model(**encoded_input)\n",
    "    sentence_embeddings = mean_pooling(model_output, encoded_input['attention_mask'])\n",
    "    sentence_embeddings = F.normalize(sentence_embeddings, p=2, dim=1)\n",
    "    return sentence_embeddings\n",
    "\n",
    "def model(df_train,df_test,embeddings_=False,tfidf_=False,model=SVC(**{'C':4.238})):\n",
    "    x_train = df_train['Title_lowered']\n",
    "    x_test = df_test['Title_lowered']\n",
    "    y_train = df_train['Domain']\n",
    "    \n",
    "    embeddings = np.array(list(df_train['embeddings'].values))\n",
    "    embeddings_test = np.array(list(df_test['embeddings'].values))\n",
    "    tfidf = TfidfVectorizer(stop_words=stops,ngram_range=(1,3),max_features=900)\n",
    "    x_train_f = tfidf.fit_transform(x_train.values)\n",
    "    x_test_f = tfidf.fit_transform(x_test.values)\n",
    "    if embeddings_ == True and tfidf_==True:\n",
    "        x_to_train = np.hstack((embeddings,x_train_f.todense()))\n",
    "        x_to_test = np.hstack((embeddings_test,x_test_f.todense()))\n",
    "    if embeddings_ == False and tfidf_ == True:\n",
    "        x_to_train=x_train_f\n",
    "        x_to_test=x_test_f\n",
    "    if embeddings_ == True and tfidf_ == False:\n",
    "        x_to_train = embeddings\n",
    "        x_to_test = embeddings_test\n",
    "    model.fit(x_to_train, y_train)\n",
    "    y_preds = model.predict(x_to_test)\n",
    "    return y_preds,model"
   ]
  },
  {
   "cell_type": "raw",
   "id": "c6fd96af",
   "metadata": {},
   "source": [
    "df_train = pd.read_csv('data/train.csv').sample(frac=1).drop_duplicates('Title')\n"
   ]
  },
  {
   "cell_type": "code",
   "execution_count": 3,
   "id": "b3e2a6da",
   "metadata": {},
   "outputs": [],
   "source": [
    "import pickle\n",
    "with open('df_train.pkl','rb') as f:\n",
    "    df_train = pickle.load(f)"
   ]
  },
  {
   "cell_type": "code",
   "execution_count": 4,
   "id": "7d5b7a81",
   "metadata": {},
   "outputs": [
    {
     "name": "stdout",
     "output_type": "stream",
     "text": [
      "ok1\n",
      "ok2\n",
      "ok3\n",
      "ok4\n"
     ]
    }
   ],
   "source": [
    "df_train['Title_lowered'] = df_train['Title'].map(lambda text : str(text).lower())\n",
    "print('ok1')\n",
    "sentences_train = df_train['Title'].map(str).values.tolist()\n",
    "print('ok2')\n",
    "sentences_embeddings = inference_sbert(sentences_train)\n",
    "print('ok3')\n",
    "df_train['embeddings'] = sentences_embeddings.numpy().tolist()\n",
    "print('ok4')\n",
    "#sentences_test = df_test['Title'].map(str).values.tolist()\n",
    "#sentences_embeddings = inference_sbert(sentences_test)\n",
    "#df_test['embeddings'] = sentences_embeddings.numpy().tolist()"
   ]
  },
  {
   "cell_type": "code",
   "execution_count": 5,
   "id": "d8e155cc",
   "metadata": {},
   "outputs": [],
   "source": [
    "df_train['Title_lowered'] = df_train['Title'].map(lambda text : str(text).lower())"
   ]
  },
  {
   "cell_type": "code",
   "execution_count": 6,
   "id": "0f288011",
   "metadata": {},
   "outputs": [],
   "source": [
    "df_train = df_train.reset_index()"
   ]
  },
  {
   "cell_type": "code",
   "execution_count": 7,
   "id": "498e9f97",
   "metadata": {},
   "outputs": [],
   "source": [
    "import warnings\n",
    "warnings.filterwarnings(\"ignore\")"
   ]
  },
  {
   "cell_type": "code",
   "execution_count": 9,
   "id": "3110190b",
   "metadata": {
    "scrolled": true
   },
   "outputs": [
    {
     "name": "stderr",
     "output_type": "stream",
     "text": [
      "10it [01:40, 10.05s/it]\n"
     ]
    },
    {
     "name": "stdout",
     "output_type": "stream",
     "text": [
      "0.6517928768060973\n"
     ]
    },
    {
     "name": "stderr",
     "output_type": "stream",
     "text": [
      "10it [01:39,  9.91s/it]\n"
     ]
    },
    {
     "name": "stdout",
     "output_type": "stream",
     "text": [
      "0.668692123091317\n"
     ]
    },
    {
     "name": "stderr",
     "output_type": "stream",
     "text": [
      "10it [01:00,  6.08s/it]\n"
     ]
    },
    {
     "name": "stdout",
     "output_type": "stream",
     "text": [
      "0.6738282297588241\n"
     ]
    },
    {
     "name": "stderr",
     "output_type": "stream",
     "text": [
      "10it [00:51,  5.13s/it]\n"
     ]
    },
    {
     "name": "stdout",
     "output_type": "stream",
     "text": [
      "0.6675385706354623\n"
     ]
    },
    {
     "name": "stderr",
     "output_type": "stream",
     "text": [
      "0it [00:05, ?it/s]\n"
     ]
    },
    {
     "ename": "KeyboardInterrupt",
     "evalue": "",
     "output_type": "error",
     "traceback": [
      "\u001b[0;31m---------------------------------------------------------------------------\u001b[0m",
      "\u001b[0;31mKeyboardInterrupt\u001b[0m                         Traceback (most recent call last)",
      "Cell \u001b[0;32mIn[9], line 11\u001b[0m\n\u001b[1;32m      9\u001b[0m \u001b[38;5;28;01mfor\u001b[39;00m train_index, test_index \u001b[38;5;129;01min\u001b[39;00m tqdm(skf\u001b[38;5;241m.\u001b[39msplit(df_train[\u001b[38;5;124m'\u001b[39m\u001b[38;5;124mTitle_lowered\u001b[39m\u001b[38;5;124m'\u001b[39m], df_train[\u001b[38;5;124m'\u001b[39m\u001b[38;5;124mDomain\u001b[39m\u001b[38;5;124m'\u001b[39m])):\n\u001b[1;32m     10\u001b[0m     dftrain, dftest \u001b[38;5;241m=\u001b[39m df_train\u001b[38;5;241m.\u001b[39miloc[train_index], df_train\u001b[38;5;241m.\u001b[39miloc[test_index]\n\u001b[0;32m---> 11\u001b[0m     dftest_,modell \u001b[38;5;241m=\u001b[39m \u001b[43mmodel\u001b[49m\u001b[43m(\u001b[49m\u001b[43mdftrain\u001b[49m\u001b[43m,\u001b[49m\u001b[43mdftest\u001b[49m\u001b[43m,\u001b[49m\u001b[43membeddings_\u001b[49m\u001b[38;5;241;43m=\u001b[39;49m\u001b[38;5;28;43;01mTrue\u001b[39;49;00m\u001b[43m,\u001b[49m\u001b[43mtfidf_\u001b[49m\u001b[38;5;241;43m=\u001b[39;49m\u001b[38;5;28;43;01mFalse\u001b[39;49;00m\u001b[43m,\u001b[49m\u001b[43mmodel\u001b[49m\u001b[38;5;241;43m=\u001b[39;49m\u001b[43mSVC\u001b[49m\u001b[43m(\u001b[49m\u001b[38;5;241;43m*\u001b[39;49m\u001b[38;5;241;43m*\u001b[39;49m\u001b[43m{\u001b[49m\u001b[38;5;124;43m'\u001b[39;49m\u001b[38;5;124;43mC\u001b[39;49m\u001b[38;5;124;43m'\u001b[39;49m\u001b[43m:\u001b[49m\u001b[38;5;241;43m4.238\u001b[39;49m\u001b[43m}\u001b[49m\u001b[43m)\u001b[49m\u001b[43m)\u001b[49m\n\u001b[1;32m     13\u001b[0m     \u001b[38;5;28;01mif\u001b[39;00m \u001b[38;5;129;01mnot\u001b[39;00m \u001b[38;5;28misinstance\u001b[39m(y_preds_class,\u001b[38;5;28mtype\u001b[39m(dftest_)):\n\u001b[1;32m     14\u001b[0m         ypro_test \u001b[38;5;241m=\u001b[39m dftest[\u001b[38;5;124m'\u001b[39m\u001b[38;5;124mDomain\u001b[39m\u001b[38;5;124m'\u001b[39m]\u001b[38;5;241m.\u001b[39mvalues\n",
      "Cell \u001b[0;32mIn[2], line 44\u001b[0m, in \u001b[0;36mmodel\u001b[0;34m(df_train, df_test, embeddings_, tfidf_, model)\u001b[0m\n\u001b[1;32m     42\u001b[0m     x_to_train \u001b[38;5;241m=\u001b[39m embeddings\n\u001b[1;32m     43\u001b[0m     x_to_test \u001b[38;5;241m=\u001b[39m embeddings_test\n\u001b[0;32m---> 44\u001b[0m \u001b[43mmodel\u001b[49m\u001b[38;5;241;43m.\u001b[39;49m\u001b[43mfit\u001b[49m\u001b[43m(\u001b[49m\u001b[43mx_to_train\u001b[49m\u001b[43m,\u001b[49m\u001b[43m \u001b[49m\u001b[43my_train\u001b[49m\u001b[43m)\u001b[49m\n\u001b[1;32m     45\u001b[0m y_preds \u001b[38;5;241m=\u001b[39m model\u001b[38;5;241m.\u001b[39mpredict(x_to_test)\n\u001b[1;32m     46\u001b[0m \u001b[38;5;28;01mreturn\u001b[39;00m y_preds,model\n",
      "File \u001b[0;32m~/.local/lib/python3.8/site-packages/sklearn/base.py:1151\u001b[0m, in \u001b[0;36m_fit_context.<locals>.decorator.<locals>.wrapper\u001b[0;34m(estimator, *args, **kwargs)\u001b[0m\n\u001b[1;32m   1144\u001b[0m     estimator\u001b[38;5;241m.\u001b[39m_validate_params()\n\u001b[1;32m   1146\u001b[0m \u001b[38;5;28;01mwith\u001b[39;00m config_context(\n\u001b[1;32m   1147\u001b[0m     skip_parameter_validation\u001b[38;5;241m=\u001b[39m(\n\u001b[1;32m   1148\u001b[0m         prefer_skip_nested_validation \u001b[38;5;129;01mor\u001b[39;00m global_skip_validation\n\u001b[1;32m   1149\u001b[0m     )\n\u001b[1;32m   1150\u001b[0m ):\n\u001b[0;32m-> 1151\u001b[0m     \u001b[38;5;28;01mreturn\u001b[39;00m \u001b[43mfit_method\u001b[49m\u001b[43m(\u001b[49m\u001b[43mestimator\u001b[49m\u001b[43m,\u001b[49m\u001b[43m \u001b[49m\u001b[38;5;241;43m*\u001b[39;49m\u001b[43margs\u001b[49m\u001b[43m,\u001b[49m\u001b[43m \u001b[49m\u001b[38;5;241;43m*\u001b[39;49m\u001b[38;5;241;43m*\u001b[39;49m\u001b[43mkwargs\u001b[49m\u001b[43m)\u001b[49m\n",
      "File \u001b[0;32m~/.local/lib/python3.8/site-packages/sklearn/svm/_base.py:250\u001b[0m, in \u001b[0;36mBaseLibSVM.fit\u001b[0;34m(self, X, y, sample_weight)\u001b[0m\n\u001b[1;32m    247\u001b[0m     \u001b[38;5;28mprint\u001b[39m(\u001b[38;5;124m\"\u001b[39m\u001b[38;5;124m[LibSVM]\u001b[39m\u001b[38;5;124m\"\u001b[39m, end\u001b[38;5;241m=\u001b[39m\u001b[38;5;124m\"\u001b[39m\u001b[38;5;124m\"\u001b[39m)\n\u001b[1;32m    249\u001b[0m seed \u001b[38;5;241m=\u001b[39m rnd\u001b[38;5;241m.\u001b[39mrandint(np\u001b[38;5;241m.\u001b[39miinfo(\u001b[38;5;124m\"\u001b[39m\u001b[38;5;124mi\u001b[39m\u001b[38;5;124m\"\u001b[39m)\u001b[38;5;241m.\u001b[39mmax)\n\u001b[0;32m--> 250\u001b[0m \u001b[43mfit\u001b[49m\u001b[43m(\u001b[49m\u001b[43mX\u001b[49m\u001b[43m,\u001b[49m\u001b[43m \u001b[49m\u001b[43my\u001b[49m\u001b[43m,\u001b[49m\u001b[43m \u001b[49m\u001b[43msample_weight\u001b[49m\u001b[43m,\u001b[49m\u001b[43m \u001b[49m\u001b[43msolver_type\u001b[49m\u001b[43m,\u001b[49m\u001b[43m \u001b[49m\u001b[43mkernel\u001b[49m\u001b[43m,\u001b[49m\u001b[43m \u001b[49m\u001b[43mrandom_seed\u001b[49m\u001b[38;5;241;43m=\u001b[39;49m\u001b[43mseed\u001b[49m\u001b[43m)\u001b[49m\n\u001b[1;32m    251\u001b[0m \u001b[38;5;66;03m# see comment on the other call to np.iinfo in this file\u001b[39;00m\n\u001b[1;32m    253\u001b[0m \u001b[38;5;28mself\u001b[39m\u001b[38;5;241m.\u001b[39mshape_fit_ \u001b[38;5;241m=\u001b[39m X\u001b[38;5;241m.\u001b[39mshape \u001b[38;5;28;01mif\u001b[39;00m \u001b[38;5;28mhasattr\u001b[39m(X, \u001b[38;5;124m\"\u001b[39m\u001b[38;5;124mshape\u001b[39m\u001b[38;5;124m\"\u001b[39m) \u001b[38;5;28;01melse\u001b[39;00m (n_samples,)\n",
      "File \u001b[0;32m~/.local/lib/python3.8/site-packages/sklearn/svm/_base.py:329\u001b[0m, in \u001b[0;36mBaseLibSVM._dense_fit\u001b[0;34m(self, X, y, sample_weight, solver_type, kernel, random_seed)\u001b[0m\n\u001b[1;32m    315\u001b[0m libsvm\u001b[38;5;241m.\u001b[39mset_verbosity_wrap(\u001b[38;5;28mself\u001b[39m\u001b[38;5;241m.\u001b[39mverbose)\n\u001b[1;32m    317\u001b[0m \u001b[38;5;66;03m# we don't pass **self.get_params() to allow subclasses to\u001b[39;00m\n\u001b[1;32m    318\u001b[0m \u001b[38;5;66;03m# add other parameters to __init__\u001b[39;00m\n\u001b[1;32m    319\u001b[0m (\n\u001b[1;32m    320\u001b[0m     \u001b[38;5;28mself\u001b[39m\u001b[38;5;241m.\u001b[39msupport_,\n\u001b[1;32m    321\u001b[0m     \u001b[38;5;28mself\u001b[39m\u001b[38;5;241m.\u001b[39msupport_vectors_,\n\u001b[1;32m    322\u001b[0m     \u001b[38;5;28mself\u001b[39m\u001b[38;5;241m.\u001b[39m_n_support,\n\u001b[1;32m    323\u001b[0m     \u001b[38;5;28mself\u001b[39m\u001b[38;5;241m.\u001b[39mdual_coef_,\n\u001b[1;32m    324\u001b[0m     \u001b[38;5;28mself\u001b[39m\u001b[38;5;241m.\u001b[39mintercept_,\n\u001b[1;32m    325\u001b[0m     \u001b[38;5;28mself\u001b[39m\u001b[38;5;241m.\u001b[39m_probA,\n\u001b[1;32m    326\u001b[0m     \u001b[38;5;28mself\u001b[39m\u001b[38;5;241m.\u001b[39m_probB,\n\u001b[1;32m    327\u001b[0m     \u001b[38;5;28mself\u001b[39m\u001b[38;5;241m.\u001b[39mfit_status_,\n\u001b[1;32m    328\u001b[0m     \u001b[38;5;28mself\u001b[39m\u001b[38;5;241m.\u001b[39m_num_iter,\n\u001b[0;32m--> 329\u001b[0m ) \u001b[38;5;241m=\u001b[39m \u001b[43mlibsvm\u001b[49m\u001b[38;5;241;43m.\u001b[39;49m\u001b[43mfit\u001b[49m\u001b[43m(\u001b[49m\n\u001b[1;32m    330\u001b[0m \u001b[43m    \u001b[49m\u001b[43mX\u001b[49m\u001b[43m,\u001b[49m\n\u001b[1;32m    331\u001b[0m \u001b[43m    \u001b[49m\u001b[43my\u001b[49m\u001b[43m,\u001b[49m\n\u001b[1;32m    332\u001b[0m \u001b[43m    \u001b[49m\u001b[43msvm_type\u001b[49m\u001b[38;5;241;43m=\u001b[39;49m\u001b[43msolver_type\u001b[49m\u001b[43m,\u001b[49m\n\u001b[1;32m    333\u001b[0m \u001b[43m    \u001b[49m\u001b[43msample_weight\u001b[49m\u001b[38;5;241;43m=\u001b[39;49m\u001b[43msample_weight\u001b[49m\u001b[43m,\u001b[49m\n\u001b[1;32m    334\u001b[0m \u001b[43m    \u001b[49m\u001b[38;5;66;43;03m# TODO(1.4): Replace \"_class_weight\" with \"class_weight_\"\u001b[39;49;00m\n\u001b[1;32m    335\u001b[0m \u001b[43m    \u001b[49m\u001b[43mclass_weight\u001b[49m\u001b[38;5;241;43m=\u001b[39;49m\u001b[38;5;28;43mgetattr\u001b[39;49m\u001b[43m(\u001b[49m\u001b[38;5;28;43mself\u001b[39;49m\u001b[43m,\u001b[49m\u001b[43m \u001b[49m\u001b[38;5;124;43m\"\u001b[39;49m\u001b[38;5;124;43m_class_weight\u001b[39;49m\u001b[38;5;124;43m\"\u001b[39;49m\u001b[43m,\u001b[49m\u001b[43m \u001b[49m\u001b[43mnp\u001b[49m\u001b[38;5;241;43m.\u001b[39;49m\u001b[43mempty\u001b[49m\u001b[43m(\u001b[49m\u001b[38;5;241;43m0\u001b[39;49m\u001b[43m)\u001b[49m\u001b[43m)\u001b[49m\u001b[43m,\u001b[49m\n\u001b[1;32m    336\u001b[0m \u001b[43m    \u001b[49m\u001b[43mkernel\u001b[49m\u001b[38;5;241;43m=\u001b[39;49m\u001b[43mkernel\u001b[49m\u001b[43m,\u001b[49m\n\u001b[1;32m    337\u001b[0m \u001b[43m    \u001b[49m\u001b[43mC\u001b[49m\u001b[38;5;241;43m=\u001b[39;49m\u001b[38;5;28;43mself\u001b[39;49m\u001b[38;5;241;43m.\u001b[39;49m\u001b[43mC\u001b[49m\u001b[43m,\u001b[49m\n\u001b[1;32m    338\u001b[0m \u001b[43m    \u001b[49m\u001b[43mnu\u001b[49m\u001b[38;5;241;43m=\u001b[39;49m\u001b[38;5;28;43mself\u001b[39;49m\u001b[38;5;241;43m.\u001b[39;49m\u001b[43mnu\u001b[49m\u001b[43m,\u001b[49m\n\u001b[1;32m    339\u001b[0m \u001b[43m    \u001b[49m\u001b[43mprobability\u001b[49m\u001b[38;5;241;43m=\u001b[39;49m\u001b[38;5;28;43mself\u001b[39;49m\u001b[38;5;241;43m.\u001b[39;49m\u001b[43mprobability\u001b[49m\u001b[43m,\u001b[49m\n\u001b[1;32m    340\u001b[0m \u001b[43m    \u001b[49m\u001b[43mdegree\u001b[49m\u001b[38;5;241;43m=\u001b[39;49m\u001b[38;5;28;43mself\u001b[39;49m\u001b[38;5;241;43m.\u001b[39;49m\u001b[43mdegree\u001b[49m\u001b[43m,\u001b[49m\n\u001b[1;32m    341\u001b[0m \u001b[43m    \u001b[49m\u001b[43mshrinking\u001b[49m\u001b[38;5;241;43m=\u001b[39;49m\u001b[38;5;28;43mself\u001b[39;49m\u001b[38;5;241;43m.\u001b[39;49m\u001b[43mshrinking\u001b[49m\u001b[43m,\u001b[49m\n\u001b[1;32m    342\u001b[0m \u001b[43m    \u001b[49m\u001b[43mtol\u001b[49m\u001b[38;5;241;43m=\u001b[39;49m\u001b[38;5;28;43mself\u001b[39;49m\u001b[38;5;241;43m.\u001b[39;49m\u001b[43mtol\u001b[49m\u001b[43m,\u001b[49m\n\u001b[1;32m    343\u001b[0m \u001b[43m    \u001b[49m\u001b[43mcache_size\u001b[49m\u001b[38;5;241;43m=\u001b[39;49m\u001b[38;5;28;43mself\u001b[39;49m\u001b[38;5;241;43m.\u001b[39;49m\u001b[43mcache_size\u001b[49m\u001b[43m,\u001b[49m\n\u001b[1;32m    344\u001b[0m \u001b[43m    \u001b[49m\u001b[43mcoef0\u001b[49m\u001b[38;5;241;43m=\u001b[39;49m\u001b[38;5;28;43mself\u001b[39;49m\u001b[38;5;241;43m.\u001b[39;49m\u001b[43mcoef0\u001b[49m\u001b[43m,\u001b[49m\n\u001b[1;32m    345\u001b[0m \u001b[43m    \u001b[49m\u001b[43mgamma\u001b[49m\u001b[38;5;241;43m=\u001b[39;49m\u001b[38;5;28;43mself\u001b[39;49m\u001b[38;5;241;43m.\u001b[39;49m\u001b[43m_gamma\u001b[49m\u001b[43m,\u001b[49m\n\u001b[1;32m    346\u001b[0m \u001b[43m    \u001b[49m\u001b[43mepsilon\u001b[49m\u001b[38;5;241;43m=\u001b[39;49m\u001b[38;5;28;43mself\u001b[39;49m\u001b[38;5;241;43m.\u001b[39;49m\u001b[43mepsilon\u001b[49m\u001b[43m,\u001b[49m\n\u001b[1;32m    347\u001b[0m \u001b[43m    \u001b[49m\u001b[43mmax_iter\u001b[49m\u001b[38;5;241;43m=\u001b[39;49m\u001b[38;5;28;43mself\u001b[39;49m\u001b[38;5;241;43m.\u001b[39;49m\u001b[43mmax_iter\u001b[49m\u001b[43m,\u001b[49m\n\u001b[1;32m    348\u001b[0m \u001b[43m    \u001b[49m\u001b[43mrandom_seed\u001b[49m\u001b[38;5;241;43m=\u001b[39;49m\u001b[43mrandom_seed\u001b[49m\u001b[43m,\u001b[49m\n\u001b[1;32m    349\u001b[0m \u001b[43m\u001b[49m\u001b[43m)\u001b[49m\n\u001b[1;32m    351\u001b[0m \u001b[38;5;28mself\u001b[39m\u001b[38;5;241m.\u001b[39m_warn_from_fit_status()\n",
      "\u001b[0;31mKeyboardInterrupt\u001b[0m: "
     ]
    }
   ],
   "source": [
    "train_indexes= []\n",
    "test_indexes = []\n",
    "best_models = []\n",
    "for i in range(20):\n",
    "    maximum = 0\n",
    "    y_preds_class = None\n",
    "    df_train['Domain_{}'.format(i)] = None\n",
    "    skf = StratifiedKFold(n_splits=10, shuffle=True, random_state=np.random.randint(9,999))\n",
    "    for train_index, test_index in tqdm(skf.split(df_train['Title_lowered'], df_train['Domain'])):\n",
    "        dftrain, dftest = df_train.iloc[train_index], df_train.iloc[test_index]\n",
    "        dftest_,modell = model(dftrain,dftest,embeddings_=True,tfidf_=False,model=SVC(**{'C':4.238}))\n",
    "\n",
    "        if not isinstance(y_preds_class,type(dftest_)):\n",
    "            ypro_test = dftest['Domain'].values\n",
    "            y_preds_class= dftest_\n",
    "        else:\n",
    "            ypro_test = np.concatenate((ypro_test,dftest['Domain'].values))\n",
    "            y_preds_class = np.concatenate((y_preds_class,dftest_))\n",
    "        df_train.loc[test_index,'Domain_{}'.format(i)] = dftest_\n",
    "        f1_macro = classification_report(dftest['Domain'].values,dftest_,output_dict=True)['macro avg']['f1-score']\n",
    "        \n",
    "        if f1_macro>maximum:\n",
    "            maximum = f1_macro\n",
    "            ypro_test_ = dftest['Domain'].values\n",
    "            train_indexes_ =train_index\n",
    "            test_indexes_ = test_index\n",
    "            best_modell = modell\n",
    "    print(maximum)\n",
    "    best_models.append(best_modell)\n",
    "    train_indexes.append(train_indexes_)\n",
    "    test_indexes.append(test_indexes_)"
   ]
  },
  {
   "cell_type": "code",
   "execution_count": 10,
   "id": "ddbbf920",
   "metadata": {},
   "outputs": [],
   "source": [
    "df_test = pd.read_csv('data/test.csv')\n",
    "df_test['Title_lowered'] = df_test['Title'].map(lambda text : str(text).lower())\n",
    "sentences_test = df_test['Title'].map(str).values.tolist()\n",
    "sentences_embeddings = inference_sbert(sentences_test)\n",
    "df_test['embeddings'] = sentences_embeddings.numpy().tolist()"
   ]
  },
  {
   "cell_type": "code",
   "execution_count": 11,
   "id": "5ff25a80",
   "metadata": {},
   "outputs": [
    {
     "name": "stderr",
     "output_type": "stream",
     "text": [
      "4it [00:02,  1.61it/s]\n"
     ]
    }
   ],
   "source": [
    "def inference(model,dftest):\n",
    "    embeddings_test = np.array(list(dftest['embeddings'].values))\n",
    "    preds = model.predict(embeddings_test)\n",
    "    return preds\n",
    "\n",
    "df_test = pd.read_csv('data/test.csv')\n",
    "y_preds_class = None\n",
    "for index,model in tqdm(enumerate(best_models)):\n",
    "    dftrain, dftest = df_train.iloc[train_indexes[index]], df_train.iloc[test_indexes[index]]\n",
    "    preds = inference(model,dftest)\n",
    "    if not isinstance(y_preds_class,type(preds)):\n",
    "        ypro_test = dftest['Domain'].values\n",
    "        y_preds_class= preds\n",
    "    else:\n",
    "        ypro_test = np.concatenate((ypro_test,dftest['Domain'].values))\n",
    "        y_preds_class = np.concatenate((y_preds_class,preds))"
   ]
  },
  {
   "cell_type": "code",
   "execution_count": 13,
   "id": "51f876b5",
   "metadata": {},
   "outputs": [
    {
     "name": "stdout",
     "output_type": "stream",
     "text": [
      "              precision    recall  f1-score   support\n",
      "\n",
      "      Career       0.79      0.82      0.81       179\n",
      "  Hackathons       0.84      0.75      0.79       135\n",
      "        Misc       0.82      0.24      0.37        38\n",
      "       Other       0.79      0.46      0.58        74\n",
      "   Resources       0.65      0.46      0.54        70\n",
      "  Techniques       0.77      0.86      0.81       670\n",
      "       Tools       0.75      0.77      0.76       368\n",
      "\n",
      "    accuracy                           0.77      1534\n",
      "   macro avg       0.77      0.62      0.67      1534\n",
      "weighted avg       0.77      0.77      0.76      1534\n",
      "\n"
     ]
    }
   ],
   "source": [
    "print(classification_report(ypro_test,y_preds_class))"
   ]
  },
  {
   "cell_type": "code",
   "execution_count": 100,
   "id": "18327273",
   "metadata": {},
   "outputs": [
    {
     "name": "stdout",
     "output_type": "stream",
     "text": [
      "              precision    recall  f1-score   support\n",
      "\n",
      "      Career       0.80      0.84      0.82       788\n",
      "  Hackathons       0.77      0.60      0.67       472\n",
      "        Misc       0.76      0.24      0.36       134\n",
      "       Other       0.26      0.05      0.08       220\n",
      "   Resources       0.48      0.36      0.41       306\n",
      "  Techniques       0.74      0.85      0.79      3330\n",
      "       Tools       0.69      0.65      0.67      1651\n",
      "\n",
      "    accuracy                           0.73      6901\n",
      "   macro avg       0.64      0.51      0.54      6901\n",
      "weighted avg       0.71      0.73      0.71      6901\n",
      "\n"
     ]
    }
   ],
   "source": [
    "print(classification_report(ypro_test,y_preds_class))"
   ]
  },
  {
   "cell_type": "raw",
   "id": "e970caa0",
   "metadata": {},
   "source": [
    "              precision    recall  f1-score   support\n",
    "\n",
    "      Career       0.80      0.84      0.82       788\n",
    "  Hackathons       0.77      0.60      0.67       472\n",
    "        Misc       0.76      0.24      0.36       134\n",
    "       Other       0.26      0.05      0.08       220\n",
    "   Resources       0.48      0.36      0.41       306\n",
    "  Techniques       0.74      0.85      0.79      3330\n",
    "       Tools       0.69      0.65      0.67      1651\n",
    "\n",
    "    accuracy                           0.73      6901\n",
    "   macro avg       0.64      0.51      0.54      6901\n",
    "weighted avg       0.71      0.73      0.71      6901"
   ]
  },
  {
   "cell_type": "code",
   "execution_count": 14,
   "id": "6d73f1c2",
   "metadata": {},
   "outputs": [],
   "source": [
    "df_test = pd.read_csv('data/test.csv')\n",
    "df_test['Title_lowered'] = df_test['Title'].map(lambda text : str(text).lower())\n",
    "sentences_test = df_test['Title'].map(str).values.tolist()\n",
    "sentences_embeddings = inference_sbert(sentences_test)\n",
    "df_test['embeddings'] = sentences_embeddings.numpy().tolist()"
   ]
  },
  {
   "cell_type": "code",
   "execution_count": 15,
   "id": "98573a85",
   "metadata": {},
   "outputs": [
    {
     "name": "stderr",
     "output_type": "stream",
     "text": [
      "4it [00:19,  4.84s/it]\n"
     ]
    }
   ],
   "source": [
    "def inference(model,dftest):\n",
    "    embeddings_test = np.array(list(dftest['embeddings'].values))\n",
    "    preds = model.predict(embeddings_test)\n",
    "    return preds\n",
    "\n",
    "\n",
    "y_preds_class = []\n",
    "for index,model in tqdm(enumerate(best_models)):\n",
    "    dftest = df_test\n",
    "    preds = inference(model,dftest)\n",
    "    y_preds_class.append(preds)"
   ]
  },
  {
   "cell_type": "code",
   "execution_count": 24,
   "id": "3c29db67",
   "metadata": {},
   "outputs": [],
   "source": [
    "y_preds_class = np.array(y_preds_class)\n",
    "preds = []\n",
    "for i in range(len(y_preds_class[0])):\n",
    "    count = Counter(list(y_preds_class[:,i]))\n",
    "    preds.append(count.most_common(1)[0][0])"
   ]
  },
  {
   "cell_type": "code",
   "execution_count": 25,
   "id": "ac6dc35c",
   "metadata": {},
   "outputs": [],
   "source": [
    "df_test['labels_preds'] = preds"
   ]
  },
  {
   "cell_type": "code",
   "execution_count": 26,
   "id": "0255f3fc",
   "metadata": {},
   "outputs": [],
   "source": [
    "df_test = df_test[['ID','labels_preds']].reset_index()[['ID','labels_preds']]"
   ]
  },
  {
   "cell_type": "code",
   "execution_count": 27,
   "id": "d11a8f0f",
   "metadata": {},
   "outputs": [],
   "source": [
    "df_sample = pd.read_csv('data/sample_submission.csv')[['ID']]"
   ]
  },
  {
   "cell_type": "code",
   "execution_count": 28,
   "id": "4d30c5cd",
   "metadata": {},
   "outputs": [],
   "source": [
    "df_sample = df_sample.merge(df_test, on='ID', how='left')"
   ]
  },
  {
   "cell_type": "code",
   "execution_count": 29,
   "id": "ca670e15",
   "metadata": {},
   "outputs": [],
   "source": [
    "df_sample = df_sample.merge(df_train, on='ID', how='left')#.to_csv('sample_submission_1.csv',columns=['ID','Domain'])\n",
    "df_sample = df_sample[['ID','labels_preds']]\n",
    "df_sample.columns= ['ID','Domain']"
   ]
  },
  {
   "cell_type": "code",
   "execution_count": 30,
   "id": "992e902b",
   "metadata": {},
   "outputs": [],
   "source": [
    "df_sample['Domain'] = df_sample['Domain'].map(str)\n",
    "df_sample['Domain'] = df_sample['Domain'].astype(str)"
   ]
  },
  {
   "cell_type": "code",
   "execution_count": 31,
   "id": "32cbb426",
   "metadata": {},
   "outputs": [],
   "source": [
    "df_sample.to_csv('sample_submission_14.csv',columns=['ID','Domain'],index_label=False)"
   ]
  },
  {
   "cell_type": "code",
   "execution_count": null,
   "id": "f6dfb6c2",
   "metadata": {},
   "outputs": [],
   "source": []
  }
 ],
 "metadata": {
  "kernelspec": {
   "display_name": "Python 3",
   "language": "python",
   "name": "python3"
  },
  "language_info": {
   "codemirror_mode": {
    "name": "ipython",
    "version": 3
   },
   "file_extension": ".py",
   "mimetype": "text/x-python",
   "name": "python",
   "nbconvert_exporter": "python",
   "pygments_lexer": "ipython3",
   "version": "3.8.8"
  }
 },
 "nbformat": 4,
 "nbformat_minor": 5
}
