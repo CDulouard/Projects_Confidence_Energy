{
 "cells": [
  {
   "cell_type": "code",
   "execution_count": 4,
   "id": "343a1370",
   "metadata": {},
   "outputs": [],
   "source": [
    "from transformers import AutoTokenizer, AutoModel\n",
    "import torch\n",
    "import torch.nn.functional as F\n",
    "\n",
    "#Mean Pooling - Take attention mask into account for correct averaging\n",
    "def mean_pooling(model_output, attention_mask):\n",
    "    token_embeddings = model_output[0] #First element of model_output contains all token embeddings\n",
    "    input_mask_expanded = attention_mask.unsqueeze(-1).expand(token_embeddings.size()).float()\n",
    "    return torch.nn.functional.normalize(torch.sum(token_embeddings * input_mask_expanded, 1) / torch.clamp(input_mask_expanded.sum(1), min=1e-9))"
   ]
  },
  {
   "cell_type": "code",
   "execution_count": null,
   "id": "70736796",
   "metadata": {},
   "outputs": [],
   "source": []
  },
  {
   "cell_type": "code",
   "execution_count": 5,
   "id": "ed77806f",
   "metadata": {},
   "outputs": [],
   "source": [
    "from sklearn.metrics import accuracy_score\n",
    "from sklearn.metrics import classification_report\n",
    "import numpy as np\n",
    "from sklearn.feature_extraction.text import TfidfVectorizer\n",
    "from sklearn.ensemble import RandomForestClassifier\n",
    "from sklearn.model_selection import train_test_split\n",
    "from nltk.corpus import stopwords\n",
    "stops = stopwords.words('english')\n",
    "from sklearn.svm import LinearSVC,SVC\n",
    "import pandas as pd\n",
    "from tqdm import tqdm\n",
    "from sklearn.model_selection import cross_validate,StratifiedKFold\n",
    "from collections import Counter\n",
    "\n",
    "def inference_sbert(sentences):\n",
    "    tokenizer = AutoTokenizer.from_pretrained('sentence-transformers/multi-qa-mpnet-base-dot-v1')\n",
    "    model = AutoModel.from_pretrained('sentence-transformers/multi-qa-mpnet-base-dot-v1')\n",
    "    encoded_input = tokenizer(sentences, padding=True, truncation=True, return_tensors='pt')\n",
    "    with torch.no_grad():\n",
    "        model_output = model(**encoded_input)\n",
    "    sentence_embeddings = mean_pooling(model_output, encoded_input['attention_mask'])\n",
    "    sentence_embeddings = F.normalize(sentence_embeddings, p=2, dim=1)\n",
    "    return sentence_embeddings\n",
    "\n",
    "def model(df_train,df_test,embeddings_=False,tfidf_=False,model=SVC(**{'C':4.238})):\n",
    "    x_train = df_train['Title_lowered']\n",
    "    x_test = df_test['Title_lowered']\n",
    "    y_train = df_train['Domain']\n",
    "    \n",
    "    embeddings = np.array(list(df_train['embeddings'].values))\n",
    "    embeddings_test = np.array(list(df_test['embeddings'].values))\n",
    "    tfidf = TfidfVectorizer(stop_words=stops,ngram_range=(1,3),max_features=900)\n",
    "    x_train_f = tfidf.fit_transform(x_train.values)\n",
    "    x_test_f = tfidf.fit_transform(x_test.values)\n",
    "    if embeddings_ == True and tfidf_==True:\n",
    "        x_to_train = np.hstack((embeddings,x_train_f.todense()))\n",
    "        x_to_test = np.hstack((embeddings_test,x_test_f.todense()))\n",
    "    if embeddings_ == False and tfidf_ == True:\n",
    "        x_to_train=x_train_f\n",
    "        x_to_test=x_test_f\n",
    "    if embeddings_ == True and tfidf_ == False:\n",
    "        x_to_train = embeddings\n",
    "        x_to_test = embeddings_test\n",
    "    model.fit(x_to_train, y_train)\n",
    "    y_preds = model.predict(x_to_test)\n",
    "    return y_preds,model"
   ]
  },
  {
   "cell_type": "raw",
   "id": "f137f27e",
   "metadata": {},
   "source": [
    "df_train = pd.read_csv('data/train.csv').sample(frac=1).drop_duplicates('Title')\n"
   ]
  },
  {
   "cell_type": "code",
   "execution_count": 7,
   "id": "dea5bb05",
   "metadata": {},
   "outputs": [],
   "source": [
    "import pickle\n",
    "with open('df_train.pkl','rb') as f:\n",
    "    df_train = pickle.load(f)"
   ]
  },
  {
   "cell_type": "code",
   "execution_count": 8,
   "id": "fed861e9",
   "metadata": {},
   "outputs": [],
   "source": [
    "df_train['Title_lowered'] = df_train['Title'].map(lambda text : str(text).lower())\n",
    "\n",
    "sentences_train = df_train['Title'].map(str).values.tolist()\n",
    "sentences_embeddings = inference_sbert(sentences_train)\n",
    "df_train['embeddings'] = sentences_embeddings.numpy().tolist()\n",
    "#sentences_test = df_test['Title'].map(str).values.tolist()\n",
    "#sentences_embeddings = inference_sbert(sentences_test)\n",
    "#df_test['embeddings'] = sentences_embeddings.numpy().tolist()"
   ]
  },
  {
   "cell_type": "code",
   "execution_count": 9,
   "id": "0ddda3dc",
   "metadata": {},
   "outputs": [],
   "source": [
    "df_train['Title_lowered'] = df_train['Title'].map(lambda text : str(text).lower())"
   ]
  },
  {
   "cell_type": "code",
   "execution_count": 10,
   "id": "89391ee3",
   "metadata": {},
   "outputs": [],
   "source": [
    "df_train = df_train.reset_index()"
   ]
  },
  {
   "cell_type": "code",
   "execution_count": 11,
   "id": "19f64bcb",
   "metadata": {},
   "outputs": [],
   "source": [
    "import warnings\n",
    "warnings.filterwarnings(\"ignore\")"
   ]
  },
  {
   "cell_type": "code",
   "execution_count": 12,
   "id": "2fd0a3dd",
   "metadata": {
    "scrolled": true
   },
   "outputs": [
    {
     "name": "stderr",
     "output_type": "stream",
     "text": [
      "10it [01:04,  6.49s/it]\n"
     ]
    },
    {
     "name": "stdout",
     "output_type": "stream",
     "text": [
      "0.5954663318862364\n"
     ]
    },
    {
     "name": "stderr",
     "output_type": "stream",
     "text": [
      "10it [01:00,  6.01s/it]\n"
     ]
    },
    {
     "name": "stdout",
     "output_type": "stream",
     "text": [
      "0.5501103203963476\n"
     ]
    },
    {
     "name": "stderr",
     "output_type": "stream",
     "text": [
      "10it [00:58,  5.82s/it]\n"
     ]
    },
    {
     "name": "stdout",
     "output_type": "stream",
     "text": [
      "0.5958510035310586\n"
     ]
    },
    {
     "name": "stderr",
     "output_type": "stream",
     "text": [
      "10it [00:59,  5.99s/it]\n"
     ]
    },
    {
     "name": "stdout",
     "output_type": "stream",
     "text": [
      "0.5707484937207344\n"
     ]
    },
    {
     "name": "stderr",
     "output_type": "stream",
     "text": [
      "10it [00:58,  5.82s/it]\n"
     ]
    },
    {
     "name": "stdout",
     "output_type": "stream",
     "text": [
      "0.5677479896827747\n"
     ]
    },
    {
     "name": "stderr",
     "output_type": "stream",
     "text": [
      "10it [00:59,  5.93s/it]\n"
     ]
    },
    {
     "name": "stdout",
     "output_type": "stream",
     "text": [
      "0.6088840145498793\n"
     ]
    },
    {
     "name": "stderr",
     "output_type": "stream",
     "text": [
      "10it [00:58,  5.87s/it]\n"
     ]
    },
    {
     "name": "stdout",
     "output_type": "stream",
     "text": [
      "0.5854157447297073\n"
     ]
    },
    {
     "name": "stderr",
     "output_type": "stream",
     "text": [
      "10it [00:55,  5.58s/it]\n"
     ]
    },
    {
     "name": "stdout",
     "output_type": "stream",
     "text": [
      "0.6042002155657095\n"
     ]
    },
    {
     "name": "stderr",
     "output_type": "stream",
     "text": [
      "10it [00:56,  5.64s/it]\n"
     ]
    },
    {
     "name": "stdout",
     "output_type": "stream",
     "text": [
      "0.5917026168915316\n"
     ]
    },
    {
     "name": "stderr",
     "output_type": "stream",
     "text": [
      "10it [00:55,  5.56s/it]\n"
     ]
    },
    {
     "name": "stdout",
     "output_type": "stream",
     "text": [
      "0.5587934778327485\n"
     ]
    },
    {
     "name": "stderr",
     "output_type": "stream",
     "text": [
      "10it [01:02,  6.29s/it]\n"
     ]
    },
    {
     "name": "stdout",
     "output_type": "stream",
     "text": [
      "0.5979004396847112\n"
     ]
    },
    {
     "name": "stderr",
     "output_type": "stream",
     "text": [
      "10it [01:35,  9.52s/it]\n"
     ]
    },
    {
     "name": "stdout",
     "output_type": "stream",
     "text": [
      "0.5714880230763443\n"
     ]
    },
    {
     "name": "stderr",
     "output_type": "stream",
     "text": [
      "10it [00:59,  5.99s/it]\n"
     ]
    },
    {
     "name": "stdout",
     "output_type": "stream",
     "text": [
      "0.572816720524816\n"
     ]
    },
    {
     "name": "stderr",
     "output_type": "stream",
     "text": [
      "10it [00:57,  5.75s/it]\n"
     ]
    },
    {
     "name": "stdout",
     "output_type": "stream",
     "text": [
      "0.5839082885948077\n"
     ]
    },
    {
     "name": "stderr",
     "output_type": "stream",
     "text": [
      "10it [00:58,  5.89s/it]\n"
     ]
    },
    {
     "name": "stdout",
     "output_type": "stream",
     "text": [
      "0.5802556457018699\n"
     ]
    },
    {
     "name": "stderr",
     "output_type": "stream",
     "text": [
      "10it [00:57,  5.72s/it]\n"
     ]
    },
    {
     "name": "stdout",
     "output_type": "stream",
     "text": [
      "0.5897836430721466\n"
     ]
    },
    {
     "name": "stderr",
     "output_type": "stream",
     "text": [
      "10it [00:55,  5.51s/it]\n"
     ]
    },
    {
     "name": "stdout",
     "output_type": "stream",
     "text": [
      "0.5729208795569366\n"
     ]
    },
    {
     "name": "stderr",
     "output_type": "stream",
     "text": [
      "10it [00:57,  5.71s/it]\n"
     ]
    },
    {
     "name": "stdout",
     "output_type": "stream",
     "text": [
      "0.5632117830784782\n"
     ]
    },
    {
     "name": "stderr",
     "output_type": "stream",
     "text": [
      "10it [00:56,  5.66s/it]\n"
     ]
    },
    {
     "name": "stdout",
     "output_type": "stream",
     "text": [
      "0.5584825474458507\n"
     ]
    },
    {
     "name": "stderr",
     "output_type": "stream",
     "text": [
      "10it [00:57,  5.77s/it]"
     ]
    },
    {
     "name": "stdout",
     "output_type": "stream",
     "text": [
      "0.5398589734330355\n"
     ]
    },
    {
     "name": "stderr",
     "output_type": "stream",
     "text": [
      "\n"
     ]
    }
   ],
   "source": [
    "train_indexes= []\n",
    "test_indexes = []\n",
    "best_models = []\n",
    "for i in range(20):\n",
    "    maximum = 0\n",
    "    y_preds_class = None\n",
    "    df_train['Domain_{}'.format(i)] = None\n",
    "    skf = StratifiedKFold(n_splits=10, shuffle=True, random_state=np.random.randint(9,999))\n",
    "    for train_index, test_index in tqdm(skf.split(df_train['Title_lowered'], df_train['Domain'])):\n",
    "        dftrain, dftest = df_train.iloc[train_index], df_train.iloc[test_index]\n",
    "        dftest_,modell = model(dftrain,dftest,embeddings_=True,tfidf_=False,model=SVC(**{'C':4.238}))\n",
    "\n",
    "        if not isinstance(y_preds_class,type(dftest_)):\n",
    "            ypro_test = dftest['Domain'].values\n",
    "            y_preds_class= dftest_\n",
    "        else:\n",
    "            ypro_test = np.concatenate((ypro_test,dftest['Domain'].values))\n",
    "            y_preds_class = np.concatenate((y_preds_class,dftest_))\n",
    "        df_train.loc[test_index,'Domain_{}'.format(i)] = dftest_\n",
    "        f1_macro = classification_report(dftest['Domain'].values,dftest_,output_dict='csv')['macro avg']['f1-score']\n",
    "        \n",
    "        if f1_macro>maximum:\n",
    "            maximum = f1_macro\n",
    "            ypro_test_ = dftest['Domain'].values\n",
    "            train_indexes_ =train_index\n",
    "            test_indexes_ = test_index\n",
    "            best_modell = modell\n",
    "    print(maximum)\n",
    "    best_models.append(best_modell)\n",
    "    train_indexes.append(train_indexes_)\n",
    "    test_indexes.append(test_indexes_)"
   ]
  },
  {
   "cell_type": "code",
   "execution_count": 13,
   "id": "f9b860ee",
   "metadata": {},
   "outputs": [],
   "source": [
    "df_test = pd.read_csv('data/test.csv')\n",
    "df_test['Title_lowered'] = df_test['Title'].map(lambda text : str(text).lower())\n",
    "sentences_test = df_test['Title'].map(str).values.tolist()\n",
    "sentences_embeddings = inference_sbert(sentences_test)\n",
    "df_test['embeddings'] = sentences_embeddings.numpy().tolist()"
   ]
  },
  {
   "cell_type": "code",
   "execution_count": 14,
   "id": "b20eb24d",
   "metadata": {},
   "outputs": [
    {
     "ename": "FileNotFoundError",
     "evalue": "[Errno 2] No such file or directory: 'data/test_.csv'",
     "output_type": "error",
     "traceback": [
      "\u001b[0;31m---------------------------------------------------------------------------\u001b[0m",
      "\u001b[0;31mFileNotFoundError\u001b[0m                         Traceback (most recent call last)",
      "\u001b[0;32m<ipython-input-14-1935c6c9c694>\u001b[0m in \u001b[0;36m<module>\u001b[0;34m\u001b[0m\n\u001b[1;32m      4\u001b[0m     \u001b[0;32mreturn\u001b[0m \u001b[0mpreds\u001b[0m\u001b[0;34m\u001b[0m\u001b[0;34m\u001b[0m\u001b[0m\n\u001b[1;32m      5\u001b[0m \u001b[0;34m\u001b[0m\u001b[0m\n\u001b[0;32m----> 6\u001b[0;31m \u001b[0mdf_test\u001b[0m \u001b[0;34m=\u001b[0m \u001b[0mpd\u001b[0m\u001b[0;34m.\u001b[0m\u001b[0mread_csv\u001b[0m\u001b[0;34m(\u001b[0m\u001b[0;34m'data/test_.csv'\u001b[0m\u001b[0;34m)\u001b[0m\u001b[0;34m\u001b[0m\u001b[0;34m\u001b[0m\u001b[0m\n\u001b[0m\u001b[1;32m      7\u001b[0m \u001b[0my_preds_class\u001b[0m \u001b[0;34m=\u001b[0m \u001b[0;32mNone\u001b[0m\u001b[0;34m\u001b[0m\u001b[0;34m\u001b[0m\u001b[0m\n\u001b[1;32m      8\u001b[0m \u001b[0;32mfor\u001b[0m \u001b[0mindex\u001b[0m\u001b[0;34m,\u001b[0m\u001b[0mmodel\u001b[0m \u001b[0;32min\u001b[0m \u001b[0mtqdm\u001b[0m\u001b[0;34m(\u001b[0m\u001b[0menumerate\u001b[0m\u001b[0;34m(\u001b[0m\u001b[0mbest_models\u001b[0m\u001b[0;34m)\u001b[0m\u001b[0;34m)\u001b[0m\u001b[0;34m:\u001b[0m\u001b[0;34m\u001b[0m\u001b[0;34m\u001b[0m\u001b[0m\n",
      "\u001b[0;32m~/anaconda3/lib/python3.8/site-packages/pandas/io/parsers.py\u001b[0m in \u001b[0;36mread_csv\u001b[0;34m(filepath_or_buffer, sep, delimiter, header, names, index_col, usecols, squeeze, prefix, mangle_dupe_cols, dtype, engine, converters, true_values, false_values, skipinitialspace, skiprows, skipfooter, nrows, na_values, keep_default_na, na_filter, verbose, skip_blank_lines, parse_dates, infer_datetime_format, keep_date_col, date_parser, dayfirst, cache_dates, iterator, chunksize, compression, thousands, decimal, lineterminator, quotechar, quoting, doublequote, escapechar, comment, encoding, dialect, error_bad_lines, warn_bad_lines, delim_whitespace, low_memory, memory_map, float_precision)\u001b[0m\n\u001b[1;32m    686\u001b[0m     )\n\u001b[1;32m    687\u001b[0m \u001b[0;34m\u001b[0m\u001b[0m\n\u001b[0;32m--> 688\u001b[0;31m     \u001b[0;32mreturn\u001b[0m \u001b[0m_read\u001b[0m\u001b[0;34m(\u001b[0m\u001b[0mfilepath_or_buffer\u001b[0m\u001b[0;34m,\u001b[0m \u001b[0mkwds\u001b[0m\u001b[0;34m)\u001b[0m\u001b[0;34m\u001b[0m\u001b[0;34m\u001b[0m\u001b[0m\n\u001b[0m\u001b[1;32m    689\u001b[0m \u001b[0;34m\u001b[0m\u001b[0m\n\u001b[1;32m    690\u001b[0m \u001b[0;34m\u001b[0m\u001b[0m\n",
      "\u001b[0;32m~/anaconda3/lib/python3.8/site-packages/pandas/io/parsers.py\u001b[0m in \u001b[0;36m_read\u001b[0;34m(filepath_or_buffer, kwds)\u001b[0m\n\u001b[1;32m    452\u001b[0m \u001b[0;34m\u001b[0m\u001b[0m\n\u001b[1;32m    453\u001b[0m     \u001b[0;31m# Create the parser.\u001b[0m\u001b[0;34m\u001b[0m\u001b[0;34m\u001b[0m\u001b[0;34m\u001b[0m\u001b[0m\n\u001b[0;32m--> 454\u001b[0;31m     \u001b[0mparser\u001b[0m \u001b[0;34m=\u001b[0m \u001b[0mTextFileReader\u001b[0m\u001b[0;34m(\u001b[0m\u001b[0mfp_or_buf\u001b[0m\u001b[0;34m,\u001b[0m \u001b[0;34m**\u001b[0m\u001b[0mkwds\u001b[0m\u001b[0;34m)\u001b[0m\u001b[0;34m\u001b[0m\u001b[0;34m\u001b[0m\u001b[0m\n\u001b[0m\u001b[1;32m    455\u001b[0m \u001b[0;34m\u001b[0m\u001b[0m\n\u001b[1;32m    456\u001b[0m     \u001b[0;32mif\u001b[0m \u001b[0mchunksize\u001b[0m \u001b[0;32mor\u001b[0m \u001b[0miterator\u001b[0m\u001b[0;34m:\u001b[0m\u001b[0;34m\u001b[0m\u001b[0;34m\u001b[0m\u001b[0m\n",
      "\u001b[0;32m~/anaconda3/lib/python3.8/site-packages/pandas/io/parsers.py\u001b[0m in \u001b[0;36m__init__\u001b[0;34m(self, f, engine, **kwds)\u001b[0m\n\u001b[1;32m    946\u001b[0m             \u001b[0mself\u001b[0m\u001b[0;34m.\u001b[0m\u001b[0moptions\u001b[0m\u001b[0;34m[\u001b[0m\u001b[0;34m\"has_index_names\"\u001b[0m\u001b[0;34m]\u001b[0m \u001b[0;34m=\u001b[0m \u001b[0mkwds\u001b[0m\u001b[0;34m[\u001b[0m\u001b[0;34m\"has_index_names\"\u001b[0m\u001b[0;34m]\u001b[0m\u001b[0;34m\u001b[0m\u001b[0;34m\u001b[0m\u001b[0m\n\u001b[1;32m    947\u001b[0m \u001b[0;34m\u001b[0m\u001b[0m\n\u001b[0;32m--> 948\u001b[0;31m         \u001b[0mself\u001b[0m\u001b[0;34m.\u001b[0m\u001b[0m_make_engine\u001b[0m\u001b[0;34m(\u001b[0m\u001b[0mself\u001b[0m\u001b[0;34m.\u001b[0m\u001b[0mengine\u001b[0m\u001b[0;34m)\u001b[0m\u001b[0;34m\u001b[0m\u001b[0;34m\u001b[0m\u001b[0m\n\u001b[0m\u001b[1;32m    949\u001b[0m \u001b[0;34m\u001b[0m\u001b[0m\n\u001b[1;32m    950\u001b[0m     \u001b[0;32mdef\u001b[0m \u001b[0mclose\u001b[0m\u001b[0;34m(\u001b[0m\u001b[0mself\u001b[0m\u001b[0;34m)\u001b[0m\u001b[0;34m:\u001b[0m\u001b[0;34m\u001b[0m\u001b[0;34m\u001b[0m\u001b[0m\n",
      "\u001b[0;32m~/anaconda3/lib/python3.8/site-packages/pandas/io/parsers.py\u001b[0m in \u001b[0;36m_make_engine\u001b[0;34m(self, engine)\u001b[0m\n\u001b[1;32m   1178\u001b[0m     \u001b[0;32mdef\u001b[0m \u001b[0m_make_engine\u001b[0m\u001b[0;34m(\u001b[0m\u001b[0mself\u001b[0m\u001b[0;34m,\u001b[0m \u001b[0mengine\u001b[0m\u001b[0;34m=\u001b[0m\u001b[0;34m\"c\"\u001b[0m\u001b[0;34m)\u001b[0m\u001b[0;34m:\u001b[0m\u001b[0;34m\u001b[0m\u001b[0;34m\u001b[0m\u001b[0m\n\u001b[1;32m   1179\u001b[0m         \u001b[0;32mif\u001b[0m \u001b[0mengine\u001b[0m \u001b[0;34m==\u001b[0m \u001b[0;34m\"c\"\u001b[0m\u001b[0;34m:\u001b[0m\u001b[0;34m\u001b[0m\u001b[0;34m\u001b[0m\u001b[0m\n\u001b[0;32m-> 1180\u001b[0;31m             \u001b[0mself\u001b[0m\u001b[0;34m.\u001b[0m\u001b[0m_engine\u001b[0m \u001b[0;34m=\u001b[0m \u001b[0mCParserWrapper\u001b[0m\u001b[0;34m(\u001b[0m\u001b[0mself\u001b[0m\u001b[0;34m.\u001b[0m\u001b[0mf\u001b[0m\u001b[0;34m,\u001b[0m \u001b[0;34m**\u001b[0m\u001b[0mself\u001b[0m\u001b[0;34m.\u001b[0m\u001b[0moptions\u001b[0m\u001b[0;34m)\u001b[0m\u001b[0;34m\u001b[0m\u001b[0;34m\u001b[0m\u001b[0m\n\u001b[0m\u001b[1;32m   1181\u001b[0m         \u001b[0;32melse\u001b[0m\u001b[0;34m:\u001b[0m\u001b[0;34m\u001b[0m\u001b[0;34m\u001b[0m\u001b[0m\n\u001b[1;32m   1182\u001b[0m             \u001b[0;32mif\u001b[0m \u001b[0mengine\u001b[0m \u001b[0;34m==\u001b[0m \u001b[0;34m\"python\"\u001b[0m\u001b[0;34m:\u001b[0m\u001b[0;34m\u001b[0m\u001b[0;34m\u001b[0m\u001b[0m\n",
      "\u001b[0;32m~/anaconda3/lib/python3.8/site-packages/pandas/io/parsers.py\u001b[0m in \u001b[0;36m__init__\u001b[0;34m(self, src, **kwds)\u001b[0m\n\u001b[1;32m   2008\u001b[0m         \u001b[0mkwds\u001b[0m\u001b[0;34m[\u001b[0m\u001b[0;34m\"usecols\"\u001b[0m\u001b[0;34m]\u001b[0m \u001b[0;34m=\u001b[0m \u001b[0mself\u001b[0m\u001b[0;34m.\u001b[0m\u001b[0musecols\u001b[0m\u001b[0;34m\u001b[0m\u001b[0;34m\u001b[0m\u001b[0m\n\u001b[1;32m   2009\u001b[0m \u001b[0;34m\u001b[0m\u001b[0m\n\u001b[0;32m-> 2010\u001b[0;31m         \u001b[0mself\u001b[0m\u001b[0;34m.\u001b[0m\u001b[0m_reader\u001b[0m \u001b[0;34m=\u001b[0m \u001b[0mparsers\u001b[0m\u001b[0;34m.\u001b[0m\u001b[0mTextReader\u001b[0m\u001b[0;34m(\u001b[0m\u001b[0msrc\u001b[0m\u001b[0;34m,\u001b[0m \u001b[0;34m**\u001b[0m\u001b[0mkwds\u001b[0m\u001b[0;34m)\u001b[0m\u001b[0;34m\u001b[0m\u001b[0;34m\u001b[0m\u001b[0m\n\u001b[0m\u001b[1;32m   2011\u001b[0m         \u001b[0mself\u001b[0m\u001b[0;34m.\u001b[0m\u001b[0munnamed_cols\u001b[0m \u001b[0;34m=\u001b[0m \u001b[0mself\u001b[0m\u001b[0;34m.\u001b[0m\u001b[0m_reader\u001b[0m\u001b[0;34m.\u001b[0m\u001b[0munnamed_cols\u001b[0m\u001b[0;34m\u001b[0m\u001b[0;34m\u001b[0m\u001b[0m\n\u001b[1;32m   2012\u001b[0m \u001b[0;34m\u001b[0m\u001b[0m\n",
      "\u001b[0;32mpandas/_libs/parsers.pyx\u001b[0m in \u001b[0;36mpandas._libs.parsers.TextReader.__cinit__\u001b[0;34m()\u001b[0m\n",
      "\u001b[0;32mpandas/_libs/parsers.pyx\u001b[0m in \u001b[0;36mpandas._libs.parsers.TextReader._setup_parser_source\u001b[0;34m()\u001b[0m\n",
      "\u001b[0;31mFileNotFoundError\u001b[0m: [Errno 2] No such file or directory: 'data/test_.csv'"
     ]
    }
   ],
   "source": [
    "def inference(model,dftest):\n",
    "    embeddings_test = np.array(list(dftest['embeddings'].values))\n",
    "    preds = model.predict(embeddings_test)\n",
    "    return preds\n",
    "\n",
    "df_test = pd.read_csv('data/test.csv')\n",
    "y_preds_class = None\n",
    "for index,model in tqdm(enumerate(best_models)):\n",
    "    dftrain, dftest = df_train.iloc[train_indexes[index]], df_train.iloc[test_indexes[index]]\n",
    "    preds = inference(model,dftest)\n",
    "    if not isinstance(y_preds_class,type(preds)):\n",
    "        ypro_test = dftest['Domain'].values\n",
    "        y_preds_class= preds\n",
    "    else:\n",
    "        ypro_test = np.concatenate((ypro_test,dftest['Domain'].values))\n",
    "        y_preds_class = np.concatenate((y_preds_class,preds))"
   ]
  },
  {
   "cell_type": "code",
   "execution_count": null,
   "id": "1fca71c3",
   "metadata": {},
   "outputs": [],
   "source": [
    "print(classification_report(ypro_test,y_preds_class))"
   ]
  },
  {
   "cell_type": "code",
   "execution_count": 100,
   "id": "2cc1fe03",
   "metadata": {},
   "outputs": [
    {
     "name": "stdout",
     "output_type": "stream",
     "text": [
      "              precision    recall  f1-score   support\n",
      "\n",
      "      Career       0.80      0.84      0.82       788\n",
      "  Hackathons       0.77      0.60      0.67       472\n",
      "        Misc       0.76      0.24      0.36       134\n",
      "       Other       0.26      0.05      0.08       220\n",
      "   Resources       0.48      0.36      0.41       306\n",
      "  Techniques       0.74      0.85      0.79      3330\n",
      "       Tools       0.69      0.65      0.67      1651\n",
      "\n",
      "    accuracy                           0.73      6901\n",
      "   macro avg       0.64      0.51      0.54      6901\n",
      "weighted avg       0.71      0.73      0.71      6901\n",
      "\n"
     ]
    }
   ],
   "source": [
    "print(classification_report(ypro_test,y_preds_class))"
   ]
  },
  {
   "cell_type": "raw",
   "id": "314eb170",
   "metadata": {},
   "source": [
    "              precision    recall  f1-score   support\n",
    "\n",
    "      Career       0.80      0.84      0.82       788\n",
    "  Hackathons       0.77      0.60      0.67       472\n",
    "        Misc       0.76      0.24      0.36       134\n",
    "       Other       0.26      0.05      0.08       220\n",
    "   Resources       0.48      0.36      0.41       306\n",
    "  Techniques       0.74      0.85      0.79      3330\n",
    "       Tools       0.69      0.65      0.67      1651\n",
    "\n",
    "    accuracy                           0.73      6901\n",
    "   macro avg       0.64      0.51      0.54      6901\n",
    "weighted avg       0.71      0.73      0.71      6901"
   ]
  },
  {
   "cell_type": "code",
   "execution_count": null,
   "id": "f758d897",
   "metadata": {},
   "outputs": [],
   "source": [
    "df_test = pd.read_csv('data/test.csv')\n",
    "df_test['Title_lowered'] = df_test['Title'].map(lambda text : str(text).lower())\n",
    "sentences_test = df_test['Title'].map(str).values.tolist()\n",
    "sentences_embeddings = inference_sbert(sentences_test)\n",
    "df_test['embeddings'] = sentences_embeddings.numpy().tolist()"
   ]
  },
  {
   "cell_type": "code",
   "execution_count": null,
   "id": "b6c0ddea",
   "metadata": {},
   "outputs": [
    {
     "name": "stderr",
     "output_type": "stream",
     "text": [
      "8it [00:23,  2.92s/it]"
     ]
    }
   ],
   "source": [
    "def inference(model,dftest):\n",
    "    embeddings_test = np.array(list(dftest['embeddings'].values))\n",
    "    preds = model.predict(embeddings_test)\n",
    "    return preds\n",
    "\n",
    "\n",
    "y_preds_class = []\n",
    "for index,model in tqdm(enumerate(best_models)):\n",
    "    dftest = df_test\n",
    "    preds = inference(model,dftest)\n",
    "    y_preds_class.append(preds)"
   ]
  },
  {
   "cell_type": "code",
   "execution_count": null,
   "id": "d52e0995",
   "metadata": {},
   "outputs": [],
   "source": [
    "y_preds_class = np.array(y_preds_class)\n",
    "preds = []\n",
    "for i in range(len(y_preds_class[0])):\n",
    "    count = Counter(list(y_preds_class[:,i]))\n",
    "    preds.append(count.most_common(1)[0][0])"
   ]
  },
  {
   "cell_type": "code",
   "execution_count": null,
   "id": "3a699cd3",
   "metadata": {},
   "outputs": [],
   "source": [
    "df_test['labels_preds'] = preds"
   ]
  },
  {
   "cell_type": "code",
   "execution_count": null,
   "id": "d409fd84",
   "metadata": {},
   "outputs": [],
   "source": [
    "df_test = df_test[['ID','labels_preds']].reset_index()[['ID','labels_preds']]"
   ]
  },
  {
   "cell_type": "code",
   "execution_count": null,
   "id": "79381cae",
   "metadata": {},
   "outputs": [],
   "source": [
    "df_sample = pd.read_csv('data/sample_submission_.csv')[['ID']]"
   ]
  },
  {
   "cell_type": "code",
   "execution_count": null,
   "id": "6d156a19",
   "metadata": {},
   "outputs": [],
   "source": [
    "df_sample = df_sample.merge(df_test, on='ID', how='left')"
   ]
  },
  {
   "cell_type": "code",
   "execution_count": null,
   "id": "d3245396",
   "metadata": {},
   "outputs": [],
   "source": [
    "df_sample = df_sample.merge(df_train, on='ID', how='left')#.to_csv('sample_submission_1.csv',columns=['ID','Domain'])\n",
    "df_sample = df_sample[['ID','labels_preds']]\n",
    "df_sample.columns= ['ID','Domain']"
   ]
  },
  {
   "cell_type": "code",
   "execution_count": null,
   "id": "268159d0",
   "metadata": {},
   "outputs": [],
   "source": [
    "df_sample['Domain'] = df_sample['Domain'].map(str)\n",
    "df_sample['Domain'] = df_sample['Domain'].astype(str)"
   ]
  },
  {
   "cell_type": "code",
   "execution_count": null,
   "id": "0597a4e3",
   "metadata": {},
   "outputs": [],
   "source": [
    "df_sample.to_csv('sample_submission_13.csv',columns=['ID','Domain'],index_label=False)"
   ]
  },
  {
   "cell_type": "code",
   "execution_count": null,
   "id": "a1a23ac9",
   "metadata": {},
   "outputs": [],
   "source": []
  }
 ],
 "metadata": {
  "kernelspec": {
   "display_name": "Python 3",
   "language": "python",
   "name": "python3"
  },
  "language_info": {
   "codemirror_mode": {
    "name": "ipython",
    "version": 3
   },
   "file_extension": ".py",
   "mimetype": "text/x-python",
   "name": "python",
   "nbconvert_exporter": "python",
   "pygments_lexer": "ipython3",
   "version": "3.8.10"
  }
 },
 "nbformat": 4,
 "nbformat_minor": 5
}
