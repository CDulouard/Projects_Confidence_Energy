{
 "cells": [
  {
   "cell_type": "code",
   "execution_count": 1,
   "metadata": {
    "_cell_guid": "b1076dfc-b9ad-4769-8c92-a6c4dae69d19",
    "_uuid": "8f2839f25d086af736a60e9eeb907d3b93b6e0e5"
   },
   "outputs": [],
   "source": [
    "import numpy as np # linear algebra\n",
    "import pandas as pd # data processing, CSV file I/O (e.g. pd.read_csv)\n",
    "import matplotlib.pyplot as plt # for plotting beautiful graphs\n",
    "\n",
    "# train test split from sklearn\n",
    "from sklearn.model_selection import train_test_split\n",
    "\n",
    "# Import Torch \n",
    "import torch\n",
    "import torch.nn as nn\n",
    "from torchvision import transforms, models\n",
    "# from torch.utils.data import SubsetRandomSampler\n",
    "from torch.autograd import Variable\n",
    "from torch import nn, optim\n",
    "import torch.nn.functional as F\n",
    "\n",
    "# What's in the current directory?\n",
    "import os"
   ]
  },
  {
   "cell_type": "code",
   "execution_count": 2,
   "metadata": {},
   "outputs": [
    {
     "data": {
      "text/plain": [
       "0    1.0\n",
       "1    0.0\n",
       "2    1.0\n",
       "3    4.0\n",
       "4    0.0\n",
       "Name: label, dtype: float32"
      ]
     },
     "execution_count": 2,
     "metadata": {},
     "output_type": "execute_result"
    }
   ],
   "source": [
    "train = pd.read_csv(\"digit-recognizer/train.csv\", dtype=np.float32)\n",
    "final_test = pd.read_csv(\"digit-recognizer/test.csv\", dtype=np.float32)\n",
    "sample_sub = pd.read_csv(\"digit-recognizer/sample_submission.csv\")\n",
    "train.label.head()"
   ]
  },
  {
   "cell_type": "code",
   "execution_count": 3,
   "metadata": {},
   "outputs": [],
   "source": [
    "# Seperate the features and labels\n",
    "targets_np = train.label.values\n",
    "features_np = train.loc[:, train.columns != 'label'].values/255\n",
    "\n",
    "# Split into training and test set\n",
    "features_train, features_test, target_train, target_test = train_test_split(features_np, targets_np, test_size=0.2, random_state=42)"
   ]
  },
  {
   "cell_type": "code",
   "execution_count": 4,
   "metadata": {},
   "outputs": [],
   "source": [
    "# create feature and targets tensor for train set. As you remember we need variable to accumulate gradients. Therefore first we create tensor, then we will create variable\n",
    "featuresTrain = torch.from_numpy(features_train)\n",
    "targetsTrain = torch.from_numpy(target_train).type(torch.LongTensor) # data type is long\n",
    "\n",
    "# create feature and targets tensor for test set.\n",
    "featuresTest = torch.from_numpy(features_test)\n",
    "targetsTest = torch.from_numpy(target_test).type(torch.LongTensor) # data type is long"
   ]
  },
  {
   "cell_type": "code",
   "execution_count": 5,
   "metadata": {},
   "outputs": [],
   "source": [
    "# Set batch size\n",
    "batch_size = 512\n",
    "\n",
    "# Pytorch train and test sets\n",
    "train = torch.utils.data.TensorDataset(featuresTrain,targetsTrain)\n",
    "test = torch.utils.data.TensorDataset(featuresTest,targetsTest)\n",
    "\n",
    "# data loader\n",
    "train_loader = torch.utils.data.DataLoader(train, batch_size = batch_size, shuffle = True)\n",
    "test_loader = torch.utils.data.DataLoader(test, batch_size = 1, shuffle = True)"
   ]
  },
  {
   "cell_type": "code",
   "execution_count": 6,
   "metadata": {},
   "outputs": [
    {
     "data": {
      "text/plain": [
       "torch.Size([33600, 784])"
      ]
     },
     "execution_count": 6,
     "metadata": {},
     "output_type": "execute_result"
    }
   ],
   "source": [
    "featuresTrain.shape"
   ]
  },
  {
   "cell_type": "code",
   "execution_count": 7,
   "metadata": {},
   "outputs": [],
   "source": [
    "class Classifier(nn.Module):\n",
    "    def __init__(self):\n",
    "        super().__init__()\n",
    "        # 5 Hidden Layer Network\n",
    "        self.fc1 = nn.Linear(28*28, 512)\n",
    "        self.fc2 = nn.Linear(512, 256)\n",
    "        self.fc3 = nn.Linear(256, 128)\n",
    "        \n",
    "        self.fc4 = nn.Linear(128, 64)\n",
    "\n",
    "        self.fc5 = nn.Linear(64, 10)\n",
    "\n",
    "        # Dropout module with 0.2 probbability\n",
    "        self.dropout = nn.Dropout(p=0.2)\n",
    "        \n",
    "        # Add softmax on output layer\n",
    "        self.softmax = F.log_softmax\n",
    "        \n",
    "    def forward(self, x):\n",
    "        x = self.dropout(F.relu(self.fc1(x)))\n",
    "        x = self.dropout(F.relu(self.fc2(x)))\n",
    "        x = self.dropout(F.relu(self.fc3(x)))\n",
    "        \n",
    "        x = self.dropout(F.relu(self.fc4(x)))\n",
    "        \n",
    "        x = self.dropout(F.relu(self.fc5(x)))\n",
    "        x = self.softmax(x,dim=-1)\n",
    "        \n",
    "        return x"
   ]
  },
  {
   "cell_type": "code",
   "execution_count": 8,
   "metadata": {},
   "outputs": [],
   "source": [
    "class MultiClassSoftMarginLoss(nn.Module):\n",
    "    def __init__(self):\n",
    "        super(MultiClassSoftMarginLoss, self).__init__()\n",
    "        self.loss = nn.SoftMarginLoss()\n",
    "\n",
    "    def forward(self, inputs, targets):\n",
    "        # Convert targets to one-hot with values -1 and 1\n",
    "        one_hot = torch.full_like(inputs, -1)\n",
    "        one_hot.scatter_(1, targets.unsqueeze(1), 1)\n",
    "        \n",
    "        return self.loss(inputs, one_hot)"
   ]
  },
  {
   "cell_type": "code",
   "execution_count": 9,
   "metadata": {},
   "outputs": [],
   "source": [
    "C1 = lambda p,index : (np.nanmean(p*np.log(p))+np.log(p[index]))/2\n",
    "from scipy.stats import pearsonr,spearmanr"
   ]
  },
  {
   "cell_type": "markdown",
   "metadata": {},
   "source": [
    "# Training model"
   ]
  },
  {
   "cell_type": "code",
   "execution_count": null,
   "metadata": {},
   "outputs": [],
   "source": []
  },
  {
   "cell_type": "code",
   "execution_count": 10,
   "metadata": {
    "scrolled": false
   },
   "outputs": [
    {
     "name": "stdout",
     "output_type": "stream",
     "text": [
      "Epoch: 1/3..  Training Loss: 1.108..  Test Loss: 0.506..  Test Accuracy: 0.884\n",
      "Epoch: 2/3..  Training Loss: 0.414..  Test Loss: 0.307..  Test Accuracy: 0.925\n",
      "Epoch: 3/3..  Training Loss: 0.181..  Test Loss: 0.245..  Test Accuracy: 0.941\n"
     ]
    }
   ],
   "source": [
    "# Instantiate our model\n",
    "model = Classifier()\n",
    "# Define our loss function\n",
    "criterion = nn.NLLLoss()\n",
    "# Define the optimier\n",
    "optimizer = optim.Adam(model.parameters(), lr=0.0015)\n",
    "\n",
    "epochs = 3\n",
    "steps = 0\n",
    "print_every = 50\n",
    "train_losses, test_losses = [], []\n",
    "\n",
    "for e in range(epochs):\n",
    "    running_loss = 0\n",
    "    for images, labels in train_loader:\n",
    "        steps += 1\n",
    "        # Prevent accumulation of gradients\n",
    "        optimizer.zero_grad()\n",
    "        # Make predictions\n",
    "        log_ps = model(images)\n",
    "        loss = criterion(log_ps, labels)\n",
    "        #backprop\n",
    "        loss.backward()\n",
    "        optimizer.step()\n",
    "        \n",
    "        running_loss += loss.item()\n",
    "        if steps % print_every == 0:\n",
    "            test_loss = 0\n",
    "            accuracy = 0\n",
    "\n",
    "            # Turn off gradients for validation\n",
    "            with torch.no_grad():\n",
    "                model.eval()\n",
    "                for images, labels in test_loader:\n",
    "                    log_ps = model(images)\n",
    "                    test_loss += criterion(log_ps, labels)\n",
    "\n",
    "                    ps = torch.exp(log_ps)\n",
    "                    # Get our top predictions\n",
    "                    top_p, top_class = ps.topk(1, dim=1)\n",
    "                    equals = top_class == labels.view(*top_class.shape)\n",
    "                    accuracy += torch.mean(equals.type(torch.FloatTensor))\n",
    "\n",
    "            model.train()\n",
    "\n",
    "            train_losses.append(running_loss/len(train_loader))\n",
    "            test_losses.append(test_loss/len(test_loader))\n",
    "\n",
    "            print(\"Epoch: {}/{}.. \".format(e+1, epochs),\n",
    "                  \"Training Loss: {:.3f}.. \".format(train_losses[-1]),\n",
    "                  \"Test Loss: {:.3f}.. \".format(test_losses[-1]),\n",
    "                  \"Test Accuracy: {:.3f}\".format(accuracy/len(test_loader)))"
   ]
  },
  {
   "cell_type": "raw",
   "metadata": {},
   "source": [
    "index = np.argmax(liste_CE)\n",
    "print('selection from CE score')\n",
    "print(liste_CE[index],test_losses[index],acc_liste[index])\n",
    "\n",
    "index = np.argmax(acc_liste)\n",
    "print('selection from test acc ')\n",
    "print(liste_CE[index],test_losses[index],acc_liste[index])\n",
    "\n",
    "index = np.argmax(test_loss)\n",
    "print('selection from test loss')\n",
    "print(liste_CE[index],test_losses[index],acc_liste[index])\n"
   ]
  },
  {
   "cell_type": "raw",
   "metadata": {},
   "source": [
    "pearsonr(liste_CE,test_losses), spearmanr(liste_CE,test_losses)"
   ]
  },
  {
   "cell_type": "code",
   "execution_count": 11,
   "metadata": {},
   "outputs": [],
   "source": [
    "# correlation lineaire très forte avec pvalue extremement petite"
   ]
  },
  {
   "cell_type": "code",
   "execution_count": null,
   "metadata": {},
   "outputs": [],
   "source": []
  },
  {
   "cell_type": "markdown",
   "metadata": {},
   "source": [
    "## Making Predictions on Test data"
   ]
  },
  {
   "cell_type": "code",
   "execution_count": 12,
   "metadata": {},
   "outputs": [],
   "source": [
    "# Making it submission ready\n",
    "submission = []\n",
    "\n",
    "# Turn off gradients for validation\n",
    "with torch.no_grad():\n",
    "    model.eval()\n",
    "    for images, labels in test_loader:\n",
    "        log_ps = model(images)\n",
    "        ps = torch.exp(log_ps)\n",
    "        for index, label in enumerate(labels):\n",
    "            submission.append([ps[index].numpy(),label])"
   ]
  },
  {
   "cell_type": "code",
   "execution_count": 13,
   "metadata": {},
   "outputs": [],
   "source": [
    "C1 = lambda p,index : (np.mean(p*np.log(p))+np.log(p[index]))/2\n",
    "C5 = lambda p,index :  -np.mean(np.log(p/p[index]))\n",
    "dico = {'C1':C1,\n",
    "       'C5':C5}\n"
   ]
  },
  {
   "cell_type": "code",
   "execution_count": 14,
   "metadata": {},
   "outputs": [],
   "source": [
    "label = 6"
   ]
  },
  {
   "cell_type": "code",
   "execution_count": 15,
   "metadata": {},
   "outputs": [],
   "source": [
    "loss = nn.CrossEntropyLoss()\n",
    "C6 = lambda p,target : loss(p,target)"
   ]
  },
  {
   "cell_type": "code",
   "execution_count": 16,
   "metadata": {},
   "outputs": [],
   "source": [
    "liste = []\n",
    "liste_true = []\n",
    "liste_elements = []\n",
    "liste_elements2 = []\n",
    "liste_elements3 = []\n",
    "for i,j in submission:\n",
    "    if j==label:\n",
    "        elements = [dico[operation](i,j) for operation in dico]\n",
    "        liste.append(elements)\n",
    "        liste_elements.append(i)\n",
    "        liste_true.append(i.argmax()==label)\n",
    "        target = [0]*10\n",
    "        target[label]= 1\n",
    "        liste_elements3.append(C6(torch.Tensor(i),torch.Tensor(target)).item())"
   ]
  },
  {
   "cell_type": "code",
   "execution_count": 17,
   "metadata": {},
   "outputs": [],
   "source": [
    "liste_elements3 = np.array(liste_elements3)"
   ]
  },
  {
   "cell_type": "code",
   "execution_count": 18,
   "metadata": {},
   "outputs": [],
   "source": [
    "liste_elements = np.array(liste_elements)"
   ]
  },
  {
   "cell_type": "code",
   "execution_count": 19,
   "metadata": {},
   "outputs": [],
   "source": [
    "liste = np.array(liste)"
   ]
  },
  {
   "cell_type": "code",
   "execution_count": 20,
   "metadata": {},
   "outputs": [],
   "source": [
    "liste_true = np.array(liste_true)"
   ]
  },
  {
   "cell_type": "code",
   "execution_count": 21,
   "metadata": {
    "scrolled": true
   },
   "outputs": [
    {
     "data": {
      "image/png": "[encoded data removed]",
      "text/plain": [
       "<Figure size 640x480 with 1 Axes>"
      ]
     },
     "metadata": {},
     "output_type": "display_data"
    },
    {
     "name": "stdout",
     "output_type": "stream",
     "text": [
      "[False False False False False False False False False False False False\n",
      " False False False  True False  True  True  True  True  True  True  True\n",
      "  True  True  True  True  True  True  True  True  True  True  True  True\n",
      "  True  True  True  True  True  True  True  True  True  True  True  True\n",
      "  True  True  True  True  True  True  True  True  True  True  True  True\n",
      "  True  True  True  True  True  True  True  True  True  True  True  True\n",
      "  True  True  True  True  True  True  True  True  True  True  True  True\n",
      "  True  True  True  True  True  True  True  True  True  True  True  True\n",
      "  True  True  True  True  True  True  True  True  True  True  True  True\n",
      "  True  True  True  True  True  True  True  True  True  True  True  True\n",
      "  True  True  True  True  True  True  True  True  True  True  True  True\n",
      "  True  True  True  True  True  True  True  True  True  True  True  True\n",
      "  True  True  True  True  True  True  True  True  True  True  True  True\n",
      "  True  True  True  True  True  True  True  True  True  True  True  True\n",
      "  True  True  True  True  True  True  True  True  True  True  True  True\n",
      "  True  True  True  True  True  True  True  True  True  True  True  True\n",
      "  True  True  True  True  True  True  True  True  True  True  True  True\n",
      "  True  True  True  True  True  True  True  True  True  True  True  True\n",
      "  True  True  True  True  True  True  True  True  True  True  True  True\n",
      "  True  True  True  True  True  True  True  True  True  True  True  True\n",
      "  True  True  True  True  True  True  True  True  True  True  True  True\n",
      "  True  True  True  True  True  True  True  True  True  True  True  True\n",
      "  True  True  True  True  True  True  True  True  True  True  True  True\n",
      "  True  True  True  True  True  True  True  True  True  True  True  True\n",
      "  True  True  True  True  True  True  True  True  True  True  True  True\n",
      "  True  True  True  True  True  True  True  True  True  True  True  True\n",
      "  True  True  True  True  True  True  True  True  True  True  True  True\n",
      "  True  True  True  True  True  True  True  True  True  True  True  True\n",
      "  True  True  True  True  True  True  True  True  True  True  True  True\n",
      "  True  True  True  True  True  True  True  True  True  True  True  True\n",
      "  True  True  True  True  True  True  True  True  True  True  True  True\n",
      "  True  True  True  True  True  True  True  True  True  True  True  True\n",
      "  True  True  True  True  True  True  True  True  True  True  True  True\n",
      "  True  True  True  True  True  True  True  True  True  True  True  True\n",
      "  True  True  True  True  True  True  True  True  True  True  True  True\n",
      "  True  True  True  True  True  True  True  True  True  True  True  True\n",
      "  True  True  True  True  True  True  True  True  True  True  True  True\n",
      "  True  True  True  True  True  True  True  True  True  True  True  True\n",
      "  True  True  True  True  True  True  True  True  True  True  True  True\n",
      "  True  True  True  True  True  True  True  True  True  True  True  True\n",
      "  True  True  True  True  True  True  True  True  True  True  True  True\n",
      "  True  True  True  True  True  True  True  True  True  True  True  True\n",
      "  True  True  True  True  True  True  True  True  True  True  True  True\n",
      "  True  True  True  True  True  True  True  True  True  True  True  True\n",
      "  True  True  True  True  True  True  True  True  True  True  True  True\n",
      "  True  True  True  True  True  True  True  True  True  True  True  True\n",
      "  True  True  True  True  True  True  True  True  True  True  True  True\n",
      "  True  True  True  True  True  True  True  True  True  True  True  True\n",
      "  True  True  True  True  True  True  True  True  True  True  True  True\n",
      "  True  True  True  True  True  True  True  True  True  True  True  True\n",
      "  True  True  True  True  True  True  True  True  True  True  True  True\n",
      "  True  True  True  True  True  True  True  True  True  True  True  True\n",
      "  True  True  True  True  True  True  True  True  True  True  True  True\n",
      "  True  True  True  True  True  True  True  True  True  True  True  True\n",
      "  True  True  True  True  True  True  True  True  True  True  True  True\n",
      "  True  True  True  True  True  True  True  True  True  True  True  True\n",
      "  True  True  True  True  True  True  True  True  True  True  True  True\n",
      "  True  True  True  True  True  True  True  True  True  True  True  True\n",
      "  True  True  True  True  True  True  True  True  True  True  True  True\n",
      "  True  True  True  True  True  True  True  True  True  True  True  True\n",
      "  True  True  True  True  True  True  True  True  True  True  True  True\n",
      "  True  True  True  True  True  True  True  True  True  True  True  True\n",
      "  True  True  True  True  True  True  True  True  True  True  True  True\n",
      "  True  True  True  True  True  True  True  True  True  True  True  True\n",
      "  True  True  True  True  True  True  True  True  True  True  True  True\n",
      "  True  True  True  True  True]\n"
     ]
    }
   ],
   "source": [
    "for index,operation in enumerate(dico):\n",
    "    array = np.exp(liste[:,index])\n",
    "    indexes_sorted = np.argsort(array)[::-1]\n",
    "    liste_true_ = liste_true[indexes_sorted]\n",
    "    array = array[indexes_sorted]\n",
    "    array2 = np.cumsum(liste_true_)/np.arange(1,len(liste_true_)+1)\n",
    "    liste_elements = liste_elements[indexes_sorted]\n",
    "    liste_elements3 = liste_elements3[indexes_sorted]\n",
    "    plt.plot(array, array2)\n",
    "    score = np.sum(array[::-1])\n",
    "    plt.title('operation ' + operation)\n",
    "    plt.xlabel('confidence entropy')\n",
    "    plt.ylabel('Accuracy')\n",
    "    plt.show()\n",
    "    print(liste_true_[::-1])\n",
    "    break"
   ]
  },
  {
   "cell_type": "code",
   "execution_count": 22,
   "metadata": {},
   "outputs": [],
   "source": [
    "from sklearn.mixture import GaussianMixture"
   ]
  },
  {
   "cell_type": "code",
   "execution_count": null,
   "metadata": {},
   "outputs": [],
   "source": []
  },
  {
   "cell_type": "code",
   "execution_count": 23,
   "metadata": {},
   "outputs": [],
   "source": [
    "gm = GaussianMixture(n_components=2, random_state=0).fit(array.reshape(-1,1))"
   ]
  },
  {
   "cell_type": "code",
   "execution_count": 24,
   "metadata": {},
   "outputs": [],
   "source": [
    "preds = gm.predict(array.reshape(-1,1))"
   ]
  },
  {
   "cell_type": "code",
   "execution_count": 25,
   "metadata": {},
   "outputs": [],
   "source": [
    "mask = (preds==0)\n",
    "array  = array.reshape(-1,1)"
   ]
  },
  {
   "cell_type": "code",
   "execution_count": 26,
   "metadata": {},
   "outputs": [
    {
     "data": {
      "text/plain": [
       "(200, 1)"
      ]
     },
     "execution_count": 26,
     "metadata": {},
     "output_type": "execute_result"
    }
   ],
   "source": [
    "array[preds==1].shape"
   ]
  },
  {
   "cell_type": "code",
   "execution_count": 27,
   "metadata": {},
   "outputs": [],
   "source": [
    "gm = GaussianMixture(n_components=2, random_state=0).fit(np.log(array.reshape(-1,1)))"
   ]
  },
  {
   "cell_type": "code",
   "execution_count": null,
   "metadata": {},
   "outputs": [],
   "source": []
  },
  {
   "cell_type": "code",
   "execution_count": 28,
   "metadata": {
    "scrolled": true
   },
   "outputs": [],
   "source": [
    "preds = gm.predict(np.log(array.reshape(-1,1)))"
   ]
  },
  {
   "cell_type": "code",
   "execution_count": null,
   "metadata": {},
   "outputs": [],
   "source": []
  },
  {
   "cell_type": "code",
   "execution_count": 29,
   "metadata": {},
   "outputs": [],
   "source": [
    "gm = GaussianMixture(n_components=2, random_state=0,max_iter=1000).fit(np.hstack((array.reshape(-1,1),np.log(array).reshape(-1,1), liste_elements,liste_elements3.reshape(-1,1))))"
   ]
  },
  {
   "cell_type": "code",
   "execution_count": 30,
   "metadata": {},
   "outputs": [],
   "source": [
    "preds = gm.predict(np.hstack((array.reshape(-1,1),np.log(array).reshape(-1,1), liste_elements,liste_elements3.reshape(-1,1))))"
   ]
  },
  {
   "cell_type": "code",
   "execution_count": 31,
   "metadata": {},
   "outputs": [
    {
     "data": {
      "text/plain": [
       "(68, 1)"
      ]
     },
     "execution_count": 31,
     "metadata": {},
     "output_type": "execute_result"
    }
   ],
   "source": [
    "array[preds==1].shape"
   ]
  },
  {
   "cell_type": "code",
   "execution_count": 32,
   "metadata": {},
   "outputs": [],
   "source": [
    "test =  np.hstack((np.log(array).reshape(-1,1),liste_elements))"
   ]
  },
  {
   "cell_type": "code",
   "execution_count": 33,
   "metadata": {},
   "outputs": [],
   "source": [
    "gm = GaussianMixture(n_components=2, random_state=0).fit(test)"
   ]
  },
  {
   "cell_type": "code",
   "execution_count": 34,
   "metadata": {},
   "outputs": [],
   "source": [
    "preds = gm.predict(test)"
   ]
  },
  {
   "cell_type": "code",
   "execution_count": 35,
   "metadata": {},
   "outputs": [
    {
     "data": {
      "text/plain": [
       "(718, 1)"
      ]
     },
     "execution_count": 35,
     "metadata": {},
     "output_type": "execute_result"
    }
   ],
   "source": [
    "array[preds==0].shape"
   ]
  },
  {
   "cell_type": "code",
   "execution_count": 36,
   "metadata": {},
   "outputs": [
    {
     "data": {
      "text/plain": [
       "67"
      ]
     },
     "execution_count": 36,
     "metadata": {},
     "output_type": "execute_result"
    }
   ],
   "source": [
    "preds.sum()"
   ]
  },
  {
   "cell_type": "code",
   "execution_count": 37,
   "metadata": {},
   "outputs": [
    {
     "data": {
      "text/plain": [
       "16"
      ]
     },
     "execution_count": 37,
     "metadata": {},
     "output_type": "execute_result"
    }
   ],
   "source": [
    "((liste_true_==False)&preds).sum()"
   ]
  },
  {
   "cell_type": "code",
   "execution_count": 38,
   "metadata": {},
   "outputs": [
    {
     "data": {
      "text/plain": [
       "16"
      ]
     },
     "execution_count": 38,
     "metadata": {},
     "output_type": "execute_result"
    }
   ],
   "source": [
    "(liste_true_==False).sum()"
   ]
  },
  {
   "cell_type": "code",
   "execution_count": null,
   "metadata": {},
   "outputs": [],
   "source": []
  },
  {
   "cell_type": "code",
   "execution_count": 39,
   "metadata": {},
   "outputs": [],
   "source": [
    "gm = GaussianMixture(n_components=2, random_state=0).fit(liste_elements)"
   ]
  },
  {
   "cell_type": "code",
   "execution_count": 40,
   "metadata": {},
   "outputs": [],
   "source": [
    "preds = gm.predict(liste_elements)"
   ]
  },
  {
   "cell_type": "code",
   "execution_count": null,
   "metadata": {},
   "outputs": [],
   "source": []
  },
  {
   "cell_type": "code",
   "execution_count": 41,
   "metadata": {},
   "outputs": [],
   "source": [
    "gm = GaussianMixture(n_components=2, random_state=0,max_iter=10000, covariance_type='full',\n",
    ").fit(liste_elements)"
   ]
  },
  {
   "cell_type": "code",
   "execution_count": 42,
   "metadata": {},
   "outputs": [],
   "source": [
    "preds = gm.predict(liste_elements)"
   ]
  },
  {
   "cell_type": "code",
   "execution_count": 43,
   "metadata": {},
   "outputs": [
    {
     "data": {
      "text/plain": [
       "(69, 1)"
      ]
     },
     "execution_count": 43,
     "metadata": {},
     "output_type": "execute_result"
    }
   ],
   "source": [
    "array[preds==1].shape"
   ]
  },
  {
   "cell_type": "code",
   "execution_count": 44,
   "metadata": {},
   "outputs": [],
   "source": [
    "from sklearn.cluster import SpectralClustering\n",
    "gm = SpectralClustering(2, n_init=100)\n",
    "preds2 = gm.fit_predict(np.hstack((array.reshape(-1,1),np.log(array).reshape(-1,1),liste_elements3.reshape(-1,1))))"
   ]
  },
  {
   "cell_type": "code",
   "execution_count": 45,
   "metadata": {},
   "outputs": [
    {
     "data": {
      "text/plain": [
       "7"
      ]
     },
     "execution_count": 45,
     "metadata": {},
     "output_type": "execute_result"
    }
   ],
   "source": [
    "(preds2==1).sum()"
   ]
  },
  {
   "cell_type": "code",
   "execution_count": 46,
   "metadata": {},
   "outputs": [],
   "source": [
    "from sklearn.cluster import KMeans\n",
    "from sklearn.cluster import MeanShift\n",
    "from itertools import combinations\n",
    "from sklearn.cluster import AgglomerativeClustering\n",
    "from sklearn.cluster import Birch\n",
    "from sklearn.cluster import BisectingKMeans"
   ]
  },
  {
   "cell_type": "code",
   "execution_count": 47,
   "metadata": {},
   "outputs": [
    {
     "data": {
      "text/plain": [
       "4"
      ]
     },
     "execution_count": 47,
     "metadata": {},
     "output_type": "execute_result"
    }
   ],
   "source": [
    "len([array.reshape(-1,1),np.log(array).reshape(-1,1), liste_elements,liste_elements3.reshape(-1,1)])"
   ]
  },
  {
   "cell_type": "code",
   "execution_count": 48,
   "metadata": {
    "scrolled": true
   },
   "outputs": [
    {
     "name": "stdout",
     "output_type": "stream",
     "text": [
      "KMeans(max_iter=1000, n_clusters=2, n_init='auto', random_state=1)\n",
      "0\n",
      "\n",
      "0 43 16 0.37209302325581395\n",
      "0 43 769 0.034394904458598725\n",
      "\n",
      "1\n",
      "\n",
      "1 19 16 0.8421052631578947\n",
      "1 19 769 0.003821656050955414\n",
      "\n",
      "2 50 16 0.32\n",
      "2 50 769 0.04331210191082802\n",
      "\n",
      "3 44 16 0.36363636363636365\n",
      "3 44 769 0.035668789808917196\n",
      "\n",
      "0\n",
      "1\n",
      "\n",
      "4 19 16 0.8421052631578947\n",
      "4 19 769 0.003821656050955414\n",
      "\n",
      "5 48 16 0.3333333333333333\n",
      "5 48 769 0.04076433121019108\n",
      "\n",
      "0\n",
      "3\n",
      "\n",
      "6 44 16 0.36363636363636365\n",
      "6 44 769 0.035668789808917196\n",
      "\n",
      "1\n",
      "2\n",
      "\n",
      "7 41 16 0.3902439024390244\n",
      "7 41 769 0.03184713375796178\n",
      "\n",
      "1\n",
      "3\n",
      "\n",
      "8 35 16 0.45714285714285713\n",
      "8 35 769 0.024203821656050957\n",
      "\n",
      "9 48 16 0.3333333333333333\n",
      "9 48 769 0.04076433121019108\n",
      "\n",
      "8 41 16 0.3902439024390244\n",
      "8 41 769 0.03184713375796178\n",
      "\n",
      "9 41 16 0.3902439024390244\n",
      "9 41 769 0.03184713375796178\n",
      "\n",
      "10 48 16 0.3333333333333333\n",
      "10 48 769 0.04076433121019108\n",
      "\n",
      "11 41 16 0.3902439024390244\n",
      "11 41 769 0.03184713375796178\n",
      "\n",
      "12 41 16 0.3902439024390244\n",
      "12 41 769 0.03184713375796178\n",
      "\n"
     ]
    }
   ],
   "source": [
    "combis = []\n",
    "res = [array.reshape(-1,1).tolist(),np.log(array).reshape(-1,1).tolist(), liste_elements.tolist(),liste_elements3.reshape(-1,1).tolist()]\n",
    "for i in range(1,5):\n",
    "    combis.append(combinations([array.reshape(-1,1),np.log(array).reshape(-1,1), liste_elements,liste_elements3.reshape(-1,1)],i))\n",
    "from copy import deepcopy\n",
    "maximum = 0\n",
    "for gm in [KMeans(n_clusters=2, random_state=1, n_init=\"auto\",max_iter=1000),]:\n",
    "    print(gm)\n",
    "    for i in range(1,5):\n",
    "        combi_ = deepcopy(combis)[i-1]\n",
    "        for index,j in enumerate(combi_):\n",
    "            preds2 = gm.fit_predict(np.hstack(j))\n",
    "            a,b =(preds2==0), (preds2==1)\n",
    "            if a.sum()<b.sum():\n",
    "                c = a\n",
    "            else:\n",
    "                c = b\n",
    "            value = ((liste_true_==False)&c).sum()/((liste_true_==False)|c).sum()\n",
    "            if maximum<= value or index+(i-1)*4==6:\n",
    "                maximum = value\n",
    "                inputs = j\n",
    "                for iop,p in enumerate(inputs):\n",
    "                    if p.tolist() in res:\n",
    "                        print(res.index(p.tolist()))\n",
    "                print()\n",
    "            print(index+(i-1)*4,c.sum(),(liste_true_==False).sum(),((liste_true_==False)&c).sum()/((liste_true_==False)|c).sum())\n",
    "            print(index+(i-1)*4,c.sum(),(liste_true_==True).sum(),((liste_true_==True)&c).sum()/((liste_true_==True)|c).sum())\n",
    "            print()"
   ]
  },
  {
   "cell_type": "code",
   "execution_count": 69,
   "metadata": {},
   "outputs": [
    {
     "data": {
      "text/plain": [
       "array([8.1784215e-12, 8.1784215e-12, 8.1784215e-12, 8.1784215e-12,\n",
       "       8.1784215e-12, 8.1784215e-12, 1.0000000e+00, 8.1784215e-12,\n",
       "       8.1784215e-12, 8.1784215e-12], dtype=float32)"
      ]
     },
     "execution_count": 69,
     "metadata": {},
     "output_type": "execute_result"
    }
   ],
   "source": [
    "inputs[-1][0]"
   ]
  },
  {
   "cell_type": "code",
   "execution_count": 67,
   "metadata": {},
   "outputs": [
    {
     "data": {
      "text/plain": [
       "array([[-9.39560652e-11],\n",
       "       [-1.09308340e-10],\n",
       "       [-1.33883127e-10],\n",
       "       [-2.78172152e-10],\n",
       "       [-3.27661676e-10],\n",
       "       [-6.07671136e-10],\n",
       "       [-6.67753075e-10],\n",
       "       [-7.65491781e-10],\n",
       "       [-9.46755563e-10],\n",
       "       [-1.63668101e-09],\n",
       "       [-1.64151781e-09],\n",
       "       [-1.65838610e-09],\n",
       "       [-1.73440906e-09],\n",
       "       [-1.92089256e-09],\n",
       "       [-1.92761762e-09],\n",
       "       [-2.10317852e-09],\n",
       "       [-2.30628028e-09],\n",
       "       [-2.32832065e-09],\n",
       "       [-2.81497515e-09],\n",
       "       [-3.35998141e-09],\n",
       "       [-3.75134369e-09],\n",
       "       [-3.77454513e-09],\n",
       "       [-4.12781987e-09],\n",
       "       [-4.27167547e-09],\n",
       "       [-5.03281817e-09],\n",
       "       [-5.41347946e-09],\n",
       "       [-5.90841600e-09],\n",
       "       [-6.21836451e-09],\n",
       "       [-7.10140305e-09],\n",
       "       [-7.86478796e-09],\n",
       "       [-9.02729895e-09],\n",
       "       [-1.05139018e-08],\n",
       "       [-1.05279741e-08],\n",
       "       [-1.06035571e-08],\n",
       "       [-1.06682920e-08],\n",
       "       [-1.07891135e-08],\n",
       "       [-1.08687361e-08],\n",
       "       [-1.19046008e-08],\n",
       "       [-1.32027651e-08],\n",
       "       [-1.54394311e-08],\n",
       "       [-1.75987971e-08],\n",
       "       [-1.77152693e-08],\n",
       "       [-1.78025168e-08],\n",
       "       [-1.87197173e-08],\n",
       "       [-1.87960882e-08],\n",
       "       [-2.14901146e-08],\n",
       "       [-2.19266099e-08],\n",
       "       [-2.33027553e-08],\n",
       "       [-2.41613751e-08],\n",
       "       [-2.42467024e-08],\n",
       "       [-2.43857378e-08],\n",
       "       [-2.46249723e-08],\n",
       "       [-2.48641587e-08],\n",
       "       [-2.68676761e-08],\n",
       "       [-2.80248286e-08],\n",
       "       [-2.90738775e-08],\n",
       "       [-3.07672501e-08],\n",
       "       [-3.13395390e-08],\n",
       "       [-3.18510799e-08],\n",
       "       [-3.22170024e-08],\n",
       "       [-3.29444170e-08],\n",
       "       [-3.31364554e-08],\n",
       "       [-3.48394309e-08],\n",
       "       [-3.50629676e-08],\n",
       "       [-3.53305829e-08],\n",
       "       [-3.55362992e-08],\n",
       "       [-3.72475384e-08],\n",
       "       [-3.86201506e-08],\n",
       "       [-3.92519084e-08],\n",
       "       [-4.12317362e-08],\n",
       "       [-4.60882674e-08],\n",
       "       [-5.16284331e-08],\n",
       "       [-5.26788924e-08],\n",
       "       [-5.39161604e-08],\n",
       "       [-5.67200190e-08],\n",
       "       [-5.79133541e-08],\n",
       "       [-5.80373119e-08],\n",
       "       [-5.93231561e-08],\n",
       "       [-6.26359479e-08],\n",
       "       [-6.28523082e-08],\n",
       "       [-6.34162945e-08],\n",
       "       [-6.42882156e-08],\n",
       "       [-6.44744062e-08],\n",
       "       [-6.46156408e-08],\n",
       "       [-6.66074129e-08],\n",
       "       [-6.83647059e-08],\n",
       "       [-6.89748774e-08],\n",
       "       [-6.90949875e-08],\n",
       "       [-7.19708027e-08],\n",
       "       [-7.36440740e-08],\n",
       "       [-7.67441719e-08],\n",
       "       [-7.78210066e-08],\n",
       "       [-7.81591182e-08],\n",
       "       [-7.91811488e-08],\n",
       "       [-8.12216498e-08],\n",
       "       [-8.12389444e-08],\n",
       "       [-8.21808044e-08],\n",
       "       [-8.24070269e-08],\n",
       "       [-8.40708765e-08],\n",
       "       [-8.53504716e-08],\n",
       "       [-8.84259564e-08],\n",
       "       [-8.95468659e-08],\n",
       "       [-9.22587376e-08],\n",
       "       [-9.34184712e-08],\n",
       "       [-9.36949504e-08],\n",
       "       [-9.51234398e-08],\n",
       "       [-1.67002426e-07],\n",
       "       [-1.67528953e-07],\n",
       "       [-1.69613173e-07],\n",
       "       [-1.73956352e-07],\n",
       "       [-1.76222329e-07],\n",
       "       [-1.76290769e-07],\n",
       "       [-1.78446612e-07],\n",
       "       [-1.80422660e-07],\n",
       "       [-1.81483387e-07],\n",
       "       [-1.86629109e-07],\n",
       "       [-1.89942313e-07],\n",
       "       [-1.92591585e-07],\n",
       "       [-1.94117348e-07],\n",
       "       [-1.94161146e-07],\n",
       "       [-1.97317348e-07],\n",
       "       [-2.00433448e-07],\n",
       "       [-2.02271991e-07],\n",
       "       [-2.23564712e-07],\n",
       "       [-2.94091080e-07],\n",
       "       [-2.94172594e-07],\n",
       "       [-2.99139487e-07],\n",
       "       [-3.06649156e-07],\n",
       "       [-3.10613245e-07],\n",
       "       [-3.11072995e-07],\n",
       "       [-3.14133104e-07],\n",
       "       [-3.17542572e-07],\n",
       "       [-3.20396111e-07],\n",
       "       [-3.20549020e-07],\n",
       "       [-3.20784636e-07],\n",
       "       [-3.23308427e-07],\n",
       "       [-3.27830776e-07],\n",
       "       [-3.28323097e-07],\n",
       "       [-3.30049829e-07],\n",
       "       [-3.33841797e-07],\n",
       "       [-3.34687769e-07],\n",
       "       [-3.40180890e-07],\n",
       "       [-3.43814321e-07],\n",
       "       [-3.45599062e-07],\n",
       "       [-3.46927948e-07],\n",
       "       [-3.50529490e-07],\n",
       "       [-3.52147708e-07],\n",
       "       [-3.53830700e-07],\n",
       "       [-3.58363252e-07],\n",
       "       [-3.58662419e-07],\n",
       "       [-3.67683640e-07],\n",
       "       [-3.72685804e-07],\n",
       "       [-3.73872012e-07],\n",
       "       [-3.93305925e-07],\n",
       "       [-3.94006690e-07],\n",
       "       [-4.01716989e-07],\n",
       "       [-4.03565366e-07],\n",
       "       [-4.76162711e-07],\n",
       "       [-4.78688207e-07],\n",
       "       [-4.79889479e-07],\n",
       "       [-4.84133523e-07],\n",
       "       [-4.96701887e-07],\n",
       "       [-5.06461731e-07],\n",
       "       [-5.19708806e-07],\n",
       "       [-5.25350856e-07],\n",
       "       [-5.34335982e-07],\n",
       "       [-5.53181280e-07],\n",
       "       [-5.55014083e-07],\n",
       "       [-5.60656417e-07],\n",
       "       [-5.78536287e-07],\n",
       "       [-5.79503194e-07],\n",
       "       [-5.85723626e-07],\n",
       "       [-5.93596269e-07],\n",
       "       [-5.94174026e-07],\n",
       "       [-5.98637257e-07],\n",
       "       [-6.04889635e-07],\n",
       "       [-6.11812425e-07],\n",
       "       [-6.39646601e-07],\n",
       "       [-6.42103032e-07],\n",
       "       [-8.39934557e-07],\n",
       "       [-8.40790335e-07],\n",
       "       [-8.42086649e-07],\n",
       "       [-8.44150520e-07],\n",
       "       [-8.44927797e-07],\n",
       "       [-8.55040128e-07],\n",
       "       [-8.57938801e-07],\n",
       "       [-8.60832017e-07],\n",
       "       [-8.71904149e-07],\n",
       "       [-8.72395901e-07],\n",
       "       [-8.74961700e-07],\n",
       "       [-8.78996730e-07],\n",
       "       [-8.84843871e-07],\n",
       "       [-8.86829412e-07],\n",
       "       [-9.04699220e-07],\n",
       "       [-9.07146500e-07],\n",
       "       [-9.10623783e-07],\n",
       "       [-9.17215004e-07],\n",
       "       [-9.20492766e-07],\n",
       "       [-9.26230882e-07],\n",
       "       [-9.34487502e-07],\n",
       "       [-9.46271484e-07],\n",
       "       [-9.54403163e-07],\n",
       "       [-9.83121936e-07],\n",
       "       [-9.88900865e-07],\n",
       "       [-9.92172545e-07],\n",
       "       [-9.96117933e-07],\n",
       "       [-1.00250122e-06],\n",
       "       [-1.07661197e-06],\n",
       "       [-1.07986807e-06],\n",
       "       [-1.08793415e-06],\n",
       "       [-1.09508255e-06],\n",
       "       [-1.09519294e-06],\n",
       "       [-1.10463384e-06],\n",
       "       [-1.10654014e-06],\n",
       "       [-1.10930227e-06],\n",
       "       [-1.11211364e-06],\n",
       "       [-1.11909219e-06],\n",
       "       [-1.12842486e-06],\n",
       "       [-1.13594638e-06],\n",
       "       [-1.13710792e-06],\n",
       "       [-1.25382621e-06],\n",
       "       [-1.25474128e-06],\n",
       "       [-1.26315103e-06],\n",
       "       [-1.26331634e-06],\n",
       "       [-1.26436635e-06],\n",
       "       [-1.26541784e-06],\n",
       "       [-1.26942052e-06],\n",
       "       [-1.29438149e-06],\n",
       "       [-1.37309121e-06],\n",
       "       [-1.38139239e-06],\n",
       "       [-1.38739233e-06],\n",
       "       [-1.40750865e-06],\n",
       "       [-1.43521061e-06],\n",
       "       [-1.43711213e-06],\n",
       "       [-1.44095350e-06],\n",
       "       [-1.46713433e-06],\n",
       "       [-1.49584730e-06],\n",
       "       [-1.50069241e-06],\n",
       "       [-1.50279993e-06],\n",
       "       [-1.59601723e-06],\n",
       "       [-1.60547688e-06],\n",
       "       [-1.61329808e-06],\n",
       "       [-1.61979483e-06],\n",
       "       [-1.63146956e-06],\n",
       "       [-1.72281943e-06],\n",
       "       [-1.76133517e-06],\n",
       "       [-1.76761773e-06],\n",
       "       [-1.76809885e-06],\n",
       "       [-1.76997423e-06],\n",
       "       [-1.78504138e-06],\n",
       "       [-1.88243644e-06],\n",
       "       [-1.90157812e-06],\n",
       "       [-1.94013433e-06],\n",
       "       [-1.94787617e-06],\n",
       "       [-1.95327266e-06],\n",
       "       [-1.98978955e-06],\n",
       "       [-1.99278020e-06],\n",
       "       [-2.26192537e-06],\n",
       "       [-2.28987483e-06],\n",
       "       [-2.30615387e-06],\n",
       "       [-2.31738431e-06],\n",
       "       [-2.32549746e-06],\n",
       "       [-2.32645880e-06],\n",
       "       [-2.33135188e-06],\n",
       "       [-2.33711808e-06],\n",
       "       [-2.37808581e-06],\n",
       "       [-2.48270430e-06],\n",
       "       [-2.53426106e-06],\n",
       "       [-2.66462439e-06],\n",
       "       [-2.74582635e-06],\n",
       "       [-2.80250697e-06],\n",
       "       [-2.85330907e-06],\n",
       "       [-2.88878732e-06],\n",
       "       [-2.97031102e-06],\n",
       "       [-2.97653241e-06],\n",
       "       [-2.98317400e-06],\n",
       "       [-2.98404848e-06],\n",
       "       [-3.00166994e-06],\n",
       "       [-3.09588449e-06],\n",
       "       [-3.10106770e-06],\n",
       "       [-3.14505860e-06],\n",
       "       [-3.30096896e-06],\n",
       "       [-3.33822300e-06],\n",
       "       [-3.34040760e-06],\n",
       "       [-3.35638151e-06],\n",
       "       [-3.61363959e-06],\n",
       "       [-3.63763479e-06],\n",
       "       [-3.67073312e-06],\n",
       "       [-3.68250062e-06],\n",
       "       [-3.68782480e-06],\n",
       "       [-3.69976715e-06],\n",
       "       [-3.81047857e-06],\n",
       "       [-3.84553505e-06],\n",
       "       [-3.85475005e-06],\n",
       "       [-3.86243391e-06],\n",
       "       [-3.86687952e-06],\n",
       "       [-3.98547036e-06],\n",
       "       [-4.14611713e-06],\n",
       "       [-4.14742772e-06],\n",
       "       [-4.31764829e-06],\n",
       "       [-4.42599639e-06],\n",
       "       [-4.44107445e-06],\n",
       "       [-4.59625790e-06],\n",
       "       [-4.64208642e-06],\n",
       "       [-4.65218318e-06],\n",
       "       [-4.67150676e-06],\n",
       "       [-4.69766383e-06],\n",
       "       [-4.93441894e-06],\n",
       "       [-5.04003947e-06],\n",
       "       [-5.05377375e-06],\n",
       "       [-5.22301661e-06],\n",
       "       [-5.29959107e-06],\n",
       "       [-5.31116621e-06],\n",
       "       [-5.32893500e-06],\n",
       "       [-5.42421321e-06],\n",
       "       [-5.47726040e-06],\n",
       "       [-5.50412005e-06],\n",
       "       [-5.75081822e-06],\n",
       "       [-5.77133778e-06],\n",
       "       [-5.94357243e-06],\n",
       "       [-5.95435313e-06],\n",
       "       [-5.97659164e-06],\n",
       "       [-6.02347154e-06],\n",
       "       [-6.45573891e-06],\n",
       "       [-6.52923427e-06],\n",
       "       [-6.78785182e-06],\n",
       "       [-6.79760069e-06],\n",
       "       [-7.06808260e-06],\n",
       "       [-7.07862637e-06],\n",
       "       [-7.10193581e-06],\n",
       "       [-7.11235316e-06],\n",
       "       [-7.12401106e-06],\n",
       "       [-7.21761899e-06],\n",
       "       [-7.28308260e-06],\n",
       "       [-7.28474106e-06],\n",
       "       [-7.29393105e-06],\n",
       "       [-7.60506646e-06],\n",
       "       [-7.61009051e-06],\n",
       "       [-7.63381195e-06],\n",
       "       [-7.63915887e-06],\n",
       "       [-7.64407469e-06],\n",
       "       [-7.67141228e-06],\n",
       "       [-7.79699985e-06],\n",
       "       [-7.80498158e-06],\n",
       "       [-7.81579547e-06],\n",
       "       [-7.82658117e-06],\n",
       "       [-8.07125252e-06],\n",
       "       [-8.09616904e-06],\n",
       "       [-8.23456412e-06],\n",
       "       [-8.35473384e-06],\n",
       "       [-8.35710762e-06],\n",
       "       [-8.42126883e-06],\n",
       "       [-8.42624195e-06],\n",
       "       [-8.42858844e-06],\n",
       "       [-8.51163895e-06],\n",
       "       [-8.52854009e-06],\n",
       "       [-8.54944574e-06],\n",
       "       [-8.59070042e-06],\n",
       "       [-8.59219654e-06],\n",
       "       [-9.12179348e-06],\n",
       "       [-9.13214717e-06],\n",
       "       [-9.21022001e-06],\n",
       "       [-9.24030883e-06],\n",
       "       [-9.86756277e-06],\n",
       "       [-1.01719579e-05],\n",
       "       [-1.02262784e-05],\n",
       "       [-1.04994178e-05],\n",
       "       [-1.09270431e-05],\n",
       "       [-1.09525372e-05],\n",
       "       [-1.09875582e-05],\n",
       "       [-1.11059053e-05],\n",
       "       [-1.11224845e-05],\n",
       "       [-1.12033895e-05],\n",
       "       [-1.15232961e-05],\n",
       "       [-1.15324419e-05],\n",
       "       [-1.17716918e-05],\n",
       "       [-1.17955278e-05],\n",
       "       [-1.19399037e-05],\n",
       "       [-1.19408869e-05],\n",
       "       [-1.21172579e-05],\n",
       "       [-1.21261974e-05],\n",
       "       [-1.22639249e-05],\n",
       "       [-1.27523263e-05],\n",
       "       [-1.27849216e-05],\n",
       "       [-1.29271248e-05],\n",
       "       [-1.30716026e-05],\n",
       "       [-1.32665882e-05],\n",
       "       [-1.36461676e-05],\n",
       "       [-1.42261451e-05],\n",
       "       [-1.43084617e-05],\n",
       "       [-1.44703263e-05],\n",
       "       [-1.45226240e-05],\n",
       "       [-1.49646576e-05],\n",
       "       [-1.49761645e-05],\n",
       "       [-1.61419157e-05],\n",
       "       [-1.61972384e-05],\n",
       "       [-1.69753330e-05],\n",
       "       [-1.77977199e-05],\n",
       "       [-1.82623626e-05],\n",
       "       [-1.82768381e-05],\n",
       "       [-1.82777039e-05],\n",
       "       [-1.83837219e-05],\n",
       "       [-1.85260706e-05],\n",
       "       [-1.90606588e-05],\n",
       "       [-1.91845320e-05],\n",
       "       [-1.92266307e-05],\n",
       "       [-1.95090033e-05],\n",
       "       [-1.95167413e-05],\n",
       "       [-2.10087510e-05],\n",
       "       [-2.19980193e-05],\n",
       "       [-2.22674607e-05],\n",
       "       [-2.22972249e-05],\n",
       "       [-2.24408523e-05],\n",
       "       [-2.32225975e-05],\n",
       "       [-2.34658619e-05],\n",
       "       [-2.36714623e-05],\n",
       "       [-2.36905798e-05],\n",
       "       [-2.36985143e-05],\n",
       "       [-2.41771631e-05],\n",
       "       [-2.43085560e-05],\n",
       "       [-2.46017389e-05],\n",
       "       [-2.46040472e-05],\n",
       "       [-2.47243461e-05],\n",
       "       [-2.49156801e-05],\n",
       "       [-2.49451732e-05],\n",
       "       [-2.53017097e-05],\n",
       "       [-2.59332883e-05],\n",
       "       [-2.69164084e-05],\n",
       "       [-2.71987337e-05],\n",
       "       [-2.77437885e-05],\n",
       "       [-2.79787164e-05],\n",
       "       [-2.81352841e-05],\n",
       "       [-2.81683351e-05],\n",
       "       [-2.84560010e-05],\n",
       "       [-2.95022764e-05],\n",
       "       [-2.96648650e-05],\n",
       "       [-3.04660844e-05],\n",
       "       [-3.05742396e-05],\n",
       "       [-3.13317250e-05],\n",
       "       [-3.13703640e-05],\n",
       "       [-3.17629529e-05],\n",
       "       [-3.18592793e-05],\n",
       "       [-3.20642430e-05],\n",
       "       [-3.26377849e-05],\n",
       "       [-3.30275543e-05],\n",
       "       [-3.33061616e-05],\n",
       "       [-3.44958898e-05],\n",
       "       [-3.45390945e-05],\n",
       "       [-3.53030191e-05],\n",
       "       [-3.57612844e-05],\n",
       "       [-3.59390251e-05],\n",
       "       [-3.59571532e-05],\n",
       "       [-3.61802522e-05],\n",
       "       [-3.68116234e-05],\n",
       "       [-3.71203751e-05],\n",
       "       [-3.76190292e-05],\n",
       "       [-3.81196078e-05],\n",
       "       [-3.83477854e-05],\n",
       "       [-3.91004651e-05],\n",
       "       [-3.91434114e-05],\n",
       "       [-3.95759198e-05],\n",
       "       [-3.98171433e-05],\n",
       "       [-4.06816471e-05],\n",
       "       [-4.12575027e-05],\n",
       "       [-4.18000200e-05],\n",
       "       [-4.38814641e-05],\n",
       "       [-4.42970122e-05],\n",
       "       [-4.43668541e-05],\n",
       "       [-4.64646437e-05],\n",
       "       [-4.66908750e-05],\n",
       "       [-4.68088620e-05],\n",
       "       [-4.79091177e-05],\n",
       "       [-4.94461565e-05],\n",
       "       [-5.01400573e-05],\n",
       "       [-5.01445247e-05],\n",
       "       [-5.03634183e-05],\n",
       "       [-5.15703650e-05],\n",
       "       [-5.35041618e-05],\n",
       "       [-5.39529501e-05],\n",
       "       [-5.45217845e-05],\n",
       "       [-5.55389597e-05],\n",
       "       [-5.55748884e-05],\n",
       "       [-5.58263491e-05],\n",
       "       [-5.62261048e-05],\n",
       "       [-5.65753217e-05],\n",
       "       [-5.67264615e-05],\n",
       "       [-5.74615042e-05],\n",
       "       [-5.74707810e-05],\n",
       "       [-5.74962578e-05],\n",
       "       [-5.79435800e-05],\n",
       "       [-6.02093933e-05],\n",
       "       [-6.12791482e-05],\n",
       "       [-6.20486971e-05],\n",
       "       [-6.22132429e-05],\n",
       "       [-6.27952832e-05],\n",
       "       [-6.37073535e-05],\n",
       "       [-6.37459671e-05],\n",
       "       [-6.40033395e-05],\n",
       "       [-6.53675816e-05],\n",
       "       [-6.80604717e-05],\n",
       "       [-6.93135225e-05],\n",
       "       [-6.99994562e-05],\n",
       "       [-7.04447593e-05],\n",
       "       [-7.22183977e-05],\n",
       "       [-7.61170959e-05],\n",
       "       [-7.63359712e-05],\n",
       "       [-7.83667201e-05],\n",
       "       [-7.86205492e-05],\n",
       "       [-8.06003663e-05],\n",
       "       [-8.10125857e-05],\n",
       "       [-8.15674139e-05],\n",
       "       [-8.21086578e-05],\n",
       "       [-8.31284779e-05],\n",
       "       [-8.32749356e-05],\n",
       "       [-8.70633667e-05],\n",
       "       [-8.70863587e-05],\n",
       "       [-8.71080556e-05],\n",
       "       [-8.97360514e-05],\n",
       "       [-9.40442624e-05],\n",
       "       [-9.44760104e-05],\n",
       "       [-9.48851812e-05],\n",
       "       [-9.56478034e-05],\n",
       "       [-1.06487234e-04],\n",
       "       [-1.07184635e-04],\n",
       "       [-1.07424741e-04],\n",
       "       [-1.07951433e-04],\n",
       "       [-1.08772940e-04],\n",
       "       [-1.08816341e-04],\n",
       "       [-1.09049593e-04],\n",
       "       [-1.11049783e-04],\n",
       "       [-1.15100818e-04],\n",
       "       [-1.17969154e-04],\n",
       "       [-1.18242642e-04],\n",
       "       [-1.18302283e-04],\n",
       "       [-1.24689832e-04],\n",
       "       [-1.25090461e-04],\n",
       "       [-1.27825522e-04],\n",
       "       [-1.28597341e-04],\n",
       "       [-1.31933150e-04],\n",
       "       [-1.38959702e-04],\n",
       "       [-1.39210664e-04],\n",
       "       [-1.41023949e-04],\n",
       "       [-1.42351782e-04],\n",
       "       [-1.44848193e-04],\n",
       "       [-1.46455917e-04],\n",
       "       [-1.49028856e-04],\n",
       "       [-1.54672016e-04],\n",
       "       [-1.54810899e-04],\n",
       "       [-1.56591152e-04],\n",
       "       [-1.60291238e-04],\n",
       "       [-1.61129079e-04],\n",
       "       [-1.61857606e-04],\n",
       "       [-1.66311132e-04],\n",
       "       [-1.68172701e-04],\n",
       "       [-1.68587663e-04],\n",
       "       [-1.72417713e-04],\n",
       "       [-1.73499429e-04],\n",
       "       [-1.75595036e-04],\n",
       "       [-1.77205322e-04],\n",
       "       [-1.77364331e-04],\n",
       "       [-1.79071940e-04],\n",
       "       [-1.84443867e-04],\n",
       "       [-1.85218261e-04],\n",
       "       [-1.87547863e-04],\n",
       "       [-1.87650556e-04],\n",
       "       [-1.90303690e-04],\n",
       "       [-1.94122782e-04],\n",
       "       [-1.98137393e-04],\n",
       "       [-1.98364738e-04],\n",
       "       [-1.99651171e-04],\n",
       "       [-2.01081362e-04],\n",
       "       [-2.05082310e-04],\n",
       "       [-2.06249257e-04],\n",
       "       [-2.10246712e-04],\n",
       "       [-2.14186104e-04],\n",
       "       [-2.14873391e-04],\n",
       "       [-2.18495930e-04],\n",
       "       [-2.20098635e-04],\n",
       "       [-2.20198068e-04],\n",
       "       [-2.22170987e-04],\n",
       "       [-2.22329647e-04],\n",
       "       [-2.22934759e-04],\n",
       "       [-2.28489022e-04],\n",
       "       [-2.35344050e-04],\n",
       "       [-2.42547831e-04],\n",
       "       [-2.44767667e-04],\n",
       "       [-2.49715173e-04],\n",
       "       [-2.50111480e-04],\n",
       "       [-2.50940881e-04],\n",
       "       [-2.71991972e-04],\n",
       "       [-2.75533064e-04],\n",
       "       [-2.86779366e-04],\n",
       "       [-2.93645746e-04],\n",
       "       [-2.96255050e-04],\n",
       "       [-3.19835613e-04],\n",
       "       [-3.32201686e-04],\n",
       "       [-3.48592119e-04],\n",
       "       [-3.49998823e-04],\n",
       "       [-3.50365066e-04],\n",
       "       [-3.50392074e-04],\n",
       "       [-3.54335702e-04],\n",
       "       [-3.56019475e-04],\n",
       "       [-3.60412319e-04],\n",
       "       [-3.61349608e-04],\n",
       "       [-3.63637286e-04],\n",
       "       [-3.78122873e-04],\n",
       "       [-3.88931425e-04],\n",
       "       [-3.89651890e-04],\n",
       "       [-3.91101115e-04],\n",
       "       [-4.14074806e-04],\n",
       "       [-4.14694019e-04],\n",
       "       [-4.19287011e-04],\n",
       "       [-4.24070109e-04],\n",
       "       [-4.26771818e-04],\n",
       "       [-4.26871964e-04],\n",
       "       [-4.27587016e-04],\n",
       "       [-4.37296811e-04],\n",
       "       [-4.65482968e-04],\n",
       "       [-4.71519277e-04],\n",
       "       [-4.73857392e-04],\n",
       "       [-5.03406744e-04],\n",
       "       [-5.10216516e-04],\n",
       "       [-5.15348860e-04],\n",
       "       [-5.17362671e-04],\n",
       "       [-5.21140522e-04],\n",
       "       [-5.21738490e-04],\n",
       "       [-5.29661076e-04],\n",
       "       [-5.37507294e-04],\n",
       "       [-5.43744070e-04],\n",
       "       [-5.48208016e-04],\n",
       "       [-5.51249832e-04],\n",
       "       [-5.80180029e-04],\n",
       "       [-5.87677001e-04],\n",
       "       [-5.90726268e-04],\n",
       "       [-6.24517445e-04],\n",
       "       [-6.40826009e-04],\n",
       "       [-6.43564621e-04],\n",
       "       [-6.48500340e-04],\n",
       "       [-6.55497948e-04],\n",
       "       [-7.11940462e-04],\n",
       "       [-7.14915455e-04],\n",
       "       [-7.33258959e-04],\n",
       "       [-7.42149947e-04],\n",
       "       [-7.43057346e-04],\n",
       "       [-8.09876015e-04],\n",
       "       [-8.18299595e-04],\n",
       "       [-8.55416642e-04],\n",
       "       [-8.59892578e-04],\n",
       "       [-9.30505455e-04],\n",
       "       [-9.33367177e-04],\n",
       "       [-9.50939604e-04],\n",
       "       [-9.51282098e-04],\n",
       "       [-9.73850256e-04],\n",
       "       [-1.02671725e-03],\n",
       "       [-1.04600016e-03],\n",
       "       [-1.06637401e-03],\n",
       "       [-1.07154576e-03],\n",
       "       [-1.07265753e-03],\n",
       "       [-1.09972828e-03],\n",
       "       [-1.11398159e-03],\n",
       "       [-1.18025043e-03],\n",
       "       [-1.18265091e-03],\n",
       "       [-1.19651074e-03],\n",
       "       [-1.26352860e-03],\n",
       "       [-1.27802533e-03],\n",
       "       [-1.40966172e-03],\n",
       "       [-1.53954444e-03],\n",
       "       [-1.56300794e-03],\n",
       "       [-1.56588224e-03],\n",
       "       [-1.59958820e-03],\n",
       "       [-1.70430623e-03],\n",
       "       [-1.76423020e-03],\n",
       "       [-1.83687371e-03],\n",
       "       [-1.86649989e-03],\n",
       "       [-1.89764320e-03],\n",
       "       [-1.89898931e-03],\n",
       "       [-1.90277887e-03],\n",
       "       [-1.98221137e-03],\n",
       "       [-2.09837873e-03],\n",
       "       [-2.11041141e-03],\n",
       "       [-2.39243056e-03],\n",
       "       [-2.40839063e-03],\n",
       "       [-2.41296459e-03],\n",
       "       [-2.46566255e-03],\n",
       "       [-2.61153257e-03],\n",
       "       [-2.71733734e-03],\n",
       "       [-2.75644520e-03],\n",
       "       [-2.83473195e-03],\n",
       "       [-2.84203235e-03],\n",
       "       [-2.85750953e-03],\n",
       "       [-3.03532137e-03],\n",
       "       [-3.07326671e-03],\n",
       "       [-3.09824129e-03],\n",
       "       [-3.15716257e-03],\n",
       "       [-3.15896724e-03],\n",
       "       [-3.23794736e-03],\n",
       "       [-3.28182848e-03],\n",
       "       [-3.46317282e-03],\n",
       "       [-3.52907623e-03],\n",
       "       [-3.59837199e-03],\n",
       "       [-3.62205785e-03],\n",
       "       [-3.69499484e-03],\n",
       "       [-3.72379366e-03],\n",
       "       [-3.98493325e-03],\n",
       "       [-4.17662971e-03],\n",
       "       [-4.18086164e-03],\n",
       "       [-4.21977742e-03],\n",
       "       [-4.32847254e-03],\n",
       "       [-4.53779753e-03],\n",
       "       [-4.78700548e-03],\n",
       "       [-5.26652439e-03],\n",
       "       [-5.40871453e-03],\n",
       "       [-5.51553722e-03],\n",
       "       [-5.63436560e-03],\n",
       "       [-5.87145612e-03],\n",
       "       [-5.95847424e-03],\n",
       "       [-6.51616417e-03],\n",
       "       [-6.58218097e-03],\n",
       "       [-7.08376942e-03],\n",
       "       [-7.41327088e-03],\n",
       "       [-7.57042412e-03],\n",
       "       [-7.84728862e-03],\n",
       "       [-7.95533229e-03],\n",
       "       [-8.01899843e-03],\n",
       "       [-8.02073348e-03],\n",
       "       [-8.34271125e-03],\n",
       "       [-8.52392800e-03],\n",
       "       [-8.84880312e-03],\n",
       "       [-8.90694652e-03],\n",
       "       [-9.06800851e-03],\n",
       "       [-9.91117582e-03],\n",
       "       [-1.06777102e-02],\n",
       "       [-1.11926254e-02],\n",
       "       [-1.28894690e-02],\n",
       "       [-1.37428707e-02],\n",
       "       [-1.38794966e-02],\n",
       "       [-1.44002484e-02],\n",
       "       [-1.47949830e-02],\n",
       "       [-1.74479857e-02],\n",
       "       [-1.75129846e-02],\n",
       "       [-1.87434554e-02],\n",
       "       [-1.92087051e-02],\n",
       "       [-1.93011966e-02],\n",
       "       [-2.02812385e-02],\n",
       "       [-2.11465321e-02],\n",
       "       [-2.12662853e-02],\n",
       "       [-2.52339188e-02],\n",
       "       [-2.57831179e-02],\n",
       "       [-2.58459821e-02],\n",
       "       [-2.60797255e-02],\n",
       "       [-2.62554623e-02],\n",
       "       [-2.67732888e-02],\n",
       "       [-2.73846351e-02],\n",
       "       [-3.12379375e-02],\n",
       "       [-3.16625200e-02],\n",
       "       [-3.80714834e-02],\n",
       "       [-3.90946195e-02],\n",
       "       [-4.49801534e-02],\n",
       "       [-5.35091572e-02],\n",
       "       [-5.75727001e-02],\n",
       "       [-6.52751327e-02],\n",
       "       [-6.59288019e-02],\n",
       "       [-6.97186887e-02],\n",
       "       [-7.48962387e-02],\n",
       "       [-8.22569132e-02],\n",
       "       [-9.74203348e-02],\n",
       "       [-1.00760601e-01],\n",
       "       [-1.02444932e-01],\n",
       "       [-1.12573907e-01],\n",
       "       [-1.13968648e-01],\n",
       "       [-1.24168389e-01],\n",
       "       [-1.53692782e-01],\n",
       "       [-2.04333618e-01],\n",
       "       [-2.08775535e-01],\n",
       "       [-2.09522799e-01],\n",
       "       [-3.79774600e-01],\n",
       "       [-6.06147766e-01],\n",
       "       [-6.31458938e-01],\n",
       "       [-7.07369030e-01],\n",
       "       [-1.16803169e+00],\n",
       "       [-1.26642179e+00],\n",
       "       [-1.29274642e+00],\n",
       "       [-1.48217404e+00],\n",
       "       [-2.14224911e+00],\n",
       "       [-2.60714531e+00]])"
      ]
     },
     "execution_count": 67,
     "metadata": {},
     "output_type": "execute_result"
    }
   ],
   "source": [
    "np.log(array)"
   ]
  },
  {
   "cell_type": "code",
   "execution_count": 78,
   "metadata": {},
   "outputs": [
    {
     "name": "stdout",
     "output_type": "stream",
     "text": [
      "12 6 7 0.8571428571428571\n"
     ]
    }
   ],
   "source": [
    "X = np.hstack((np.log(array).reshape(-1,1),liste_elements))\n",
    "gm = KMeans(n_clusters=2, random_state=1, n_init=\"auto\",max_iter=1000)\n",
    "preds2 = gm.fit_predict(X)\n",
    "a,b =(preds2==0), (preds2==1)\n",
    "if a.sum()<b.sum():\n",
    "    c = a\n",
    "else:\n",
    "    c = b\n",
    "value = ((liste_true_==False)&c).sum()/((liste_true_==False)|c).sum()\n",
    "print(index+(i-1)*4,c.sum(),(liste_true_==False).sum(),((liste_true_==False)&c).sum()/((liste_true_==False)|c).sum())"
   ]
  },
  {
   "cell_type": "raw",
   "metadata": {},
   "source": [
    "3 epochs      \n",
    "spectral       10\n",
    "kmeans         1 4 7 8 9 11 12\n",
    "agglomerative  1 4 \n",
    "\n",
    "10 epochs     \n",
    "spectral       6\n",
    "kmeans         2 5 6 9 10 \n",
    "agglomerative  1 8 9 \n",
    "\n",
    "25 epochs\n",
    "spectral      0\n",
    "kmeans        0 6 9\n",
    "agglomerative  "
   ]
  },
  {
   "cell_type": "code",
   "execution_count": null,
   "metadata": {
    "scrolled": false
   },
   "outputs": [],
   "source": [
    "\n",
    "maximum = 0\n",
    "for gm in [SpectralClustering(2, n_init=1000),\n",
    "          KMeans(n_clusters=3, random_state=1, n_init=\"auto\",max_iter=1000),\n",
    "          AgglomerativeClustering(n_clusters=2)]:\n",
    "    print(gm)\n",
    "    for i in range(1,5):\n",
    "        combi = combinations([array.reshape(-1,1),np.log(array).reshape(-1,1), liste_elements,liste_elements3.reshape(-1,1)],i)\n",
    "        for j in combi:\n",
    "            preds2 = gm.fit_predict(np.hstack(j))\n",
    "            a,b =(preds2==0), (preds2==1)\n",
    "            if a.sum()<b.sum():\n",
    "                c = a\n",
    "            else:\n",
    "                c = b\n",
    "            value = ((liste_true_==False)&c).sum()/((liste_true_==False)|c).sum()\n",
    "            if maximum<= value:\n",
    "                maximum = value\n",
    "                inputs = j\n",
    "                print()\n",
    "            print(c.sum(),(liste_true_==False).sum(),((liste_true_==False)&c).sum()/((liste_true_==False)|c).sum())"
   ]
  },
  {
   "cell_type": "code",
   "execution_count": 129,
   "metadata": {
    "scrolled": true
   },
   "outputs": [
    {
     "data": {
      "text/plain": [
       "18.0"
      ]
     },
     "execution_count": 129,
     "metadata": {},
     "output_type": "execute_result"
    }
   ],
   "source": [
    "4+4*3/2 + 4*3*2/2/3/2 + 4*3/2"
   ]
  },
  {
   "cell_type": "code",
   "execution_count": 130,
   "metadata": {},
   "outputs": [],
   "source": [
    "indexes = ((preds2==1) & (preds==1))"
   ]
  },
  {
   "cell_type": "code",
   "execution_count": 131,
   "metadata": {},
   "outputs": [
    {
     "data": {
      "text/plain": [
       "20"
      ]
     },
     "execution_count": 131,
     "metadata": {},
     "output_type": "execute_result"
    }
   ],
   "source": [
    "(liste_true_==False).sum()"
   ]
  },
  {
   "cell_type": "code",
   "execution_count": 132,
   "metadata": {},
   "outputs": [
    {
     "data": {
      "text/plain": [
       "20"
      ]
     },
     "execution_count": 132,
     "metadata": {},
     "output_type": "execute_result"
    }
   ],
   "source": [
    "((liste_true_==False)&(preds2==0)).sum()"
   ]
  },
  {
   "cell_type": "code",
   "execution_count": 133,
   "metadata": {},
   "outputs": [
    {
     "data": {
      "text/plain": [
       "20"
      ]
     },
     "execution_count": 133,
     "metadata": {},
     "output_type": "execute_result"
    }
   ],
   "source": [
    "(liste_true_==False).sum()"
   ]
  },
  {
   "cell_type": "code",
   "execution_count": 134,
   "metadata": {},
   "outputs": [
    {
     "data": {
      "text/plain": [
       "82"
      ]
     },
     "execution_count": 134,
     "metadata": {},
     "output_type": "execute_result"
    }
   ],
   "source": [
    "(preds2==0).sum()"
   ]
  },
  {
   "cell_type": "code",
   "execution_count": 135,
   "metadata": {},
   "outputs": [
    {
     "data": {
      "text/plain": [
       "0.9660130718954248"
      ]
     },
     "execution_count": 135,
     "metadata": {},
     "output_type": "execute_result"
    }
   ],
   "source": [
    "1-(57-31)/(liste_true==True).sum()"
   ]
  },
  {
   "cell_type": "code",
   "execution_count": 136,
   "metadata": {},
   "outputs": [],
   "source": [
    "array_ = array[preds2==0]"
   ]
  },
  {
   "cell_type": "code",
   "execution_count": 137,
   "metadata": {},
   "outputs": [
    {
     "name": "stdout",
     "output_type": "stream",
     "text": [
      "0.8264210083758818 True\n",
      "0.8068146378385569 True\n",
      "0.8060491815441596 True\n",
      "0.8058348004693044 True\n",
      "0.8028451758205376 True\n",
      "0.7999489113625273 True\n",
      "0.790140969773601 True\n",
      "0.7883979855821952 True\n",
      "0.7882812069117656 True\n",
      "0.7869391723366783 True\n",
      "0.7805026965021428 True\n",
      "0.77221783776835 True\n",
      "0.7654448108946842 True\n",
      "0.7635613979178333 True\n",
      "0.7618230991693802 True\n",
      "0.7409739671616118 True\n",
      "0.7364757957946452 True\n",
      "0.7359945524971996 True\n",
      "0.7351333878169838 True\n",
      "0.7289090344599182 True\n",
      "0.7249059705284566 True\n",
      "0.7132880080336108 True\n",
      "0.7089754234224315 True\n",
      "0.7082257576251745 True\n",
      "0.7041029665806418 True\n",
      "0.698883087570274 True\n",
      "0.6945220705695381 True\n",
      "0.6924182727170962 True\n",
      "0.6855550601327247 True\n",
      "0.6824037334836687 True\n",
      "0.6564704251838266 True\n",
      "0.6563466336929745 True\n",
      "0.6517839651335805 True\n",
      "0.651025445907916 True\n",
      "0.6500556967310782 True\n",
      "0.6482828195643451 True\n",
      "0.6447570144961675 True\n",
      "0.6323623046070073 True\n",
      "0.6253265104165131 True\n",
      "0.6206160439272712 True\n",
      "0.6090529396624481 True\n",
      "0.6089251868219161 True\n",
      "0.6048891599777669 True\n",
      "0.6031606000815186 True\n",
      "0.5983467804959134 True\n",
      "0.5949430378233278 True\n",
      "0.5934583882407396 True\n",
      "0.5904950205581991 True\n",
      "0.5755427125572894 True\n",
      "0.5737615448074557 True\n",
      "0.5679964942975363 True\n",
      "0.5620029897062037 True\n",
      "0.5616203385179713 True\n",
      "0.5367396671987449 True\n",
      "0.5173780146789848 True\n",
      "0.5052525182650888 True\n",
      "0.50278314700974 True\n",
      "0.47858081426344834 True\n",
      "0.46842262440530563 True\n",
      "0.468402438561587 True\n",
      "0.46646002310625573 True\n",
      "0.4573996722920121 True\n",
      "0.45254650850608535 True\n",
      "0.424653021535596 True\n",
      "0.4185952811935821 True\n",
      "0.41543928387804324 True\n",
      "0.39723298082174213 True\n",
      "0.37565102779594944 True\n",
      "0.36351797559827936 True\n",
      "0.2893625171994303 True\n",
      "0.2578964345201212 True\n",
      "0.23833364907186666 True\n",
      "0.2362842621966837 True\n",
      "0.22725280677887652 True\n",
      "0.22464239820203294 True\n",
      "0.22150116334234754 True\n",
      "0.19206802331317513 True\n",
      "0.1832508072076901 True\n",
      "0.1748309618371143 True\n",
      "0.167961751796405 True\n",
      "0.14904585447880475 True\n",
      "0.12293621915972476 True\n"
     ]
    }
   ],
   "source": [
    "minimum = np.inf\n",
    "for index,i in enumerate(array_):\n",
    "    if i.max()< minimum:\n",
    "        minimum = i.max()\n",
    "    print(minimum, liste_true_[index])"
   ]
  },
  {
   "cell_type": "code",
   "execution_count": 138,
   "metadata": {},
   "outputs": [
    {
     "data": {
      "text/plain": [
       "(785, 10)"
      ]
     },
     "execution_count": 138,
     "metadata": {},
     "output_type": "execute_result"
    }
   ],
   "source": [
    "liste_elements.shape"
   ]
  },
  {
   "cell_type": "code",
   "execution_count": 139,
   "metadata": {},
   "outputs": [
    {
     "data": {
      "text/plain": [
       "744"
      ]
     },
     "execution_count": 139,
     "metadata": {},
     "output_type": "execute_result"
    }
   ],
   "source": [
    "count = 0\n",
    "for i in liste_elements:\n",
    "    if i.max()>0.5:\n",
    "        count +=1\n",
    "count"
   ]
  },
  {
   "cell_type": "code",
   "execution_count": 140,
   "metadata": {},
   "outputs": [
    {
     "data": {
      "text/plain": [
       "(710, 1)"
      ]
     },
     "execution_count": 140,
     "metadata": {},
     "output_type": "execute_result"
    }
   ],
   "source": [
    "array[preds==0].shape"
   ]
  },
  {
   "cell_type": "code",
   "execution_count": null,
   "metadata": {},
   "outputs": [],
   "source": []
  },
  {
   "cell_type": "code",
   "execution_count": null,
   "metadata": {},
   "outputs": [],
   "source": []
  },
  {
   "cell_type": "code",
   "execution_count": null,
   "metadata": {},
   "outputs": [],
   "source": []
  },
  {
   "cell_type": "code",
   "execution_count": null,
   "metadata": {},
   "outputs": [],
   "source": []
  },
  {
   "cell_type": "code",
   "execution_count": null,
   "metadata": {},
   "outputs": [],
   "source": []
  },
  {
   "cell_type": "code",
   "execution_count": null,
   "metadata": {},
   "outputs": [],
   "source": []
  },
  {
   "cell_type": "code",
   "execution_count": null,
   "metadata": {},
   "outputs": [],
   "source": []
  },
  {
   "cell_type": "code",
   "execution_count": null,
   "metadata": {},
   "outputs": [],
   "source": []
  },
  {
   "cell_type": "code",
   "execution_count": null,
   "metadata": {},
   "outputs": [],
   "source": []
  },
  {
   "cell_type": "code",
   "execution_count": null,
   "metadata": {},
   "outputs": [],
   "source": []
  },
  {
   "cell_type": "code",
   "execution_count": null,
   "metadata": {},
   "outputs": [],
   "source": []
  },
  {
   "cell_type": "code",
   "execution_count": null,
   "metadata": {},
   "outputs": [],
   "source": []
  },
  {
   "cell_type": "code",
   "execution_count": null,
   "metadata": {},
   "outputs": [],
   "source": []
  },
  {
   "cell_type": "code",
   "execution_count": null,
   "metadata": {},
   "outputs": [],
   "source": []
  },
  {
   "cell_type": "code",
   "execution_count": null,
   "metadata": {},
   "outputs": [],
   "source": []
  },
  {
   "cell_type": "code",
   "execution_count": null,
   "metadata": {},
   "outputs": [],
   "source": []
  },
  {
   "cell_type": "code",
   "execution_count": null,
   "metadata": {},
   "outputs": [],
   "source": []
  },
  {
   "cell_type": "code",
   "execution_count": null,
   "metadata": {},
   "outputs": [],
   "source": []
  },
  {
   "cell_type": "code",
   "execution_count": null,
   "metadata": {},
   "outputs": [],
   "source": []
  },
  {
   "cell_type": "code",
   "execution_count": null,
   "metadata": {},
   "outputs": [],
   "source": []
  },
  {
   "cell_type": "code",
   "execution_count": null,
   "metadata": {},
   "outputs": [],
   "source": [
    "\n"
   ]
  }
 ],
 "metadata": {
  "kernelspec": {
   "display_name": "Python 3 (ipykernel)",
   "language": "python",
   "name": "python3"
  },
  "language_info": {
   "codemirror_mode": {
    "name": "ipython",
    "version": 3
   },
   "file_extension": ".py",
   "mimetype": "text/x-python",
   "name": "python",
   "nbconvert_exporter": "python",
   "pygments_lexer": "ipython3",
   "version": "3.8.17"
  }
 },
 "nbformat": 4,
 "nbformat_minor": 4
}
